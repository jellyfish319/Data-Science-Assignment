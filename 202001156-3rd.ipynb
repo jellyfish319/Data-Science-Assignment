{
 "cells": [
  {
   "cell_type": "code",
   "execution_count": 1,
   "metadata": {},
   "outputs": [],
   "source": [
    "# 202001156 정보통계학과 김수영 3주차 과제\n",
    "\n",
    "import time\n",
    "import mechanize\n",
    "import http.cookiejar\n",
    "import re\n",
    "import pandas as pd\n",
    "import seaborn as sns\n",
    "import matplotlib.pyplot as plt\n",
    "from sklearn.linear_model import LinearRegression\n",
    "import scipy"
   ]
  },
  {
   "cell_type": "code",
   "execution_count": 2,
   "metadata": {},
   "outputs": [
    {
     "name": "stdout",
     "output_type": "stream",
     "text": [
      "waiting...  https://www.weather.go.kr/w/obs-climate/land/past-obs/obs-by-day.do?stn=108&yy=2020&mm=1&obs=1\n"
     ]
    },
    {
     "name": "stderr",
     "output_type": "stream",
     "text": [
      "C:\\Users\\김수영\\AppData\\Local\\Temp\\ipykernel_47064\\1601655101.py:29: FutureWarning: The frame.append method is deprecated and will be removed from pandas in a future version. Use pandas.concat instead.\n",
      "  df = df.append(tem, ignore_index = True)\n"
     ]
    },
    {
     "name": "stdout",
     "output_type": "stream",
     "text": [
      "waiting...  https://www.weather.go.kr/w/obs-climate/land/past-obs/obs-by-day.do?stn=108&yy=2020&mm=2&obs=1\n"
     ]
    },
    {
     "name": "stderr",
     "output_type": "stream",
     "text": [
      "C:\\Users\\김수영\\AppData\\Local\\Temp\\ipykernel_47064\\1601655101.py:29: FutureWarning: The frame.append method is deprecated and will be removed from pandas in a future version. Use pandas.concat instead.\n",
      "  df = df.append(tem, ignore_index = True)\n"
     ]
    },
    {
     "name": "stdout",
     "output_type": "stream",
     "text": [
      "waiting...  https://www.weather.go.kr/w/obs-climate/land/past-obs/obs-by-day.do?stn=108&yy=2020&mm=3&obs=1\n"
     ]
    },
    {
     "name": "stderr",
     "output_type": "stream",
     "text": [
      "C:\\Users\\김수영\\AppData\\Local\\Temp\\ipykernel_47064\\1601655101.py:29: FutureWarning: The frame.append method is deprecated and will be removed from pandas in a future version. Use pandas.concat instead.\n",
      "  df = df.append(tem, ignore_index = True)\n"
     ]
    },
    {
     "name": "stdout",
     "output_type": "stream",
     "text": [
      "waiting...  https://www.weather.go.kr/w/obs-climate/land/past-obs/obs-by-day.do?stn=108&yy=2020&mm=4&obs=1\n"
     ]
    },
    {
     "name": "stderr",
     "output_type": "stream",
     "text": [
      "C:\\Users\\김수영\\AppData\\Local\\Temp\\ipykernel_47064\\1601655101.py:29: FutureWarning: The frame.append method is deprecated and will be removed from pandas in a future version. Use pandas.concat instead.\n",
      "  df = df.append(tem, ignore_index = True)\n"
     ]
    },
    {
     "name": "stdout",
     "output_type": "stream",
     "text": [
      "waiting...  https://www.weather.go.kr/w/obs-climate/land/past-obs/obs-by-day.do?stn=108&yy=2020&mm=5&obs=1\n"
     ]
    },
    {
     "name": "stderr",
     "output_type": "stream",
     "text": [
      "C:\\Users\\김수영\\AppData\\Local\\Temp\\ipykernel_47064\\1601655101.py:29: FutureWarning: The frame.append method is deprecated and will be removed from pandas in a future version. Use pandas.concat instead.\n",
      "  df = df.append(tem, ignore_index = True)\n"
     ]
    },
    {
     "name": "stdout",
     "output_type": "stream",
     "text": [
      "waiting...  https://www.weather.go.kr/w/obs-climate/land/past-obs/obs-by-day.do?stn=108&yy=2020&mm=6&obs=1\n"
     ]
    },
    {
     "name": "stderr",
     "output_type": "stream",
     "text": [
      "C:\\Users\\김수영\\AppData\\Local\\Temp\\ipykernel_47064\\1601655101.py:29: FutureWarning: The frame.append method is deprecated and will be removed from pandas in a future version. Use pandas.concat instead.\n",
      "  df = df.append(tem, ignore_index = True)\n"
     ]
    },
    {
     "name": "stdout",
     "output_type": "stream",
     "text": [
      "waiting...  https://www.weather.go.kr/w/obs-climate/land/past-obs/obs-by-day.do?stn=108&yy=2020&mm=7&obs=1\n"
     ]
    },
    {
     "name": "stderr",
     "output_type": "stream",
     "text": [
      "C:\\Users\\김수영\\AppData\\Local\\Temp\\ipykernel_47064\\1601655101.py:29: FutureWarning: The frame.append method is deprecated and will be removed from pandas in a future version. Use pandas.concat instead.\n",
      "  df = df.append(tem, ignore_index = True)\n"
     ]
    },
    {
     "name": "stdout",
     "output_type": "stream",
     "text": [
      "waiting...  https://www.weather.go.kr/w/obs-climate/land/past-obs/obs-by-day.do?stn=108&yy=2020&mm=8&obs=1\n"
     ]
    },
    {
     "name": "stderr",
     "output_type": "stream",
     "text": [
      "C:\\Users\\김수영\\AppData\\Local\\Temp\\ipykernel_47064\\1601655101.py:29: FutureWarning: The frame.append method is deprecated and will be removed from pandas in a future version. Use pandas.concat instead.\n",
      "  df = df.append(tem, ignore_index = True)\n"
     ]
    },
    {
     "name": "stdout",
     "output_type": "stream",
     "text": [
      "waiting...  https://www.weather.go.kr/w/obs-climate/land/past-obs/obs-by-day.do?stn=108&yy=2020&mm=9&obs=1\n"
     ]
    },
    {
     "name": "stderr",
     "output_type": "stream",
     "text": [
      "C:\\Users\\김수영\\AppData\\Local\\Temp\\ipykernel_47064\\1601655101.py:29: FutureWarning: The frame.append method is deprecated and will be removed from pandas in a future version. Use pandas.concat instead.\n",
      "  df = df.append(tem, ignore_index = True)\n"
     ]
    },
    {
     "name": "stdout",
     "output_type": "stream",
     "text": [
      "waiting...  https://www.weather.go.kr/w/obs-climate/land/past-obs/obs-by-day.do?stn=108&yy=2020&mm=10&obs=1\n"
     ]
    },
    {
     "name": "stderr",
     "output_type": "stream",
     "text": [
      "C:\\Users\\김수영\\AppData\\Local\\Temp\\ipykernel_47064\\1601655101.py:29: FutureWarning: The frame.append method is deprecated and will be removed from pandas in a future version. Use pandas.concat instead.\n",
      "  df = df.append(tem, ignore_index = True)\n"
     ]
    },
    {
     "name": "stdout",
     "output_type": "stream",
     "text": [
      "waiting...  https://www.weather.go.kr/w/obs-climate/land/past-obs/obs-by-day.do?stn=108&yy=2020&mm=11&obs=1\n"
     ]
    },
    {
     "name": "stderr",
     "output_type": "stream",
     "text": [
      "C:\\Users\\김수영\\AppData\\Local\\Temp\\ipykernel_47064\\1601655101.py:29: FutureWarning: The frame.append method is deprecated and will be removed from pandas in a future version. Use pandas.concat instead.\n",
      "  df = df.append(tem, ignore_index = True)\n"
     ]
    },
    {
     "name": "stdout",
     "output_type": "stream",
     "text": [
      "waiting...  https://www.weather.go.kr/w/obs-climate/land/past-obs/obs-by-day.do?stn=108&yy=2020&mm=12&obs=1\n"
     ]
    },
    {
     "name": "stderr",
     "output_type": "stream",
     "text": [
      "C:\\Users\\김수영\\AppData\\Local\\Temp\\ipykernel_47064\\1601655101.py:29: FutureWarning: The frame.append method is deprecated and will be removed from pandas in a future version. Use pandas.concat instead.\n",
      "  df = df.append(tem, ignore_index = True)\n"
     ]
    },
    {
     "name": "stdout",
     "output_type": "stream",
     "text": [
      "waiting...  https://www.weather.go.kr/w/obs-climate/land/past-obs/obs-by-day.do?stn=108&yy=2021&mm=1&obs=1\n"
     ]
    },
    {
     "name": "stderr",
     "output_type": "stream",
     "text": [
      "C:\\Users\\김수영\\AppData\\Local\\Temp\\ipykernel_47064\\1601655101.py:29: FutureWarning: The frame.append method is deprecated and will be removed from pandas in a future version. Use pandas.concat instead.\n",
      "  df = df.append(tem, ignore_index = True)\n"
     ]
    },
    {
     "name": "stdout",
     "output_type": "stream",
     "text": [
      "waiting...  https://www.weather.go.kr/w/obs-climate/land/past-obs/obs-by-day.do?stn=108&yy=2021&mm=2&obs=1\n"
     ]
    },
    {
     "name": "stderr",
     "output_type": "stream",
     "text": [
      "C:\\Users\\김수영\\AppData\\Local\\Temp\\ipykernel_47064\\1601655101.py:29: FutureWarning: The frame.append method is deprecated and will be removed from pandas in a future version. Use pandas.concat instead.\n",
      "  df = df.append(tem, ignore_index = True)\n"
     ]
    },
    {
     "name": "stdout",
     "output_type": "stream",
     "text": [
      "waiting...  https://www.weather.go.kr/w/obs-climate/land/past-obs/obs-by-day.do?stn=108&yy=2021&mm=3&obs=1\n"
     ]
    },
    {
     "name": "stderr",
     "output_type": "stream",
     "text": [
      "C:\\Users\\김수영\\AppData\\Local\\Temp\\ipykernel_47064\\1601655101.py:29: FutureWarning: The frame.append method is deprecated and will be removed from pandas in a future version. Use pandas.concat instead.\n",
      "  df = df.append(tem, ignore_index = True)\n"
     ]
    },
    {
     "name": "stdout",
     "output_type": "stream",
     "text": [
      "waiting...  https://www.weather.go.kr/w/obs-climate/land/past-obs/obs-by-day.do?stn=108&yy=2021&mm=4&obs=1\n"
     ]
    },
    {
     "name": "stderr",
     "output_type": "stream",
     "text": [
      "C:\\Users\\김수영\\AppData\\Local\\Temp\\ipykernel_47064\\1601655101.py:29: FutureWarning: The frame.append method is deprecated and will be removed from pandas in a future version. Use pandas.concat instead.\n",
      "  df = df.append(tem, ignore_index = True)\n"
     ]
    },
    {
     "name": "stdout",
     "output_type": "stream",
     "text": [
      "waiting...  https://www.weather.go.kr/w/obs-climate/land/past-obs/obs-by-day.do?stn=108&yy=2021&mm=5&obs=1\n"
     ]
    },
    {
     "name": "stderr",
     "output_type": "stream",
     "text": [
      "C:\\Users\\김수영\\AppData\\Local\\Temp\\ipykernel_47064\\1601655101.py:29: FutureWarning: The frame.append method is deprecated and will be removed from pandas in a future version. Use pandas.concat instead.\n",
      "  df = df.append(tem, ignore_index = True)\n"
     ]
    },
    {
     "name": "stdout",
     "output_type": "stream",
     "text": [
      "waiting...  https://www.weather.go.kr/w/obs-climate/land/past-obs/obs-by-day.do?stn=108&yy=2021&mm=6&obs=1\n"
     ]
    },
    {
     "name": "stderr",
     "output_type": "stream",
     "text": [
      "C:\\Users\\김수영\\AppData\\Local\\Temp\\ipykernel_47064\\1601655101.py:29: FutureWarning: The frame.append method is deprecated and will be removed from pandas in a future version. Use pandas.concat instead.\n",
      "  df = df.append(tem, ignore_index = True)\n"
     ]
    },
    {
     "name": "stdout",
     "output_type": "stream",
     "text": [
      "waiting...  https://www.weather.go.kr/w/obs-climate/land/past-obs/obs-by-day.do?stn=108&yy=2021&mm=7&obs=1\n"
     ]
    },
    {
     "name": "stderr",
     "output_type": "stream",
     "text": [
      "C:\\Users\\김수영\\AppData\\Local\\Temp\\ipykernel_47064\\1601655101.py:29: FutureWarning: The frame.append method is deprecated and will be removed from pandas in a future version. Use pandas.concat instead.\n",
      "  df = df.append(tem, ignore_index = True)\n"
     ]
    },
    {
     "name": "stdout",
     "output_type": "stream",
     "text": [
      "waiting...  https://www.weather.go.kr/w/obs-climate/land/past-obs/obs-by-day.do?stn=108&yy=2021&mm=8&obs=1\n"
     ]
    },
    {
     "name": "stderr",
     "output_type": "stream",
     "text": [
      "C:\\Users\\김수영\\AppData\\Local\\Temp\\ipykernel_47064\\1601655101.py:29: FutureWarning: The frame.append method is deprecated and will be removed from pandas in a future version. Use pandas.concat instead.\n",
      "  df = df.append(tem, ignore_index = True)\n"
     ]
    },
    {
     "name": "stdout",
     "output_type": "stream",
     "text": [
      "waiting...  https://www.weather.go.kr/w/obs-climate/land/past-obs/obs-by-day.do?stn=108&yy=2021&mm=9&obs=1\n"
     ]
    },
    {
     "name": "stderr",
     "output_type": "stream",
     "text": [
      "C:\\Users\\김수영\\AppData\\Local\\Temp\\ipykernel_47064\\1601655101.py:29: FutureWarning: The frame.append method is deprecated and will be removed from pandas in a future version. Use pandas.concat instead.\n",
      "  df = df.append(tem, ignore_index = True)\n"
     ]
    },
    {
     "name": "stdout",
     "output_type": "stream",
     "text": [
      "waiting...  https://www.weather.go.kr/w/obs-climate/land/past-obs/obs-by-day.do?stn=108&yy=2021&mm=10&obs=1\n"
     ]
    },
    {
     "name": "stderr",
     "output_type": "stream",
     "text": [
      "C:\\Users\\김수영\\AppData\\Local\\Temp\\ipykernel_47064\\1601655101.py:29: FutureWarning: The frame.append method is deprecated and will be removed from pandas in a future version. Use pandas.concat instead.\n",
      "  df = df.append(tem, ignore_index = True)\n"
     ]
    },
    {
     "name": "stdout",
     "output_type": "stream",
     "text": [
      "waiting...  https://www.weather.go.kr/w/obs-climate/land/past-obs/obs-by-day.do?stn=108&yy=2021&mm=11&obs=1\n"
     ]
    },
    {
     "name": "stderr",
     "output_type": "stream",
     "text": [
      "C:\\Users\\김수영\\AppData\\Local\\Temp\\ipykernel_47064\\1601655101.py:29: FutureWarning: The frame.append method is deprecated and will be removed from pandas in a future version. Use pandas.concat instead.\n",
      "  df = df.append(tem, ignore_index = True)\n"
     ]
    },
    {
     "name": "stdout",
     "output_type": "stream",
     "text": [
      "waiting...  https://www.weather.go.kr/w/obs-climate/land/past-obs/obs-by-day.do?stn=108&yy=2021&mm=12&obs=1\n"
     ]
    },
    {
     "name": "stderr",
     "output_type": "stream",
     "text": [
      "C:\\Users\\김수영\\AppData\\Local\\Temp\\ipykernel_47064\\1601655101.py:29: FutureWarning: The frame.append method is deprecated and will be removed from pandas in a future version. Use pandas.concat instead.\n",
      "  df = df.append(tem, ignore_index = True)\n"
     ]
    },
    {
     "name": "stdout",
     "output_type": "stream",
     "text": [
      "waiting...  https://www.weather.go.kr/w/obs-climate/land/past-obs/obs-by-day.do?stn=108&yy=2022&mm=1&obs=1\n"
     ]
    },
    {
     "name": "stderr",
     "output_type": "stream",
     "text": [
      "C:\\Users\\김수영\\AppData\\Local\\Temp\\ipykernel_47064\\1601655101.py:29: FutureWarning: The frame.append method is deprecated and will be removed from pandas in a future version. Use pandas.concat instead.\n",
      "  df = df.append(tem, ignore_index = True)\n"
     ]
    },
    {
     "name": "stdout",
     "output_type": "stream",
     "text": [
      "waiting...  https://www.weather.go.kr/w/obs-climate/land/past-obs/obs-by-day.do?stn=108&yy=2022&mm=2&obs=1\n"
     ]
    },
    {
     "name": "stderr",
     "output_type": "stream",
     "text": [
      "C:\\Users\\김수영\\AppData\\Local\\Temp\\ipykernel_47064\\1601655101.py:29: FutureWarning: The frame.append method is deprecated and will be removed from pandas in a future version. Use pandas.concat instead.\n",
      "  df = df.append(tem, ignore_index = True)\n"
     ]
    },
    {
     "name": "stdout",
     "output_type": "stream",
     "text": [
      "waiting...  https://www.weather.go.kr/w/obs-climate/land/past-obs/obs-by-day.do?stn=108&yy=2022&mm=3&obs=1\n"
     ]
    },
    {
     "name": "stderr",
     "output_type": "stream",
     "text": [
      "C:\\Users\\김수영\\AppData\\Local\\Temp\\ipykernel_47064\\1601655101.py:29: FutureWarning: The frame.append method is deprecated and will be removed from pandas in a future version. Use pandas.concat instead.\n",
      "  df = df.append(tem, ignore_index = True)\n"
     ]
    },
    {
     "name": "stdout",
     "output_type": "stream",
     "text": [
      "waiting...  https://www.weather.go.kr/w/obs-climate/land/past-obs/obs-by-day.do?stn=108&yy=2022&mm=4&obs=1\n"
     ]
    },
    {
     "name": "stderr",
     "output_type": "stream",
     "text": [
      "C:\\Users\\김수영\\AppData\\Local\\Temp\\ipykernel_47064\\1601655101.py:29: FutureWarning: The frame.append method is deprecated and will be removed from pandas in a future version. Use pandas.concat instead.\n",
      "  df = df.append(tem, ignore_index = True)\n"
     ]
    },
    {
     "name": "stdout",
     "output_type": "stream",
     "text": [
      "waiting...  https://www.weather.go.kr/w/obs-climate/land/past-obs/obs-by-day.do?stn=108&yy=2022&mm=5&obs=1\n"
     ]
    },
    {
     "name": "stderr",
     "output_type": "stream",
     "text": [
      "C:\\Users\\김수영\\AppData\\Local\\Temp\\ipykernel_47064\\1601655101.py:29: FutureWarning: The frame.append method is deprecated and will be removed from pandas in a future version. Use pandas.concat instead.\n",
      "  df = df.append(tem, ignore_index = True)\n"
     ]
    },
    {
     "name": "stdout",
     "output_type": "stream",
     "text": [
      "waiting...  https://www.weather.go.kr/w/obs-climate/land/past-obs/obs-by-day.do?stn=108&yy=2022&mm=6&obs=1\n"
     ]
    },
    {
     "name": "stderr",
     "output_type": "stream",
     "text": [
      "C:\\Users\\김수영\\AppData\\Local\\Temp\\ipykernel_47064\\1601655101.py:29: FutureWarning: The frame.append method is deprecated and will be removed from pandas in a future version. Use pandas.concat instead.\n",
      "  df = df.append(tem, ignore_index = True)\n"
     ]
    },
    {
     "name": "stdout",
     "output_type": "stream",
     "text": [
      "waiting...  https://www.weather.go.kr/w/obs-climate/land/past-obs/obs-by-day.do?stn=108&yy=2022&mm=7&obs=1\n"
     ]
    },
    {
     "name": "stderr",
     "output_type": "stream",
     "text": [
      "C:\\Users\\김수영\\AppData\\Local\\Temp\\ipykernel_47064\\1601655101.py:29: FutureWarning: The frame.append method is deprecated and will be removed from pandas in a future version. Use pandas.concat instead.\n",
      "  df = df.append(tem, ignore_index = True)\n"
     ]
    },
    {
     "name": "stdout",
     "output_type": "stream",
     "text": [
      "waiting...  https://www.weather.go.kr/w/obs-climate/land/past-obs/obs-by-day.do?stn=108&yy=2022&mm=8&obs=1\n"
     ]
    },
    {
     "name": "stderr",
     "output_type": "stream",
     "text": [
      "C:\\Users\\김수영\\AppData\\Local\\Temp\\ipykernel_47064\\1601655101.py:29: FutureWarning: The frame.append method is deprecated and will be removed from pandas in a future version. Use pandas.concat instead.\n",
      "  df = df.append(tem, ignore_index = True)\n"
     ]
    },
    {
     "name": "stdout",
     "output_type": "stream",
     "text": [
      "waiting...  https://www.weather.go.kr/w/obs-climate/land/past-obs/obs-by-day.do?stn=108&yy=2022&mm=9&obs=1\n"
     ]
    },
    {
     "name": "stderr",
     "output_type": "stream",
     "text": [
      "C:\\Users\\김수영\\AppData\\Local\\Temp\\ipykernel_47064\\1601655101.py:29: FutureWarning: The frame.append method is deprecated and will be removed from pandas in a future version. Use pandas.concat instead.\n",
      "  df = df.append(tem, ignore_index = True)\n"
     ]
    },
    {
     "name": "stdout",
     "output_type": "stream",
     "text": [
      "waiting...  https://www.weather.go.kr/w/obs-climate/land/past-obs/obs-by-day.do?stn=108&yy=2022&mm=10&obs=1\n"
     ]
    },
    {
     "name": "stderr",
     "output_type": "stream",
     "text": [
      "C:\\Users\\김수영\\AppData\\Local\\Temp\\ipykernel_47064\\1601655101.py:29: FutureWarning: The frame.append method is deprecated and will be removed from pandas in a future version. Use pandas.concat instead.\n",
      "  df = df.append(tem, ignore_index = True)\n"
     ]
    },
    {
     "name": "stdout",
     "output_type": "stream",
     "text": [
      "waiting...  https://www.weather.go.kr/w/obs-climate/land/past-obs/obs-by-day.do?stn=108&yy=2022&mm=11&obs=1\n"
     ]
    },
    {
     "name": "stderr",
     "output_type": "stream",
     "text": [
      "C:\\Users\\김수영\\AppData\\Local\\Temp\\ipykernel_47064\\1601655101.py:29: FutureWarning: The frame.append method is deprecated and will be removed from pandas in a future version. Use pandas.concat instead.\n",
      "  df = df.append(tem, ignore_index = True)\n"
     ]
    },
    {
     "name": "stdout",
     "output_type": "stream",
     "text": [
      "waiting...  https://www.weather.go.kr/w/obs-climate/land/past-obs/obs-by-day.do?stn=108&yy=2022&mm=12&obs=1\n"
     ]
    },
    {
     "name": "stderr",
     "output_type": "stream",
     "text": [
      "C:\\Users\\김수영\\AppData\\Local\\Temp\\ipykernel_47064\\1601655101.py:29: FutureWarning: The frame.append method is deprecated and will be removed from pandas in a future version. Use pandas.concat instead.\n",
      "  df = df.append(tem, ignore_index = True)\n"
     ]
    },
    {
     "name": "stdout",
     "output_type": "stream",
     "text": [
      "waiting...  https://www.weather.go.kr/w/obs-climate/land/past-obs/obs-by-day.do?stn=108&yy=2023&mm=1&obs=1\n"
     ]
    },
    {
     "name": "stderr",
     "output_type": "stream",
     "text": [
      "C:\\Users\\김수영\\AppData\\Local\\Temp\\ipykernel_47064\\1601655101.py:29: FutureWarning: The frame.append method is deprecated and will be removed from pandas in a future version. Use pandas.concat instead.\n",
      "  df = df.append(tem, ignore_index = True)\n"
     ]
    },
    {
     "name": "stdout",
     "output_type": "stream",
     "text": [
      "waiting...  https://www.weather.go.kr/w/obs-climate/land/past-obs/obs-by-day.do?stn=108&yy=2023&mm=2&obs=1\n"
     ]
    },
    {
     "name": "stderr",
     "output_type": "stream",
     "text": [
      "C:\\Users\\김수영\\AppData\\Local\\Temp\\ipykernel_47064\\1601655101.py:29: FutureWarning: The frame.append method is deprecated and will be removed from pandas in a future version. Use pandas.concat instead.\n",
      "  df = df.append(tem, ignore_index = True)\n"
     ]
    },
    {
     "name": "stdout",
     "output_type": "stream",
     "text": [
      "waiting...  https://www.weather.go.kr/w/obs-climate/land/past-obs/obs-by-day.do?stn=108&yy=2023&mm=3&obs=1\n"
     ]
    },
    {
     "name": "stderr",
     "output_type": "stream",
     "text": [
      "C:\\Users\\김수영\\AppData\\Local\\Temp\\ipykernel_47064\\1601655101.py:29: FutureWarning: The frame.append method is deprecated and will be removed from pandas in a future version. Use pandas.concat instead.\n",
      "  df = df.append(tem, ignore_index = True)\n"
     ]
    },
    {
     "name": "stdout",
     "output_type": "stream",
     "text": [
      "waiting...  https://www.weather.go.kr/w/obs-climate/land/past-obs/obs-by-day.do?stn=108&yy=2023&mm=4&obs=1\n"
     ]
    },
    {
     "name": "stderr",
     "output_type": "stream",
     "text": [
      "C:\\Users\\김수영\\AppData\\Local\\Temp\\ipykernel_47064\\1601655101.py:29: FutureWarning: The frame.append method is deprecated and will be removed from pandas in a future version. Use pandas.concat instead.\n",
      "  df = df.append(tem, ignore_index = True)\n"
     ]
    },
    {
     "name": "stdout",
     "output_type": "stream",
     "text": [
      "waiting...  https://www.weather.go.kr/w/obs-climate/land/past-obs/obs-by-day.do?stn=108&yy=2023&mm=5&obs=1\n"
     ]
    },
    {
     "name": "stderr",
     "output_type": "stream",
     "text": [
      "C:\\Users\\김수영\\AppData\\Local\\Temp\\ipykernel_47064\\1601655101.py:29: FutureWarning: The frame.append method is deprecated and will be removed from pandas in a future version. Use pandas.concat instead.\n",
      "  df = df.append(tem, ignore_index = True)\n"
     ]
    },
    {
     "name": "stdout",
     "output_type": "stream",
     "text": [
      "waiting...  https://www.weather.go.kr/w/obs-climate/land/past-obs/obs-by-day.do?stn=108&yy=2023&mm=6&obs=1\n"
     ]
    },
    {
     "name": "stderr",
     "output_type": "stream",
     "text": [
      "C:\\Users\\김수영\\AppData\\Local\\Temp\\ipykernel_47064\\1601655101.py:29: FutureWarning: The frame.append method is deprecated and will be removed from pandas in a future version. Use pandas.concat instead.\n",
      "  df = df.append(tem, ignore_index = True)\n"
     ]
    },
    {
     "name": "stdout",
     "output_type": "stream",
     "text": [
      "waiting...  https://www.weather.go.kr/w/obs-climate/land/past-obs/obs-by-day.do?stn=108&yy=2023&mm=7&obs=1\n"
     ]
    },
    {
     "name": "stderr",
     "output_type": "stream",
     "text": [
      "C:\\Users\\김수영\\AppData\\Local\\Temp\\ipykernel_47064\\1601655101.py:29: FutureWarning: The frame.append method is deprecated and will be removed from pandas in a future version. Use pandas.concat instead.\n",
      "  df = df.append(tem, ignore_index = True)\n"
     ]
    },
    {
     "name": "stdout",
     "output_type": "stream",
     "text": [
      "waiting...  https://www.weather.go.kr/w/obs-climate/land/past-obs/obs-by-day.do?stn=108&yy=2023&mm=8&obs=1\n"
     ]
    },
    {
     "name": "stderr",
     "output_type": "stream",
     "text": [
      "C:\\Users\\김수영\\AppData\\Local\\Temp\\ipykernel_47064\\1601655101.py:29: FutureWarning: The frame.append method is deprecated and will be removed from pandas in a future version. Use pandas.concat instead.\n",
      "  df = df.append(tem, ignore_index = True)\n"
     ]
    },
    {
     "name": "stdout",
     "output_type": "stream",
     "text": [
      "waiting...  https://www.weather.go.kr/w/obs-climate/land/past-obs/obs-by-day.do?stn=108&yy=2023&mm=9&obs=1\n"
     ]
    },
    {
     "name": "stderr",
     "output_type": "stream",
     "text": [
      "C:\\Users\\김수영\\AppData\\Local\\Temp\\ipykernel_47064\\1601655101.py:29: FutureWarning: The frame.append method is deprecated and will be removed from pandas in a future version. Use pandas.concat instead.\n",
      "  df = df.append(tem, ignore_index = True)\n"
     ]
    },
    {
     "name": "stdout",
     "output_type": "stream",
     "text": [
      "waiting...  https://www.weather.go.kr/w/obs-climate/land/past-obs/obs-by-day.do?stn=108&yy=2023&mm=10&obs=1\n"
     ]
    },
    {
     "name": "stderr",
     "output_type": "stream",
     "text": [
      "C:\\Users\\김수영\\AppData\\Local\\Temp\\ipykernel_47064\\1601655101.py:29: FutureWarning: The frame.append method is deprecated and will be removed from pandas in a future version. Use pandas.concat instead.\n",
      "  df = df.append(tem, ignore_index = True)\n"
     ]
    },
    {
     "name": "stdout",
     "output_type": "stream",
     "text": [
      "waiting...  https://www.weather.go.kr/w/obs-climate/land/past-obs/obs-by-day.do?stn=108&yy=2023&mm=11&obs=1\n"
     ]
    },
    {
     "name": "stderr",
     "output_type": "stream",
     "text": [
      "C:\\Users\\김수영\\AppData\\Local\\Temp\\ipykernel_47064\\1601655101.py:29: FutureWarning: The frame.append method is deprecated and will be removed from pandas in a future version. Use pandas.concat instead.\n",
      "  df = df.append(tem, ignore_index = True)\n"
     ]
    },
    {
     "name": "stdout",
     "output_type": "stream",
     "text": [
      "waiting...  https://www.weather.go.kr/w/obs-climate/land/past-obs/obs-by-day.do?stn=108&yy=2023&mm=12&obs=1\n"
     ]
    },
    {
     "name": "stderr",
     "output_type": "stream",
     "text": [
      "C:\\Users\\김수영\\AppData\\Local\\Temp\\ipykernel_47064\\1601655101.py:29: FutureWarning: The frame.append method is deprecated and will be removed from pandas in a future version. Use pandas.concat instead.\n",
      "  df = df.append(tem, ignore_index = True)\n"
     ]
    }
   ],
   "source": [
    "cj = http.cookiejar.CookieJar()\n",
    "br = mechanize.Browser()\n",
    "br.set_cookiejar(cj)\n",
    "\n",
    "br.open(\"https://www.weather.go.kr/w/obs-climate/land/past-obs/obs-by-day.do\")\n",
    "\n",
    "data = br.response().read().decode('utf-8')\n",
    "\n",
    "df = pd.DataFrame({\"Min\" : [], \"Max\" : []}) \n",
    "\n",
    "for i in range(20,24) :\n",
    "    for j in range(1, 13):\n",
    "        url = \"https://www.weather.go.kr/w/obs-climate/land/past-obs/obs-by-day.do?stn=108&yy=20\"+str(i)+\"&mm=\"+str(j)+\"&obs=1\"\n",
    "        print(\"waiting... \", url)\n",
    "        br.open(url)\n",
    "        data = br.response().read().decode(\"utf-8\")\n",
    "\n",
    "        max_temp = re.findall(\"최고기온:(-*[0-9]+\\.[0-9]+)*\", data)\n",
    "        max_temp_val = [re.findall(\"(-*[0-9]+\\.[0-9]+)*\", text)[0] for text in max_temp]\n",
    "\n",
    "\n",
    "        min_temp = re.findall(\"최저기온:(-*[0-9]+\\.[0-9]+)*\", data)\n",
    "\n",
    "        min_temp_val = [re.findall(\"(-*[0-9]+\\.[0-9]+)*\", text)[0] for text in min_temp]\n",
    "\n",
    "\n",
    "        tem = pd.DataFrame({'Min': min_temp_val, 'Max': max_temp_val}) \n",
    "\n",
    "        df = df.append(tem, ignore_index = True)\n",
    "\n",
    "        time.sleep(1) # 저번 과제에서 수행한 데이터를 크롤링하는 코드"
   ]
  },
  {
   "cell_type": "code",
   "execution_count": 3,
   "metadata": {},
   "outputs": [
    {
     "name": "stdout",
     "output_type": "stream",
     "text": [
      "Mean of Max : 18.301986301369865 \n",
      "Medain of Max : 19.7 \n",
      "Standard deviation of Max : 10.349733012675793 \n",
      "1st quantile of Max : 9.6 \n",
      "3rd quantile of Max : 26.924999999999997 \n",
      "IQR of Max : 17.324999999999996 \n",
      "\n",
      "Mean of Min : 9.571438356164384 \n",
      "Medain of Min : 9.850000000000001 \n",
      "Standard deviation of Min : 10.772484144963823 \n",
      "1st quantile of Min : 0.975 \n",
      "3rd quantile of Min : 19.2 \n",
      "IQR of Min : 18.224999999999998\n"
     ]
    }
   ],
   "source": [
    "df2 = df.drop(950, axis = 0)\n",
    "# 결측치 제거\n",
    "\n",
    "df2[\"Max\"] = df2[\"Max\"].astype(float)\n",
    "df2[\"Min\"] = df2[\"Min\"].astype(float)\n",
    "# 실수형으로 변환\n",
    "\n",
    "# 1.\n",
    "print(\"Mean of Max :\", df2[\"Max\"].mean(),\"\\nMedain of Max :\", df2[\"Max\"].median(),\"\\nStandard deviation of Max :\",df2[\"Max\"].std(),\"\\n1st quantile of Max :\", df2[\"Max\"].quantile(0.25), \"\\n3rd quantile of Max :\",df2[\"Max\"].quantile(0.75), \"\\nIQR of Max :\", df2[\"Max\"].quantile(0.75)-df2[\"Max\"].quantile(0.25),\"\\n\")\n",
    "print(\"Mean of Min :\", df2[\"Min\"].mean(),\"\\nMedain of Min :\", df2[\"Min\"].median(),\"\\nStandard deviation of Min :\",df2[\"Min\"].std(),\"\\n1st quantile of Min :\", df2[\"Min\"].quantile(0.25), \"\\n3rd quantile of Min :\",df2[\"Min\"].quantile(0.75), \"\\nIQR of Min :\", df2[\"Min\"].quantile(0.75)-df2[\"Min\"].quantile(0.25))"
   ]
  },
  {
   "cell_type": "code",
   "execution_count": 4,
   "metadata": {},
   "outputs": [
    {
     "name": "stdout",
     "output_type": "stream",
     "text": [
      "Skewness of Max : -0.42611840505090276 \n",
      "Kurtosis of Max : -0.8026188801615266 \n",
      "\n",
      "Skewness of Min : -0.22666837757856845 \n",
      "Kurtosis of Min : -1.0007756210332244\n"
     ]
    }
   ],
   "source": [
    "# 2.\n",
    "print(\"Skewness of Max :\", df2[\"Max\"].skew(), \"\\nKurtosis of Max :\", df2[\"Max\"].kurt(),\"\\n\")\n",
    "print(\"Skewness of Min :\", df2[\"Min\"].skew(), \"\\nKurtosis of Min :\", df2[\"Min\"].kurt())"
   ]
  },
  {
   "cell_type": "code",
   "execution_count": 33,
   "metadata": {},
   "outputs": [
    {
     "name": "stdout",
     "output_type": "stream",
     "text": [
      "0.9594588896863991\n",
      "0.9594588896863956\n"
     ]
    }
   ],
   "source": [
    "# 3.\n",
    "\n",
    "# pearson correlation coefficient = Cov(x,y)/(sd(x)*sd(y))\n",
    "\n",
    "# use formula\n",
    "print(df2[\"Max\"].cov(df2[\"Min\"])/(df2[\"Max\"].std()*df2[\"Min\"].std()))\n",
    "\n",
    "# use definition\n",
    "meanMax = df2[\"Max\"].mean()\n",
    "meanMin = df2[\"Min\"].mean()\n",
    "sumMaxMin = 0\n",
    "n = len(df2)\n",
    "\n",
    "dfP = pd.DataFrame({\"product\" : []})\n",
    "\n",
    "dfP[\"product\"] = df2['Max']*df2[\"Min\"]\n",
    "\n",
    "for i in dfP[\"product\"] :\n",
    "    sumMaxMin += i\n",
    "\n",
    "cor = (sumMaxMin - n*meanMax*meanMin)/((n-1)*df2[\"Max\"].std()*df2[\"Min\"].std())\n",
    "print(cor)"
   ]
  },
  {
   "cell_type": "code",
   "execution_count": 31,
   "metadata": {},
   "outputs": [
    {
     "name": "stdout",
     "output_type": "stream",
     "text": [
      "waiting...  https://www.weather.go.kr/w/obs-climate/land/past-obs/obs-by-day.do?stn=108&yy=2012&mm=1&obs=1\n"
     ]
    },
    {
     "name": "stderr",
     "output_type": "stream",
     "text": [
      "C:\\Users\\김수영\\AppData\\Local\\Temp\\ipykernel_7372\\2788013698.py:14: FutureWarning: The frame.append method is deprecated and will be removed from pandas in a future version. Use pandas.concat instead.\n",
      "  df2012 = df2012.append(tem, ignore_index = True)\n"
     ]
    },
    {
     "name": "stdout",
     "output_type": "stream",
     "text": [
      "waiting...  https://www.weather.go.kr/w/obs-climate/land/past-obs/obs-by-day.do?stn=108&yy=2012&mm=2&obs=1\n"
     ]
    },
    {
     "name": "stderr",
     "output_type": "stream",
     "text": [
      "C:\\Users\\김수영\\AppData\\Local\\Temp\\ipykernel_7372\\2788013698.py:14: FutureWarning: The frame.append method is deprecated and will be removed from pandas in a future version. Use pandas.concat instead.\n",
      "  df2012 = df2012.append(tem, ignore_index = True)\n"
     ]
    },
    {
     "name": "stdout",
     "output_type": "stream",
     "text": [
      "waiting...  https://www.weather.go.kr/w/obs-climate/land/past-obs/obs-by-day.do?stn=108&yy=2012&mm=3&obs=1\n"
     ]
    },
    {
     "name": "stderr",
     "output_type": "stream",
     "text": [
      "C:\\Users\\김수영\\AppData\\Local\\Temp\\ipykernel_7372\\2788013698.py:14: FutureWarning: The frame.append method is deprecated and will be removed from pandas in a future version. Use pandas.concat instead.\n",
      "  df2012 = df2012.append(tem, ignore_index = True)\n"
     ]
    },
    {
     "name": "stdout",
     "output_type": "stream",
     "text": [
      "waiting...  https://www.weather.go.kr/w/obs-climate/land/past-obs/obs-by-day.do?stn=108&yy=2012&mm=4&obs=1\n"
     ]
    },
    {
     "name": "stderr",
     "output_type": "stream",
     "text": [
      "C:\\Users\\김수영\\AppData\\Local\\Temp\\ipykernel_7372\\2788013698.py:14: FutureWarning: The frame.append method is deprecated and will be removed from pandas in a future version. Use pandas.concat instead.\n",
      "  df2012 = df2012.append(tem, ignore_index = True)\n"
     ]
    },
    {
     "name": "stdout",
     "output_type": "stream",
     "text": [
      "waiting...  https://www.weather.go.kr/w/obs-climate/land/past-obs/obs-by-day.do?stn=108&yy=2012&mm=5&obs=1\n"
     ]
    },
    {
     "name": "stderr",
     "output_type": "stream",
     "text": [
      "C:\\Users\\김수영\\AppData\\Local\\Temp\\ipykernel_7372\\2788013698.py:14: FutureWarning: The frame.append method is deprecated and will be removed from pandas in a future version. Use pandas.concat instead.\n",
      "  df2012 = df2012.append(tem, ignore_index = True)\n"
     ]
    },
    {
     "name": "stdout",
     "output_type": "stream",
     "text": [
      "waiting...  https://www.weather.go.kr/w/obs-climate/land/past-obs/obs-by-day.do?stn=108&yy=2012&mm=6&obs=1\n"
     ]
    },
    {
     "name": "stderr",
     "output_type": "stream",
     "text": [
      "C:\\Users\\김수영\\AppData\\Local\\Temp\\ipykernel_7372\\2788013698.py:14: FutureWarning: The frame.append method is deprecated and will be removed from pandas in a future version. Use pandas.concat instead.\n",
      "  df2012 = df2012.append(tem, ignore_index = True)\n"
     ]
    },
    {
     "name": "stdout",
     "output_type": "stream",
     "text": [
      "waiting...  https://www.weather.go.kr/w/obs-climate/land/past-obs/obs-by-day.do?stn=108&yy=2012&mm=7&obs=1\n"
     ]
    },
    {
     "name": "stderr",
     "output_type": "stream",
     "text": [
      "C:\\Users\\김수영\\AppData\\Local\\Temp\\ipykernel_7372\\2788013698.py:14: FutureWarning: The frame.append method is deprecated and will be removed from pandas in a future version. Use pandas.concat instead.\n",
      "  df2012 = df2012.append(tem, ignore_index = True)\n"
     ]
    },
    {
     "name": "stdout",
     "output_type": "stream",
     "text": [
      "waiting...  https://www.weather.go.kr/w/obs-climate/land/past-obs/obs-by-day.do?stn=108&yy=2012&mm=8&obs=1\n"
     ]
    },
    {
     "name": "stderr",
     "output_type": "stream",
     "text": [
      "C:\\Users\\김수영\\AppData\\Local\\Temp\\ipykernel_7372\\2788013698.py:14: FutureWarning: The frame.append method is deprecated and will be removed from pandas in a future version. Use pandas.concat instead.\n",
      "  df2012 = df2012.append(tem, ignore_index = True)\n"
     ]
    },
    {
     "name": "stdout",
     "output_type": "stream",
     "text": [
      "waiting...  https://www.weather.go.kr/w/obs-climate/land/past-obs/obs-by-day.do?stn=108&yy=2012&mm=9&obs=1\n"
     ]
    },
    {
     "name": "stderr",
     "output_type": "stream",
     "text": [
      "C:\\Users\\김수영\\AppData\\Local\\Temp\\ipykernel_7372\\2788013698.py:14: FutureWarning: The frame.append method is deprecated and will be removed from pandas in a future version. Use pandas.concat instead.\n",
      "  df2012 = df2012.append(tem, ignore_index = True)\n"
     ]
    },
    {
     "name": "stdout",
     "output_type": "stream",
     "text": [
      "waiting...  https://www.weather.go.kr/w/obs-climate/land/past-obs/obs-by-day.do?stn=108&yy=2012&mm=10&obs=1\n"
     ]
    },
    {
     "name": "stderr",
     "output_type": "stream",
     "text": [
      "C:\\Users\\김수영\\AppData\\Local\\Temp\\ipykernel_7372\\2788013698.py:14: FutureWarning: The frame.append method is deprecated and will be removed from pandas in a future version. Use pandas.concat instead.\n",
      "  df2012 = df2012.append(tem, ignore_index = True)\n"
     ]
    },
    {
     "name": "stdout",
     "output_type": "stream",
     "text": [
      "waiting...  https://www.weather.go.kr/w/obs-climate/land/past-obs/obs-by-day.do?stn=108&yy=2012&mm=11&obs=1\n"
     ]
    },
    {
     "name": "stderr",
     "output_type": "stream",
     "text": [
      "C:\\Users\\김수영\\AppData\\Local\\Temp\\ipykernel_7372\\2788013698.py:14: FutureWarning: The frame.append method is deprecated and will be removed from pandas in a future version. Use pandas.concat instead.\n",
      "  df2012 = df2012.append(tem, ignore_index = True)\n"
     ]
    },
    {
     "name": "stdout",
     "output_type": "stream",
     "text": [
      "waiting...  https://www.weather.go.kr/w/obs-climate/land/past-obs/obs-by-day.do?stn=108&yy=2012&mm=12&obs=1\n"
     ]
    },
    {
     "name": "stderr",
     "output_type": "stream",
     "text": [
      "C:\\Users\\김수영\\AppData\\Local\\Temp\\ipykernel_7372\\2788013698.py:14: FutureWarning: The frame.append method is deprecated and will be removed from pandas in a future version. Use pandas.concat instead.\n",
      "  df2012 = df2012.append(tem, ignore_index = True)\n"
     ]
    }
   ],
   "source": [
    "# 4.\n",
    "\n",
    "df2012 = pd.DataFrame({\"Min\" : []}) \n",
    "for j in range(1, 13):\n",
    "        url = \"https://www.weather.go.kr/w/obs-climate/land/past-obs/obs-by-day.do?stn=108&yy=2012\"+\"&mm=\"+str(j)+\"&obs=1\"\n",
    "        print(\"waiting... \", url)\n",
    "        br.open(url)\n",
    "        data = br.response().read().decode(\"utf-8\")\n",
    "\n",
    "        min_temp = re.findall(\"최저기온:(-*[0-9]+\\.[0-9]+)*\", data)\n",
    "        min_temp_val = [re.findall(\"(-*[0-9]+\\.[0-9]+)*\", text)[0] for text in min_temp]\n",
    "\n",
    "\n",
    "        tem = pd.DataFrame({'Min': min_temp_val}) \n",
    "\n",
    "        df2012 = df2012.append(tem, ignore_index = True)\n",
    "\n",
    "        time.sleep(1)"
   ]
  },
  {
   "cell_type": "code",
   "execution_count": 32,
   "metadata": {},
   "outputs": [
    {
     "name": "stdout",
     "output_type": "stream",
     "text": [
      "waiting...  https://www.weather.go.kr/w/obs-climate/land/past-obs/obs-by-day.do?stn=108&yy=2023&mm=1&obs=1\n"
     ]
    },
    {
     "name": "stderr",
     "output_type": "stream",
     "text": [
      "C:\\Users\\김수영\\AppData\\Local\\Temp\\ipykernel_7372\\3859760954.py:14: FutureWarning: The frame.append method is deprecated and will be removed from pandas in a future version. Use pandas.concat instead.\n",
      "  df2023 = df2023.append(tem, ignore_index = True)\n"
     ]
    },
    {
     "name": "stdout",
     "output_type": "stream",
     "text": [
      "waiting...  https://www.weather.go.kr/w/obs-climate/land/past-obs/obs-by-day.do?stn=108&yy=2023&mm=2&obs=1\n"
     ]
    },
    {
     "name": "stderr",
     "output_type": "stream",
     "text": [
      "C:\\Users\\김수영\\AppData\\Local\\Temp\\ipykernel_7372\\3859760954.py:14: FutureWarning: The frame.append method is deprecated and will be removed from pandas in a future version. Use pandas.concat instead.\n",
      "  df2023 = df2023.append(tem, ignore_index = True)\n"
     ]
    },
    {
     "name": "stdout",
     "output_type": "stream",
     "text": [
      "waiting...  https://www.weather.go.kr/w/obs-climate/land/past-obs/obs-by-day.do?stn=108&yy=2023&mm=3&obs=1\n"
     ]
    },
    {
     "name": "stderr",
     "output_type": "stream",
     "text": [
      "C:\\Users\\김수영\\AppData\\Local\\Temp\\ipykernel_7372\\3859760954.py:14: FutureWarning: The frame.append method is deprecated and will be removed from pandas in a future version. Use pandas.concat instead.\n",
      "  df2023 = df2023.append(tem, ignore_index = True)\n"
     ]
    },
    {
     "name": "stdout",
     "output_type": "stream",
     "text": [
      "waiting...  https://www.weather.go.kr/w/obs-climate/land/past-obs/obs-by-day.do?stn=108&yy=2023&mm=4&obs=1\n"
     ]
    },
    {
     "name": "stderr",
     "output_type": "stream",
     "text": [
      "C:\\Users\\김수영\\AppData\\Local\\Temp\\ipykernel_7372\\3859760954.py:14: FutureWarning: The frame.append method is deprecated and will be removed from pandas in a future version. Use pandas.concat instead.\n",
      "  df2023 = df2023.append(tem, ignore_index = True)\n"
     ]
    },
    {
     "name": "stdout",
     "output_type": "stream",
     "text": [
      "waiting...  https://www.weather.go.kr/w/obs-climate/land/past-obs/obs-by-day.do?stn=108&yy=2023&mm=5&obs=1\n"
     ]
    },
    {
     "name": "stderr",
     "output_type": "stream",
     "text": [
      "C:\\Users\\김수영\\AppData\\Local\\Temp\\ipykernel_7372\\3859760954.py:14: FutureWarning: The frame.append method is deprecated and will be removed from pandas in a future version. Use pandas.concat instead.\n",
      "  df2023 = df2023.append(tem, ignore_index = True)\n"
     ]
    },
    {
     "name": "stdout",
     "output_type": "stream",
     "text": [
      "waiting...  https://www.weather.go.kr/w/obs-climate/land/past-obs/obs-by-day.do?stn=108&yy=2023&mm=6&obs=1\n"
     ]
    },
    {
     "name": "stderr",
     "output_type": "stream",
     "text": [
      "C:\\Users\\김수영\\AppData\\Local\\Temp\\ipykernel_7372\\3859760954.py:14: FutureWarning: The frame.append method is deprecated and will be removed from pandas in a future version. Use pandas.concat instead.\n",
      "  df2023 = df2023.append(tem, ignore_index = True)\n"
     ]
    },
    {
     "name": "stdout",
     "output_type": "stream",
     "text": [
      "waiting...  https://www.weather.go.kr/w/obs-climate/land/past-obs/obs-by-day.do?stn=108&yy=2023&mm=7&obs=1\n"
     ]
    },
    {
     "name": "stderr",
     "output_type": "stream",
     "text": [
      "C:\\Users\\김수영\\AppData\\Local\\Temp\\ipykernel_7372\\3859760954.py:14: FutureWarning: The frame.append method is deprecated and will be removed from pandas in a future version. Use pandas.concat instead.\n",
      "  df2023 = df2023.append(tem, ignore_index = True)\n"
     ]
    },
    {
     "name": "stdout",
     "output_type": "stream",
     "text": [
      "waiting...  https://www.weather.go.kr/w/obs-climate/land/past-obs/obs-by-day.do?stn=108&yy=2023&mm=8&obs=1\n"
     ]
    },
    {
     "name": "stderr",
     "output_type": "stream",
     "text": [
      "C:\\Users\\김수영\\AppData\\Local\\Temp\\ipykernel_7372\\3859760954.py:14: FutureWarning: The frame.append method is deprecated and will be removed from pandas in a future version. Use pandas.concat instead.\n",
      "  df2023 = df2023.append(tem, ignore_index = True)\n"
     ]
    },
    {
     "name": "stdout",
     "output_type": "stream",
     "text": [
      "waiting...  https://www.weather.go.kr/w/obs-climate/land/past-obs/obs-by-day.do?stn=108&yy=2023&mm=9&obs=1\n"
     ]
    },
    {
     "name": "stderr",
     "output_type": "stream",
     "text": [
      "C:\\Users\\김수영\\AppData\\Local\\Temp\\ipykernel_7372\\3859760954.py:14: FutureWarning: The frame.append method is deprecated and will be removed from pandas in a future version. Use pandas.concat instead.\n",
      "  df2023 = df2023.append(tem, ignore_index = True)\n"
     ]
    },
    {
     "name": "stdout",
     "output_type": "stream",
     "text": [
      "waiting...  https://www.weather.go.kr/w/obs-climate/land/past-obs/obs-by-day.do?stn=108&yy=2023&mm=10&obs=1\n"
     ]
    },
    {
     "name": "stderr",
     "output_type": "stream",
     "text": [
      "C:\\Users\\김수영\\AppData\\Local\\Temp\\ipykernel_7372\\3859760954.py:14: FutureWarning: The frame.append method is deprecated and will be removed from pandas in a future version. Use pandas.concat instead.\n",
      "  df2023 = df2023.append(tem, ignore_index = True)\n"
     ]
    },
    {
     "name": "stdout",
     "output_type": "stream",
     "text": [
      "waiting...  https://www.weather.go.kr/w/obs-climate/land/past-obs/obs-by-day.do?stn=108&yy=2023&mm=11&obs=1\n"
     ]
    },
    {
     "name": "stderr",
     "output_type": "stream",
     "text": [
      "C:\\Users\\김수영\\AppData\\Local\\Temp\\ipykernel_7372\\3859760954.py:14: FutureWarning: The frame.append method is deprecated and will be removed from pandas in a future version. Use pandas.concat instead.\n",
      "  df2023 = df2023.append(tem, ignore_index = True)\n"
     ]
    },
    {
     "name": "stdout",
     "output_type": "stream",
     "text": [
      "waiting...  https://www.weather.go.kr/w/obs-climate/land/past-obs/obs-by-day.do?stn=108&yy=2023&mm=12&obs=1\n"
     ]
    },
    {
     "name": "stderr",
     "output_type": "stream",
     "text": [
      "C:\\Users\\김수영\\AppData\\Local\\Temp\\ipykernel_7372\\3859760954.py:14: FutureWarning: The frame.append method is deprecated and will be removed from pandas in a future version. Use pandas.concat instead.\n",
      "  df2023 = df2023.append(tem, ignore_index = True)\n"
     ]
    }
   ],
   "source": [
    "df2023 = pd.DataFrame({\"Min\" : []}) \n",
    "for j in range(1, 13):\n",
    "        url = \"https://www.weather.go.kr/w/obs-climate/land/past-obs/obs-by-day.do?stn=108&yy=2023\"+\"&mm=\"+str(j)+\"&obs=1\"\n",
    "        print(\"waiting... \", url)\n",
    "        br.open(url)\n",
    "        data = br.response().read().decode(\"utf-8\")\n",
    "\n",
    "        min_temp = re.findall(\"최저기온:(-*[0-9]+\\.[0-9]+)*\", data)\n",
    "        min_temp_val = [re.findall(\"(-*[0-9]+\\.[0-9]+)*\", text)[0] for text in min_temp]\n",
    "\n",
    "\n",
    "        tem = pd.DataFrame({'Min': min_temp_val}) \n",
    "\n",
    "        df2023 = df2023.append(tem, ignore_index = True)\n",
    "\n",
    "        time.sleep(1)"
   ]
  },
  {
   "cell_type": "code",
   "execution_count": 33,
   "metadata": {},
   "outputs": [
    {
     "name": "stdout",
     "output_type": "stream",
     "text": [
      "Empty DataFrame\n",
      "Columns: [Min]\n",
      "Index: []\n",
      "Empty DataFrame\n",
      "Columns: [Min]\n",
      "Index: []\n"
     ]
    }
   ],
   "source": [
    "print(df2012[df2012[\"Min\"] == \"\"]) \n",
    "print(df2023[df2023[\"Min\"] == \"\"]) \n",
    "# 결측치 확인"
   ]
  },
  {
   "cell_type": "code",
   "execution_count": 34,
   "metadata": {},
   "outputs": [],
   "source": [
    "df2012[\"Min\"] = df2012[\"Min\"].astype(float)\n",
    "df2023[\"Min\"] = df2023[\"Min\"].astype(float)\n",
    "# 실수형으로 변환"
   ]
  },
  {
   "cell_type": "code",
   "execution_count": 35,
   "metadata": {},
   "outputs": [
    {
     "name": "stdout",
     "output_type": "stream",
     "text": [
      "              Min\n",
      "count  365.000000\n",
      "mean    10.066027\n",
      "std     10.926538\n",
      "min    -17.300000\n",
      "25%      0.600000\n",
      "50%     11.100000\n",
      "75%     19.700000\n",
      "max     27.300000\n",
      "              Min\n",
      "count  366.000000\n",
      "mean     8.492896\n",
      "std     11.583129\n",
      "min    -17.100000\n",
      "25%     -0.875000\n",
      "50%     10.100000\n",
      "75%     18.675000\n",
      "max     28.200000\n"
     ]
    }
   ],
   "source": [
    "# 4.\n",
    "\n",
    "# H0 : mean_2023 - mean_2012 == 0\n",
    "# H1 : mean_2023 - mean_2012 != 0\n",
    "# 이를 검정하기 위해 two-sided t-test를 수행할 수 있다.\n",
    "# two-sided t-test를 하기 위해서는 두 모집단 간 독립성이 보장되어야 하고 모집단의 분산이 같다는 등분산 가정이 필요하다\n",
    "# 일반적으로 시계열 데이터에 대해서는 모집단 간 독립성에 대한 보장을 할 수 없다.\n",
    "# 따라서 데이터 간 종속적인 관계를 고려할때 two-sided t-test보단 paried t-test를 사용하는 것이 바람직하다.\n",
    "# H0 : mean_diff == 0\n",
    "# H1 : mean_diff != 0\n",
    "# paired t-test는 데이터 간 관계가 종속적일 경우에 사용할 수 있는 t-test로 임상시험에서 약의 효과를 검증하는 것처럼 같은 객체로 부터 다른 시간에 측정된 데이터의 차이 등을 검정할 때 수행할 수 있다.\n",
    "# paired t-test는 정규성과 등분산성, 차이에 대한 독립성이 가정되어야한다.\n",
    "# 현 데이터는 연도에 따른 날짜별 최저기온 데이터이기에 등분산성과 정규성이 만족된다 가정할 수 있다.\n",
    "# 그러나 객체인 날짜에 대한 연도별 기온의 차이는 서로 종속적이다.\n",
    "# 2012년 1월 1일과 2023년 1월 1일 간 최저기온의 차이와 2012년 1월 2일, 2023년 1월 2일 간 최저기온의 차이는 독립적이라 보기 힘들다.\n",
    "# two-sided t-test와 paired t-test 모두 독립성이라는 조건을 만족하기 어려운 상황이므로 일별 차이를 객체로 사용하는 paired t-test보다는 연도별 최저기온의 평균을 비교하는 two-sided t-test를 통해 가설검정을 수행하는 것이 합리적이라 할 수 있다.\n",
    "# 연도별 차이가 11년정도 나기에 두 연도의 모집단이 서로 독립이라는 가정을 하기에 무리가 없다 하고 이러한 가정을 바탕으로 검정을 수행한다.\n",
    "# 일 간 연도별 최저기온의 차이의 모집단은 기간이 하루밖에 차이가 나지 않으므로 독립성 가정에는 무리가 있다. \n",
    "\n",
    "print(df2023.describe())\n",
    "print(df2012.describe())"
   ]
  },
  {
   "cell_type": "code",
   "execution_count": 48,
   "metadata": {},
   "outputs": [
    {
     "name": "stdout",
     "output_type": "stream",
     "text": [
      "t-statistic: -1.888803589038094\n",
      "p-value: 0.059314865543114825\n",
      "귀무가설 채택\n"
     ]
    }
   ],
   "source": [
    "n1 = len(df2012)\n",
    "n2 = len(df2023)\n",
    "\n",
    "mean1 = df2012[\"Min\"].mean()\n",
    "mean2 = df2023[\"Min\"].mean()\n",
    "std1 = df2012[\"Min\"].std()\n",
    "std2 = df2023[\"Min\"].std()\n",
    "\n",
    "# t-값\n",
    "t_value = (mean1 - mean2) / ((std1**2/n1) + (std2**2/n2))**(1/2)\n",
    "\n",
    "# 자유도\n",
    "df = n1 + n2 - 2\n",
    "\n",
    "# p-value\n",
    "p_value = 2 * (1 - scipy.stats.t.cdf(abs(t_value), df))\n",
    "\n",
    "print(\"t-statistic:\", t_value)\n",
    "print(\"p-value:\", p_value)\n",
    "\n",
    "# 유의수준 0.05에서의 유의성 검정\n",
    "alpha = 0.05\n",
    "if (p_value < alpha):\n",
    "    print(\"귀무가설 기각\")\n",
    "else:\n",
    "    print(\"귀무가설 채택\")\n"
   ]
  },
  {
   "cell_type": "code",
   "execution_count": 30,
   "metadata": {},
   "outputs": [
    {
     "name": "stdout",
     "output_type": "stream",
     "text": [
      "      Min\n",
      "0    -2.6\n",
      "1    -0.9\n",
      "2     2.2\n",
      "3    -3.9\n",
      "4    -4.2\n",
      "..    ...\n",
      "360  -8.5\n",
      "361  -1.8\n",
      "362  -0.4\n",
      "363  -9.8\n",
      "364 -12.2\n",
      "\n",
      "[365 rows x 1 columns]\n"
     ]
    }
   ],
   "source": [
    "\n"
   ]
  }
 ],
 "metadata": {
  "kernelspec": {
   "display_name": "Python 3",
   "language": "python",
   "name": "python3"
  },
  "language_info": {
   "codemirror_mode": {
    "name": "ipython",
    "version": 3
   },
   "file_extension": ".py",
   "mimetype": "text/x-python",
   "name": "python",
   "nbconvert_exporter": "python",
   "pygments_lexer": "ipython3",
   "version": "3.10.9"
  }
 },
 "nbformat": 4,
 "nbformat_minor": 2
}
