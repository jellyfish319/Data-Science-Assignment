{
 "cells": [
  {
   "cell_type": "code",
   "execution_count": 1,
   "metadata": {},
   "outputs": [],
   "source": [
    "# 202001156 정봍통계학과 김수영 2주차 과제\n",
    "\n",
    "import time\n",
    "import mechanize\n",
    "import http.cookiejar\n",
    "import re\n",
    "import pandas as pd\n",
    "import seaborn as sns\n",
    "import matplotlib.pyplot as plt\n",
    "from sklearn.linear_model import LinearRegression"
   ]
  },
  {
   "cell_type": "code",
   "execution_count": 2,
   "metadata": {},
   "outputs": [
    {
     "name": "stdout",
     "output_type": "stream",
     "text": [
      "waiting...  https://www.weather.go.kr/w/obs-climate/land/past-obs/obs-by-day.do?stn=108&yy=2020&mm=1&obs=1\n"
     ]
    },
    {
     "name": "stderr",
     "output_type": "stream",
     "text": [
      "C:\\Users\\김수영\\AppData\\Local\\Temp\\ipykernel_15780\\1601655101.py:29: FutureWarning: The frame.append method is deprecated and will be removed from pandas in a future version. Use pandas.concat instead.\n",
      "  df = df.append(tem, ignore_index = True)\n"
     ]
    },
    {
     "name": "stdout",
     "output_type": "stream",
     "text": [
      "waiting...  https://www.weather.go.kr/w/obs-climate/land/past-obs/obs-by-day.do?stn=108&yy=2020&mm=2&obs=1\n"
     ]
    },
    {
     "name": "stderr",
     "output_type": "stream",
     "text": [
      "C:\\Users\\김수영\\AppData\\Local\\Temp\\ipykernel_15780\\1601655101.py:29: FutureWarning: The frame.append method is deprecated and will be removed from pandas in a future version. Use pandas.concat instead.\n",
      "  df = df.append(tem, ignore_index = True)\n"
     ]
    },
    {
     "name": "stdout",
     "output_type": "stream",
     "text": [
      "waiting...  https://www.weather.go.kr/w/obs-climate/land/past-obs/obs-by-day.do?stn=108&yy=2020&mm=3&obs=1\n"
     ]
    },
    {
     "name": "stderr",
     "output_type": "stream",
     "text": [
      "C:\\Users\\김수영\\AppData\\Local\\Temp\\ipykernel_15780\\1601655101.py:29: FutureWarning: The frame.append method is deprecated and will be removed from pandas in a future version. Use pandas.concat instead.\n",
      "  df = df.append(tem, ignore_index = True)\n"
     ]
    },
    {
     "name": "stdout",
     "output_type": "stream",
     "text": [
      "waiting...  https://www.weather.go.kr/w/obs-climate/land/past-obs/obs-by-day.do?stn=108&yy=2020&mm=4&obs=1\n"
     ]
    },
    {
     "name": "stderr",
     "output_type": "stream",
     "text": [
      "C:\\Users\\김수영\\AppData\\Local\\Temp\\ipykernel_15780\\1601655101.py:29: FutureWarning: The frame.append method is deprecated and will be removed from pandas in a future version. Use pandas.concat instead.\n",
      "  df = df.append(tem, ignore_index = True)\n"
     ]
    },
    {
     "name": "stdout",
     "output_type": "stream",
     "text": [
      "waiting...  https://www.weather.go.kr/w/obs-climate/land/past-obs/obs-by-day.do?stn=108&yy=2020&mm=5&obs=1\n"
     ]
    },
    {
     "name": "stderr",
     "output_type": "stream",
     "text": [
      "C:\\Users\\김수영\\AppData\\Local\\Temp\\ipykernel_15780\\1601655101.py:29: FutureWarning: The frame.append method is deprecated and will be removed from pandas in a future version. Use pandas.concat instead.\n",
      "  df = df.append(tem, ignore_index = True)\n"
     ]
    },
    {
     "name": "stdout",
     "output_type": "stream",
     "text": [
      "waiting...  https://www.weather.go.kr/w/obs-climate/land/past-obs/obs-by-day.do?stn=108&yy=2020&mm=6&obs=1\n"
     ]
    },
    {
     "name": "stderr",
     "output_type": "stream",
     "text": [
      "C:\\Users\\김수영\\AppData\\Local\\Temp\\ipykernel_15780\\1601655101.py:29: FutureWarning: The frame.append method is deprecated and will be removed from pandas in a future version. Use pandas.concat instead.\n",
      "  df = df.append(tem, ignore_index = True)\n"
     ]
    },
    {
     "name": "stdout",
     "output_type": "stream",
     "text": [
      "waiting...  https://www.weather.go.kr/w/obs-climate/land/past-obs/obs-by-day.do?stn=108&yy=2020&mm=7&obs=1\n"
     ]
    },
    {
     "name": "stderr",
     "output_type": "stream",
     "text": [
      "C:\\Users\\김수영\\AppData\\Local\\Temp\\ipykernel_15780\\1601655101.py:29: FutureWarning: The frame.append method is deprecated and will be removed from pandas in a future version. Use pandas.concat instead.\n",
      "  df = df.append(tem, ignore_index = True)\n"
     ]
    },
    {
     "name": "stdout",
     "output_type": "stream",
     "text": [
      "waiting...  https://www.weather.go.kr/w/obs-climate/land/past-obs/obs-by-day.do?stn=108&yy=2020&mm=8&obs=1\n"
     ]
    },
    {
     "name": "stderr",
     "output_type": "stream",
     "text": [
      "C:\\Users\\김수영\\AppData\\Local\\Temp\\ipykernel_15780\\1601655101.py:29: FutureWarning: The frame.append method is deprecated and will be removed from pandas in a future version. Use pandas.concat instead.\n",
      "  df = df.append(tem, ignore_index = True)\n"
     ]
    },
    {
     "name": "stdout",
     "output_type": "stream",
     "text": [
      "waiting...  https://www.weather.go.kr/w/obs-climate/land/past-obs/obs-by-day.do?stn=108&yy=2020&mm=9&obs=1\n"
     ]
    },
    {
     "name": "stderr",
     "output_type": "stream",
     "text": [
      "C:\\Users\\김수영\\AppData\\Local\\Temp\\ipykernel_15780\\1601655101.py:29: FutureWarning: The frame.append method is deprecated and will be removed from pandas in a future version. Use pandas.concat instead.\n",
      "  df = df.append(tem, ignore_index = True)\n"
     ]
    },
    {
     "name": "stdout",
     "output_type": "stream",
     "text": [
      "waiting...  https://www.weather.go.kr/w/obs-climate/land/past-obs/obs-by-day.do?stn=108&yy=2020&mm=10&obs=1\n"
     ]
    },
    {
     "name": "stderr",
     "output_type": "stream",
     "text": [
      "C:\\Users\\김수영\\AppData\\Local\\Temp\\ipykernel_15780\\1601655101.py:29: FutureWarning: The frame.append method is deprecated and will be removed from pandas in a future version. Use pandas.concat instead.\n",
      "  df = df.append(tem, ignore_index = True)\n"
     ]
    },
    {
     "name": "stdout",
     "output_type": "stream",
     "text": [
      "waiting...  https://www.weather.go.kr/w/obs-climate/land/past-obs/obs-by-day.do?stn=108&yy=2020&mm=11&obs=1\n"
     ]
    },
    {
     "name": "stderr",
     "output_type": "stream",
     "text": [
      "C:\\Users\\김수영\\AppData\\Local\\Temp\\ipykernel_15780\\1601655101.py:29: FutureWarning: The frame.append method is deprecated and will be removed from pandas in a future version. Use pandas.concat instead.\n",
      "  df = df.append(tem, ignore_index = True)\n"
     ]
    },
    {
     "name": "stdout",
     "output_type": "stream",
     "text": [
      "waiting...  https://www.weather.go.kr/w/obs-climate/land/past-obs/obs-by-day.do?stn=108&yy=2020&mm=12&obs=1\n"
     ]
    },
    {
     "name": "stderr",
     "output_type": "stream",
     "text": [
      "C:\\Users\\김수영\\AppData\\Local\\Temp\\ipykernel_15780\\1601655101.py:29: FutureWarning: The frame.append method is deprecated and will be removed from pandas in a future version. Use pandas.concat instead.\n",
      "  df = df.append(tem, ignore_index = True)\n"
     ]
    },
    {
     "name": "stdout",
     "output_type": "stream",
     "text": [
      "waiting...  https://www.weather.go.kr/w/obs-climate/land/past-obs/obs-by-day.do?stn=108&yy=2021&mm=1&obs=1\n"
     ]
    },
    {
     "name": "stderr",
     "output_type": "stream",
     "text": [
      "C:\\Users\\김수영\\AppData\\Local\\Temp\\ipykernel_15780\\1601655101.py:29: FutureWarning: The frame.append method is deprecated and will be removed from pandas in a future version. Use pandas.concat instead.\n",
      "  df = df.append(tem, ignore_index = True)\n"
     ]
    },
    {
     "name": "stdout",
     "output_type": "stream",
     "text": [
      "waiting...  https://www.weather.go.kr/w/obs-climate/land/past-obs/obs-by-day.do?stn=108&yy=2021&mm=2&obs=1\n"
     ]
    },
    {
     "name": "stderr",
     "output_type": "stream",
     "text": [
      "C:\\Users\\김수영\\AppData\\Local\\Temp\\ipykernel_15780\\1601655101.py:29: FutureWarning: The frame.append method is deprecated and will be removed from pandas in a future version. Use pandas.concat instead.\n",
      "  df = df.append(tem, ignore_index = True)\n"
     ]
    },
    {
     "name": "stdout",
     "output_type": "stream",
     "text": [
      "waiting...  https://www.weather.go.kr/w/obs-climate/land/past-obs/obs-by-day.do?stn=108&yy=2021&mm=3&obs=1\n"
     ]
    },
    {
     "name": "stderr",
     "output_type": "stream",
     "text": [
      "C:\\Users\\김수영\\AppData\\Local\\Temp\\ipykernel_15780\\1601655101.py:29: FutureWarning: The frame.append method is deprecated and will be removed from pandas in a future version. Use pandas.concat instead.\n",
      "  df = df.append(tem, ignore_index = True)\n"
     ]
    },
    {
     "name": "stdout",
     "output_type": "stream",
     "text": [
      "waiting...  https://www.weather.go.kr/w/obs-climate/land/past-obs/obs-by-day.do?stn=108&yy=2021&mm=4&obs=1\n"
     ]
    },
    {
     "name": "stderr",
     "output_type": "stream",
     "text": [
      "C:\\Users\\김수영\\AppData\\Local\\Temp\\ipykernel_15780\\1601655101.py:29: FutureWarning: The frame.append method is deprecated and will be removed from pandas in a future version. Use pandas.concat instead.\n",
      "  df = df.append(tem, ignore_index = True)\n"
     ]
    },
    {
     "name": "stdout",
     "output_type": "stream",
     "text": [
      "waiting...  https://www.weather.go.kr/w/obs-climate/land/past-obs/obs-by-day.do?stn=108&yy=2021&mm=5&obs=1\n"
     ]
    },
    {
     "name": "stderr",
     "output_type": "stream",
     "text": [
      "C:\\Users\\김수영\\AppData\\Local\\Temp\\ipykernel_15780\\1601655101.py:29: FutureWarning: The frame.append method is deprecated and will be removed from pandas in a future version. Use pandas.concat instead.\n",
      "  df = df.append(tem, ignore_index = True)\n"
     ]
    },
    {
     "name": "stdout",
     "output_type": "stream",
     "text": [
      "waiting...  https://www.weather.go.kr/w/obs-climate/land/past-obs/obs-by-day.do?stn=108&yy=2021&mm=6&obs=1\n"
     ]
    },
    {
     "name": "stderr",
     "output_type": "stream",
     "text": [
      "C:\\Users\\김수영\\AppData\\Local\\Temp\\ipykernel_15780\\1601655101.py:29: FutureWarning: The frame.append method is deprecated and will be removed from pandas in a future version. Use pandas.concat instead.\n",
      "  df = df.append(tem, ignore_index = True)\n"
     ]
    },
    {
     "name": "stdout",
     "output_type": "stream",
     "text": [
      "waiting...  https://www.weather.go.kr/w/obs-climate/land/past-obs/obs-by-day.do?stn=108&yy=2021&mm=7&obs=1\n"
     ]
    },
    {
     "name": "stderr",
     "output_type": "stream",
     "text": [
      "C:\\Users\\김수영\\AppData\\Local\\Temp\\ipykernel_15780\\1601655101.py:29: FutureWarning: The frame.append method is deprecated and will be removed from pandas in a future version. Use pandas.concat instead.\n",
      "  df = df.append(tem, ignore_index = True)\n"
     ]
    },
    {
     "name": "stdout",
     "output_type": "stream",
     "text": [
      "waiting...  https://www.weather.go.kr/w/obs-climate/land/past-obs/obs-by-day.do?stn=108&yy=2021&mm=8&obs=1\n"
     ]
    },
    {
     "name": "stderr",
     "output_type": "stream",
     "text": [
      "C:\\Users\\김수영\\AppData\\Local\\Temp\\ipykernel_15780\\1601655101.py:29: FutureWarning: The frame.append method is deprecated and will be removed from pandas in a future version. Use pandas.concat instead.\n",
      "  df = df.append(tem, ignore_index = True)\n"
     ]
    },
    {
     "name": "stdout",
     "output_type": "stream",
     "text": [
      "waiting...  https://www.weather.go.kr/w/obs-climate/land/past-obs/obs-by-day.do?stn=108&yy=2021&mm=9&obs=1\n"
     ]
    },
    {
     "name": "stderr",
     "output_type": "stream",
     "text": [
      "C:\\Users\\김수영\\AppData\\Local\\Temp\\ipykernel_15780\\1601655101.py:29: FutureWarning: The frame.append method is deprecated and will be removed from pandas in a future version. Use pandas.concat instead.\n",
      "  df = df.append(tem, ignore_index = True)\n"
     ]
    },
    {
     "name": "stdout",
     "output_type": "stream",
     "text": [
      "waiting...  https://www.weather.go.kr/w/obs-climate/land/past-obs/obs-by-day.do?stn=108&yy=2021&mm=10&obs=1\n"
     ]
    },
    {
     "name": "stderr",
     "output_type": "stream",
     "text": [
      "C:\\Users\\김수영\\AppData\\Local\\Temp\\ipykernel_15780\\1601655101.py:29: FutureWarning: The frame.append method is deprecated and will be removed from pandas in a future version. Use pandas.concat instead.\n",
      "  df = df.append(tem, ignore_index = True)\n"
     ]
    },
    {
     "name": "stdout",
     "output_type": "stream",
     "text": [
      "waiting...  https://www.weather.go.kr/w/obs-climate/land/past-obs/obs-by-day.do?stn=108&yy=2021&mm=11&obs=1\n"
     ]
    },
    {
     "name": "stderr",
     "output_type": "stream",
     "text": [
      "C:\\Users\\김수영\\AppData\\Local\\Temp\\ipykernel_15780\\1601655101.py:29: FutureWarning: The frame.append method is deprecated and will be removed from pandas in a future version. Use pandas.concat instead.\n",
      "  df = df.append(tem, ignore_index = True)\n"
     ]
    },
    {
     "name": "stdout",
     "output_type": "stream",
     "text": [
      "waiting...  https://www.weather.go.kr/w/obs-climate/land/past-obs/obs-by-day.do?stn=108&yy=2021&mm=12&obs=1\n"
     ]
    },
    {
     "name": "stderr",
     "output_type": "stream",
     "text": [
      "C:\\Users\\김수영\\AppData\\Local\\Temp\\ipykernel_15780\\1601655101.py:29: FutureWarning: The frame.append method is deprecated and will be removed from pandas in a future version. Use pandas.concat instead.\n",
      "  df = df.append(tem, ignore_index = True)\n"
     ]
    },
    {
     "name": "stdout",
     "output_type": "stream",
     "text": [
      "waiting...  https://www.weather.go.kr/w/obs-climate/land/past-obs/obs-by-day.do?stn=108&yy=2022&mm=1&obs=1\n"
     ]
    },
    {
     "name": "stderr",
     "output_type": "stream",
     "text": [
      "C:\\Users\\김수영\\AppData\\Local\\Temp\\ipykernel_15780\\1601655101.py:29: FutureWarning: The frame.append method is deprecated and will be removed from pandas in a future version. Use pandas.concat instead.\n",
      "  df = df.append(tem, ignore_index = True)\n"
     ]
    },
    {
     "name": "stdout",
     "output_type": "stream",
     "text": [
      "waiting...  https://www.weather.go.kr/w/obs-climate/land/past-obs/obs-by-day.do?stn=108&yy=2022&mm=2&obs=1\n"
     ]
    },
    {
     "name": "stderr",
     "output_type": "stream",
     "text": [
      "C:\\Users\\김수영\\AppData\\Local\\Temp\\ipykernel_15780\\1601655101.py:29: FutureWarning: The frame.append method is deprecated and will be removed from pandas in a future version. Use pandas.concat instead.\n",
      "  df = df.append(tem, ignore_index = True)\n"
     ]
    },
    {
     "name": "stdout",
     "output_type": "stream",
     "text": [
      "waiting...  https://www.weather.go.kr/w/obs-climate/land/past-obs/obs-by-day.do?stn=108&yy=2022&mm=3&obs=1\n"
     ]
    },
    {
     "name": "stderr",
     "output_type": "stream",
     "text": [
      "C:\\Users\\김수영\\AppData\\Local\\Temp\\ipykernel_15780\\1601655101.py:29: FutureWarning: The frame.append method is deprecated and will be removed from pandas in a future version. Use pandas.concat instead.\n",
      "  df = df.append(tem, ignore_index = True)\n"
     ]
    },
    {
     "name": "stdout",
     "output_type": "stream",
     "text": [
      "waiting...  https://www.weather.go.kr/w/obs-climate/land/past-obs/obs-by-day.do?stn=108&yy=2022&mm=4&obs=1\n"
     ]
    },
    {
     "name": "stderr",
     "output_type": "stream",
     "text": [
      "C:\\Users\\김수영\\AppData\\Local\\Temp\\ipykernel_15780\\1601655101.py:29: FutureWarning: The frame.append method is deprecated and will be removed from pandas in a future version. Use pandas.concat instead.\n",
      "  df = df.append(tem, ignore_index = True)\n"
     ]
    },
    {
     "name": "stdout",
     "output_type": "stream",
     "text": [
      "waiting...  https://www.weather.go.kr/w/obs-climate/land/past-obs/obs-by-day.do?stn=108&yy=2022&mm=5&obs=1\n"
     ]
    },
    {
     "name": "stderr",
     "output_type": "stream",
     "text": [
      "C:\\Users\\김수영\\AppData\\Local\\Temp\\ipykernel_15780\\1601655101.py:29: FutureWarning: The frame.append method is deprecated and will be removed from pandas in a future version. Use pandas.concat instead.\n",
      "  df = df.append(tem, ignore_index = True)\n"
     ]
    },
    {
     "name": "stdout",
     "output_type": "stream",
     "text": [
      "waiting...  https://www.weather.go.kr/w/obs-climate/land/past-obs/obs-by-day.do?stn=108&yy=2022&mm=6&obs=1\n"
     ]
    },
    {
     "name": "stderr",
     "output_type": "stream",
     "text": [
      "C:\\Users\\김수영\\AppData\\Local\\Temp\\ipykernel_15780\\1601655101.py:29: FutureWarning: The frame.append method is deprecated and will be removed from pandas in a future version. Use pandas.concat instead.\n",
      "  df = df.append(tem, ignore_index = True)\n"
     ]
    },
    {
     "name": "stdout",
     "output_type": "stream",
     "text": [
      "waiting...  https://www.weather.go.kr/w/obs-climate/land/past-obs/obs-by-day.do?stn=108&yy=2022&mm=7&obs=1\n"
     ]
    },
    {
     "name": "stderr",
     "output_type": "stream",
     "text": [
      "C:\\Users\\김수영\\AppData\\Local\\Temp\\ipykernel_15780\\1601655101.py:29: FutureWarning: The frame.append method is deprecated and will be removed from pandas in a future version. Use pandas.concat instead.\n",
      "  df = df.append(tem, ignore_index = True)\n"
     ]
    },
    {
     "name": "stdout",
     "output_type": "stream",
     "text": [
      "waiting...  https://www.weather.go.kr/w/obs-climate/land/past-obs/obs-by-day.do?stn=108&yy=2022&mm=8&obs=1\n"
     ]
    },
    {
     "name": "stderr",
     "output_type": "stream",
     "text": [
      "C:\\Users\\김수영\\AppData\\Local\\Temp\\ipykernel_15780\\1601655101.py:29: FutureWarning: The frame.append method is deprecated and will be removed from pandas in a future version. Use pandas.concat instead.\n",
      "  df = df.append(tem, ignore_index = True)\n"
     ]
    },
    {
     "name": "stdout",
     "output_type": "stream",
     "text": [
      "waiting...  https://www.weather.go.kr/w/obs-climate/land/past-obs/obs-by-day.do?stn=108&yy=2022&mm=9&obs=1\n"
     ]
    },
    {
     "name": "stderr",
     "output_type": "stream",
     "text": [
      "C:\\Users\\김수영\\AppData\\Local\\Temp\\ipykernel_15780\\1601655101.py:29: FutureWarning: The frame.append method is deprecated and will be removed from pandas in a future version. Use pandas.concat instead.\n",
      "  df = df.append(tem, ignore_index = True)\n"
     ]
    },
    {
     "name": "stdout",
     "output_type": "stream",
     "text": [
      "waiting...  https://www.weather.go.kr/w/obs-climate/land/past-obs/obs-by-day.do?stn=108&yy=2022&mm=10&obs=1\n"
     ]
    },
    {
     "name": "stderr",
     "output_type": "stream",
     "text": [
      "C:\\Users\\김수영\\AppData\\Local\\Temp\\ipykernel_15780\\1601655101.py:29: FutureWarning: The frame.append method is deprecated and will be removed from pandas in a future version. Use pandas.concat instead.\n",
      "  df = df.append(tem, ignore_index = True)\n"
     ]
    },
    {
     "name": "stdout",
     "output_type": "stream",
     "text": [
      "waiting...  https://www.weather.go.kr/w/obs-climate/land/past-obs/obs-by-day.do?stn=108&yy=2022&mm=11&obs=1\n"
     ]
    },
    {
     "name": "stderr",
     "output_type": "stream",
     "text": [
      "C:\\Users\\김수영\\AppData\\Local\\Temp\\ipykernel_15780\\1601655101.py:29: FutureWarning: The frame.append method is deprecated and will be removed from pandas in a future version. Use pandas.concat instead.\n",
      "  df = df.append(tem, ignore_index = True)\n"
     ]
    },
    {
     "name": "stdout",
     "output_type": "stream",
     "text": [
      "waiting...  https://www.weather.go.kr/w/obs-climate/land/past-obs/obs-by-day.do?stn=108&yy=2022&mm=12&obs=1\n"
     ]
    },
    {
     "name": "stderr",
     "output_type": "stream",
     "text": [
      "C:\\Users\\김수영\\AppData\\Local\\Temp\\ipykernel_15780\\1601655101.py:29: FutureWarning: The frame.append method is deprecated and will be removed from pandas in a future version. Use pandas.concat instead.\n",
      "  df = df.append(tem, ignore_index = True)\n"
     ]
    },
    {
     "name": "stdout",
     "output_type": "stream",
     "text": [
      "waiting...  https://www.weather.go.kr/w/obs-climate/land/past-obs/obs-by-day.do?stn=108&yy=2023&mm=1&obs=1\n"
     ]
    },
    {
     "name": "stderr",
     "output_type": "stream",
     "text": [
      "C:\\Users\\김수영\\AppData\\Local\\Temp\\ipykernel_15780\\1601655101.py:29: FutureWarning: The frame.append method is deprecated and will be removed from pandas in a future version. Use pandas.concat instead.\n",
      "  df = df.append(tem, ignore_index = True)\n"
     ]
    },
    {
     "name": "stdout",
     "output_type": "stream",
     "text": [
      "waiting...  https://www.weather.go.kr/w/obs-climate/land/past-obs/obs-by-day.do?stn=108&yy=2023&mm=2&obs=1\n"
     ]
    },
    {
     "name": "stderr",
     "output_type": "stream",
     "text": [
      "C:\\Users\\김수영\\AppData\\Local\\Temp\\ipykernel_15780\\1601655101.py:29: FutureWarning: The frame.append method is deprecated and will be removed from pandas in a future version. Use pandas.concat instead.\n",
      "  df = df.append(tem, ignore_index = True)\n"
     ]
    },
    {
     "name": "stdout",
     "output_type": "stream",
     "text": [
      "waiting...  https://www.weather.go.kr/w/obs-climate/land/past-obs/obs-by-day.do?stn=108&yy=2023&mm=3&obs=1\n"
     ]
    },
    {
     "name": "stderr",
     "output_type": "stream",
     "text": [
      "C:\\Users\\김수영\\AppData\\Local\\Temp\\ipykernel_15780\\1601655101.py:29: FutureWarning: The frame.append method is deprecated and will be removed from pandas in a future version. Use pandas.concat instead.\n",
      "  df = df.append(tem, ignore_index = True)\n"
     ]
    },
    {
     "name": "stdout",
     "output_type": "stream",
     "text": [
      "waiting...  https://www.weather.go.kr/w/obs-climate/land/past-obs/obs-by-day.do?stn=108&yy=2023&mm=4&obs=1\n"
     ]
    },
    {
     "name": "stderr",
     "output_type": "stream",
     "text": [
      "C:\\Users\\김수영\\AppData\\Local\\Temp\\ipykernel_15780\\1601655101.py:29: FutureWarning: The frame.append method is deprecated and will be removed from pandas in a future version. Use pandas.concat instead.\n",
      "  df = df.append(tem, ignore_index = True)\n"
     ]
    },
    {
     "name": "stdout",
     "output_type": "stream",
     "text": [
      "waiting...  https://www.weather.go.kr/w/obs-climate/land/past-obs/obs-by-day.do?stn=108&yy=2023&mm=5&obs=1\n"
     ]
    },
    {
     "name": "stderr",
     "output_type": "stream",
     "text": [
      "C:\\Users\\김수영\\AppData\\Local\\Temp\\ipykernel_15780\\1601655101.py:29: FutureWarning: The frame.append method is deprecated and will be removed from pandas in a future version. Use pandas.concat instead.\n",
      "  df = df.append(tem, ignore_index = True)\n"
     ]
    },
    {
     "name": "stdout",
     "output_type": "stream",
     "text": [
      "waiting...  https://www.weather.go.kr/w/obs-climate/land/past-obs/obs-by-day.do?stn=108&yy=2023&mm=6&obs=1\n"
     ]
    },
    {
     "name": "stderr",
     "output_type": "stream",
     "text": [
      "C:\\Users\\김수영\\AppData\\Local\\Temp\\ipykernel_15780\\1601655101.py:29: FutureWarning: The frame.append method is deprecated and will be removed from pandas in a future version. Use pandas.concat instead.\n",
      "  df = df.append(tem, ignore_index = True)\n"
     ]
    },
    {
     "name": "stdout",
     "output_type": "stream",
     "text": [
      "waiting...  https://www.weather.go.kr/w/obs-climate/land/past-obs/obs-by-day.do?stn=108&yy=2023&mm=7&obs=1\n"
     ]
    },
    {
     "name": "stderr",
     "output_type": "stream",
     "text": [
      "C:\\Users\\김수영\\AppData\\Local\\Temp\\ipykernel_15780\\1601655101.py:29: FutureWarning: The frame.append method is deprecated and will be removed from pandas in a future version. Use pandas.concat instead.\n",
      "  df = df.append(tem, ignore_index = True)\n"
     ]
    },
    {
     "name": "stdout",
     "output_type": "stream",
     "text": [
      "waiting...  https://www.weather.go.kr/w/obs-climate/land/past-obs/obs-by-day.do?stn=108&yy=2023&mm=8&obs=1\n"
     ]
    },
    {
     "name": "stderr",
     "output_type": "stream",
     "text": [
      "C:\\Users\\김수영\\AppData\\Local\\Temp\\ipykernel_15780\\1601655101.py:29: FutureWarning: The frame.append method is deprecated and will be removed from pandas in a future version. Use pandas.concat instead.\n",
      "  df = df.append(tem, ignore_index = True)\n"
     ]
    },
    {
     "name": "stdout",
     "output_type": "stream",
     "text": [
      "waiting...  https://www.weather.go.kr/w/obs-climate/land/past-obs/obs-by-day.do?stn=108&yy=2023&mm=9&obs=1\n"
     ]
    },
    {
     "name": "stderr",
     "output_type": "stream",
     "text": [
      "C:\\Users\\김수영\\AppData\\Local\\Temp\\ipykernel_15780\\1601655101.py:29: FutureWarning: The frame.append method is deprecated and will be removed from pandas in a future version. Use pandas.concat instead.\n",
      "  df = df.append(tem, ignore_index = True)\n"
     ]
    },
    {
     "name": "stdout",
     "output_type": "stream",
     "text": [
      "waiting...  https://www.weather.go.kr/w/obs-climate/land/past-obs/obs-by-day.do?stn=108&yy=2023&mm=10&obs=1\n"
     ]
    },
    {
     "name": "stderr",
     "output_type": "stream",
     "text": [
      "C:\\Users\\김수영\\AppData\\Local\\Temp\\ipykernel_15780\\1601655101.py:29: FutureWarning: The frame.append method is deprecated and will be removed from pandas in a future version. Use pandas.concat instead.\n",
      "  df = df.append(tem, ignore_index = True)\n"
     ]
    },
    {
     "name": "stdout",
     "output_type": "stream",
     "text": [
      "waiting...  https://www.weather.go.kr/w/obs-climate/land/past-obs/obs-by-day.do?stn=108&yy=2023&mm=11&obs=1\n"
     ]
    },
    {
     "name": "stderr",
     "output_type": "stream",
     "text": [
      "C:\\Users\\김수영\\AppData\\Local\\Temp\\ipykernel_15780\\1601655101.py:29: FutureWarning: The frame.append method is deprecated and will be removed from pandas in a future version. Use pandas.concat instead.\n",
      "  df = df.append(tem, ignore_index = True)\n"
     ]
    },
    {
     "name": "stdout",
     "output_type": "stream",
     "text": [
      "waiting...  https://www.weather.go.kr/w/obs-climate/land/past-obs/obs-by-day.do?stn=108&yy=2023&mm=12&obs=1\n"
     ]
    },
    {
     "name": "stderr",
     "output_type": "stream",
     "text": [
      "C:\\Users\\김수영\\AppData\\Local\\Temp\\ipykernel_15780\\1601655101.py:29: FutureWarning: The frame.append method is deprecated and will be removed from pandas in a future version. Use pandas.concat instead.\n",
      "  df = df.append(tem, ignore_index = True)\n"
     ]
    }
   ],
   "source": [
    "cj = http.cookiejar.CookieJar()\n",
    "br = mechanize.Browser()\n",
    "br.set_cookiejar(cj)\n",
    "\n",
    "br.open(\"https://www.weather.go.kr/w/obs-climate/land/past-obs/obs-by-day.do\")\n",
    "\n",
    "data = br.response().read().decode('utf-8')\n",
    "\n",
    "df = pd.DataFrame({\"Min\" : [], \"Max\" : []}) \n",
    "\n",
    "for i in range(20,24) :\n",
    "    for j in range(1, 13):\n",
    "        url = \"https://www.weather.go.kr/w/obs-climate/land/past-obs/obs-by-day.do?stn=108&yy=20\"+str(i)+\"&mm=\"+str(j)+\"&obs=1\"\n",
    "        print(\"waiting... \", url)\n",
    "        br.open(url)\n",
    "        data = br.response().read().decode(\"utf-8\")\n",
    "\n",
    "        max_temp = re.findall(\"최고기온:(-*[0-9]+\\.[0-9]+)*\", data)\n",
    "        max_temp_val = [re.findall(\"(-*[0-9]+\\.[0-9]+)*\", text)[0] for text in max_temp]\n",
    "\n",
    "\n",
    "        min_temp = re.findall(\"최저기온:(-*[0-9]+\\.[0-9]+)*\", data)\n",
    "\n",
    "        min_temp_val = [re.findall(\"(-*[0-9]+\\.[0-9]+)*\", text)[0] for text in min_temp]\n",
    "\n",
    "\n",
    "        tem = pd.DataFrame({'Min': min_temp_val, 'Max': max_temp_val}) \n",
    "\n",
    "        df = df.append(tem, ignore_index = True)\n",
    "\n",
    "        time.sleep(1) # 저번 과제에서 수행한 데이터를 크롤링하는 코드"
   ]
  },
  {
   "cell_type": "code",
   "execution_count": 3,
   "metadata": {},
   "outputs": [
    {
     "data": {
      "text/plain": [
       "<seaborn.axisgrid.JointGrid at 0x25029bc70d0>"
      ]
     },
     "execution_count": 3,
     "metadata": {},
     "output_type": "execute_result"
    },
    {
     "data": {
      "image/png": "[encoded data removed]",
      "text/plain": [
       "<Figure size 600x600 with 3 Axes>"
      ]
     },
     "metadata": {},
     "output_type": "display_data"
    },
    {
     "data": {
      "image/png": "[encoded data removed]",
      "text/plain": [
       "<Figure size 600x600 with 3 Axes>"
      ]
     },
     "metadata": {},
     "output_type": "display_data"
    }
   ],
   "source": [
    "df2 = df.drop(950, axis = 0)\n",
    "# 결측치 제거\n",
    "\n",
    "df2[\"Max\"] = df2[\"Max\"].astype(float)\n",
    "df2[\"Min\"] = df2[\"Min\"].astype(float)\n",
    "# 실수형으로 변환\n",
    "\n",
    "# 문제1.\n",
    "\n",
    "dfSample = df2.sample(n=100, random_state=20240331) # 균일하게 데이터로부터 비복원추출, 재현성을 위해 시드를 지정\n",
    "\n",
    "sns.jointplot(data = df2, x = \"Min\", y = \"Max\", kind = \"kde\", fill = True)\n",
    "\n",
    "sns.jointplot(data = dfSample, x = \"Min\", y = \"Max\", kind = \"kde\", fill = True)\n"
   ]
  },
  {
   "cell_type": "code",
   "execution_count": 4,
   "metadata": {},
   "outputs": [],
   "source": [
    "\"\"\"원본 데이터의 contour plot(상)과 해당 데이터로부터 random sampling을 수행하여 그린 contour plot(하)의 그래프의 양상이\n",
    "거의 비슷함을 파악할 수 있다. 이는 sample의 크기를 크게 하고 random하게 sampling 한다면 원본 데이터와 비슷한 distribution을\n",
    "갖음을 알 수 있다.\"\"\""
   ]
  },
  {
   "cell_type": "code",
   "execution_count": 5,
   "metadata": {},
   "outputs": [
    {
     "name": "stdout",
     "output_type": "stream",
     "text": [
      "waiting...  https://www.weather.go.kr/w/obs-climate/land/past-obs/obs-by-day.do?stn=108&yy=2020&mm=1&obs=1\n"
     ]
    },
    {
     "name": "stderr",
     "output_type": "stream",
     "text": [
      "C:\\Users\\김수영\\AppData\\Local\\Temp\\ipykernel_15780\\3881158950.py:23: FutureWarning: The frame.append method is deprecated and will be removed from pandas in a future version. Use pandas.concat instead.\n",
      "  dfNew = dfNew.append(tem, ignore_index = True)\n"
     ]
    },
    {
     "name": "stdout",
     "output_type": "stream",
     "text": [
      "waiting...  https://www.weather.go.kr/w/obs-climate/land/past-obs/obs-by-day.do?stn=108&yy=2020&mm=2&obs=1\n"
     ]
    },
    {
     "name": "stderr",
     "output_type": "stream",
     "text": [
      "C:\\Users\\김수영\\AppData\\Local\\Temp\\ipykernel_15780\\3881158950.py:23: FutureWarning: The frame.append method is deprecated and will be removed from pandas in a future version. Use pandas.concat instead.\n",
      "  dfNew = dfNew.append(tem, ignore_index = True)\n"
     ]
    },
    {
     "name": "stdout",
     "output_type": "stream",
     "text": [
      "waiting...  https://www.weather.go.kr/w/obs-climate/land/past-obs/obs-by-day.do?stn=108&yy=2020&mm=3&obs=1\n"
     ]
    },
    {
     "name": "stderr",
     "output_type": "stream",
     "text": [
      "C:\\Users\\김수영\\AppData\\Local\\Temp\\ipykernel_15780\\3881158950.py:23: FutureWarning: The frame.append method is deprecated and will be removed from pandas in a future version. Use pandas.concat instead.\n",
      "  dfNew = dfNew.append(tem, ignore_index = True)\n"
     ]
    },
    {
     "name": "stdout",
     "output_type": "stream",
     "text": [
      "waiting...  https://www.weather.go.kr/w/obs-climate/land/past-obs/obs-by-day.do?stn=108&yy=2020&mm=4&obs=1\n"
     ]
    },
    {
     "name": "stderr",
     "output_type": "stream",
     "text": [
      "C:\\Users\\김수영\\AppData\\Local\\Temp\\ipykernel_15780\\3881158950.py:23: FutureWarning: The frame.append method is deprecated and will be removed from pandas in a future version. Use pandas.concat instead.\n",
      "  dfNew = dfNew.append(tem, ignore_index = True)\n"
     ]
    },
    {
     "name": "stdout",
     "output_type": "stream",
     "text": [
      "waiting...  https://www.weather.go.kr/w/obs-climate/land/past-obs/obs-by-day.do?stn=108&yy=2020&mm=5&obs=1\n"
     ]
    },
    {
     "name": "stderr",
     "output_type": "stream",
     "text": [
      "C:\\Users\\김수영\\AppData\\Local\\Temp\\ipykernel_15780\\3881158950.py:23: FutureWarning: The frame.append method is deprecated and will be removed from pandas in a future version. Use pandas.concat instead.\n",
      "  dfNew = dfNew.append(tem, ignore_index = True)\n"
     ]
    },
    {
     "name": "stdout",
     "output_type": "stream",
     "text": [
      "waiting...  https://www.weather.go.kr/w/obs-climate/land/past-obs/obs-by-day.do?stn=108&yy=2020&mm=6&obs=1\n"
     ]
    },
    {
     "name": "stderr",
     "output_type": "stream",
     "text": [
      "C:\\Users\\김수영\\AppData\\Local\\Temp\\ipykernel_15780\\3881158950.py:23: FutureWarning: The frame.append method is deprecated and will be removed from pandas in a future version. Use pandas.concat instead.\n",
      "  dfNew = dfNew.append(tem, ignore_index = True)\n"
     ]
    },
    {
     "name": "stdout",
     "output_type": "stream",
     "text": [
      "waiting...  https://www.weather.go.kr/w/obs-climate/land/past-obs/obs-by-day.do?stn=108&yy=2020&mm=7&obs=1\n"
     ]
    },
    {
     "name": "stderr",
     "output_type": "stream",
     "text": [
      "C:\\Users\\김수영\\AppData\\Local\\Temp\\ipykernel_15780\\3881158950.py:23: FutureWarning: The frame.append method is deprecated and will be removed from pandas in a future version. Use pandas.concat instead.\n",
      "  dfNew = dfNew.append(tem, ignore_index = True)\n"
     ]
    },
    {
     "name": "stdout",
     "output_type": "stream",
     "text": [
      "waiting...  https://www.weather.go.kr/w/obs-climate/land/past-obs/obs-by-day.do?stn=108&yy=2020&mm=8&obs=1\n"
     ]
    },
    {
     "name": "stderr",
     "output_type": "stream",
     "text": [
      "C:\\Users\\김수영\\AppData\\Local\\Temp\\ipykernel_15780\\3881158950.py:23: FutureWarning: The frame.append method is deprecated and will be removed from pandas in a future version. Use pandas.concat instead.\n",
      "  dfNew = dfNew.append(tem, ignore_index = True)\n"
     ]
    },
    {
     "name": "stdout",
     "output_type": "stream",
     "text": [
      "waiting...  https://www.weather.go.kr/w/obs-climate/land/past-obs/obs-by-day.do?stn=108&yy=2020&mm=9&obs=1\n"
     ]
    },
    {
     "name": "stderr",
     "output_type": "stream",
     "text": [
      "C:\\Users\\김수영\\AppData\\Local\\Temp\\ipykernel_15780\\3881158950.py:23: FutureWarning: The frame.append method is deprecated and will be removed from pandas in a future version. Use pandas.concat instead.\n",
      "  dfNew = dfNew.append(tem, ignore_index = True)\n"
     ]
    },
    {
     "name": "stdout",
     "output_type": "stream",
     "text": [
      "waiting...  https://www.weather.go.kr/w/obs-climate/land/past-obs/obs-by-day.do?stn=108&yy=2020&mm=10&obs=1\n"
     ]
    },
    {
     "name": "stderr",
     "output_type": "stream",
     "text": [
      "C:\\Users\\김수영\\AppData\\Local\\Temp\\ipykernel_15780\\3881158950.py:23: FutureWarning: The frame.append method is deprecated and will be removed from pandas in a future version. Use pandas.concat instead.\n",
      "  dfNew = dfNew.append(tem, ignore_index = True)\n"
     ]
    },
    {
     "name": "stdout",
     "output_type": "stream",
     "text": [
      "waiting...  https://www.weather.go.kr/w/obs-climate/land/past-obs/obs-by-day.do?stn=108&yy=2020&mm=11&obs=1\n"
     ]
    },
    {
     "name": "stderr",
     "output_type": "stream",
     "text": [
      "C:\\Users\\김수영\\AppData\\Local\\Temp\\ipykernel_15780\\3881158950.py:23: FutureWarning: The frame.append method is deprecated and will be removed from pandas in a future version. Use pandas.concat instead.\n",
      "  dfNew = dfNew.append(tem, ignore_index = True)\n"
     ]
    },
    {
     "name": "stdout",
     "output_type": "stream",
     "text": [
      "waiting...  https://www.weather.go.kr/w/obs-climate/land/past-obs/obs-by-day.do?stn=108&yy=2020&mm=12&obs=1\n"
     ]
    },
    {
     "name": "stderr",
     "output_type": "stream",
     "text": [
      "C:\\Users\\김수영\\AppData\\Local\\Temp\\ipykernel_15780\\3881158950.py:23: FutureWarning: The frame.append method is deprecated and will be removed from pandas in a future version. Use pandas.concat instead.\n",
      "  dfNew = dfNew.append(tem, ignore_index = True)\n"
     ]
    },
    {
     "name": "stdout",
     "output_type": "stream",
     "text": [
      "waiting...  https://www.weather.go.kr/w/obs-climate/land/past-obs/obs-by-day.do?stn=108&yy=2021&mm=1&obs=1\n"
     ]
    },
    {
     "name": "stderr",
     "output_type": "stream",
     "text": [
      "C:\\Users\\김수영\\AppData\\Local\\Temp\\ipykernel_15780\\3881158950.py:23: FutureWarning: The frame.append method is deprecated and will be removed from pandas in a future version. Use pandas.concat instead.\n",
      "  dfNew = dfNew.append(tem, ignore_index = True)\n"
     ]
    },
    {
     "name": "stdout",
     "output_type": "stream",
     "text": [
      "waiting...  https://www.weather.go.kr/w/obs-climate/land/past-obs/obs-by-day.do?stn=108&yy=2021&mm=2&obs=1\n"
     ]
    },
    {
     "name": "stderr",
     "output_type": "stream",
     "text": [
      "C:\\Users\\김수영\\AppData\\Local\\Temp\\ipykernel_15780\\3881158950.py:23: FutureWarning: The frame.append method is deprecated and will be removed from pandas in a future version. Use pandas.concat instead.\n",
      "  dfNew = dfNew.append(tem, ignore_index = True)\n"
     ]
    },
    {
     "name": "stdout",
     "output_type": "stream",
     "text": [
      "waiting...  https://www.weather.go.kr/w/obs-climate/land/past-obs/obs-by-day.do?stn=108&yy=2021&mm=3&obs=1\n"
     ]
    },
    {
     "name": "stderr",
     "output_type": "stream",
     "text": [
      "C:\\Users\\김수영\\AppData\\Local\\Temp\\ipykernel_15780\\3881158950.py:23: FutureWarning: The frame.append method is deprecated and will be removed from pandas in a future version. Use pandas.concat instead.\n",
      "  dfNew = dfNew.append(tem, ignore_index = True)\n"
     ]
    },
    {
     "name": "stdout",
     "output_type": "stream",
     "text": [
      "waiting...  https://www.weather.go.kr/w/obs-climate/land/past-obs/obs-by-day.do?stn=108&yy=2021&mm=4&obs=1\n"
     ]
    },
    {
     "name": "stderr",
     "output_type": "stream",
     "text": [
      "C:\\Users\\김수영\\AppData\\Local\\Temp\\ipykernel_15780\\3881158950.py:23: FutureWarning: The frame.append method is deprecated and will be removed from pandas in a future version. Use pandas.concat instead.\n",
      "  dfNew = dfNew.append(tem, ignore_index = True)\n"
     ]
    },
    {
     "name": "stdout",
     "output_type": "stream",
     "text": [
      "waiting...  https://www.weather.go.kr/w/obs-climate/land/past-obs/obs-by-day.do?stn=108&yy=2021&mm=5&obs=1\n"
     ]
    },
    {
     "name": "stderr",
     "output_type": "stream",
     "text": [
      "C:\\Users\\김수영\\AppData\\Local\\Temp\\ipykernel_15780\\3881158950.py:23: FutureWarning: The frame.append method is deprecated and will be removed from pandas in a future version. Use pandas.concat instead.\n",
      "  dfNew = dfNew.append(tem, ignore_index = True)\n"
     ]
    },
    {
     "name": "stdout",
     "output_type": "stream",
     "text": [
      "waiting...  https://www.weather.go.kr/w/obs-climate/land/past-obs/obs-by-day.do?stn=108&yy=2021&mm=6&obs=1\n"
     ]
    },
    {
     "name": "stderr",
     "output_type": "stream",
     "text": [
      "C:\\Users\\김수영\\AppData\\Local\\Temp\\ipykernel_15780\\3881158950.py:23: FutureWarning: The frame.append method is deprecated and will be removed from pandas in a future version. Use pandas.concat instead.\n",
      "  dfNew = dfNew.append(tem, ignore_index = True)\n"
     ]
    },
    {
     "name": "stdout",
     "output_type": "stream",
     "text": [
      "waiting...  https://www.weather.go.kr/w/obs-climate/land/past-obs/obs-by-day.do?stn=108&yy=2021&mm=7&obs=1\n"
     ]
    },
    {
     "name": "stderr",
     "output_type": "stream",
     "text": [
      "C:\\Users\\김수영\\AppData\\Local\\Temp\\ipykernel_15780\\3881158950.py:23: FutureWarning: The frame.append method is deprecated and will be removed from pandas in a future version. Use pandas.concat instead.\n",
      "  dfNew = dfNew.append(tem, ignore_index = True)\n"
     ]
    },
    {
     "name": "stdout",
     "output_type": "stream",
     "text": [
      "waiting...  https://www.weather.go.kr/w/obs-climate/land/past-obs/obs-by-day.do?stn=108&yy=2021&mm=8&obs=1\n"
     ]
    },
    {
     "name": "stderr",
     "output_type": "stream",
     "text": [
      "C:\\Users\\김수영\\AppData\\Local\\Temp\\ipykernel_15780\\3881158950.py:23: FutureWarning: The frame.append method is deprecated and will be removed from pandas in a future version. Use pandas.concat instead.\n",
      "  dfNew = dfNew.append(tem, ignore_index = True)\n"
     ]
    },
    {
     "name": "stdout",
     "output_type": "stream",
     "text": [
      "waiting...  https://www.weather.go.kr/w/obs-climate/land/past-obs/obs-by-day.do?stn=108&yy=2021&mm=9&obs=1\n"
     ]
    },
    {
     "name": "stderr",
     "output_type": "stream",
     "text": [
      "C:\\Users\\김수영\\AppData\\Local\\Temp\\ipykernel_15780\\3881158950.py:23: FutureWarning: The frame.append method is deprecated and will be removed from pandas in a future version. Use pandas.concat instead.\n",
      "  dfNew = dfNew.append(tem, ignore_index = True)\n"
     ]
    },
    {
     "name": "stdout",
     "output_type": "stream",
     "text": [
      "waiting...  https://www.weather.go.kr/w/obs-climate/land/past-obs/obs-by-day.do?stn=108&yy=2021&mm=10&obs=1\n"
     ]
    },
    {
     "name": "stderr",
     "output_type": "stream",
     "text": [
      "C:\\Users\\김수영\\AppData\\Local\\Temp\\ipykernel_15780\\3881158950.py:23: FutureWarning: The frame.append method is deprecated and will be removed from pandas in a future version. Use pandas.concat instead.\n",
      "  dfNew = dfNew.append(tem, ignore_index = True)\n"
     ]
    },
    {
     "name": "stdout",
     "output_type": "stream",
     "text": [
      "waiting...  https://www.weather.go.kr/w/obs-climate/land/past-obs/obs-by-day.do?stn=108&yy=2021&mm=11&obs=1\n"
     ]
    },
    {
     "name": "stderr",
     "output_type": "stream",
     "text": [
      "C:\\Users\\김수영\\AppData\\Local\\Temp\\ipykernel_15780\\3881158950.py:23: FutureWarning: The frame.append method is deprecated and will be removed from pandas in a future version. Use pandas.concat instead.\n",
      "  dfNew = dfNew.append(tem, ignore_index = True)\n"
     ]
    },
    {
     "name": "stdout",
     "output_type": "stream",
     "text": [
      "waiting...  https://www.weather.go.kr/w/obs-climate/land/past-obs/obs-by-day.do?stn=108&yy=2021&mm=12&obs=1\n"
     ]
    },
    {
     "name": "stderr",
     "output_type": "stream",
     "text": [
      "C:\\Users\\김수영\\AppData\\Local\\Temp\\ipykernel_15780\\3881158950.py:23: FutureWarning: The frame.append method is deprecated and will be removed from pandas in a future version. Use pandas.concat instead.\n",
      "  dfNew = dfNew.append(tem, ignore_index = True)\n"
     ]
    },
    {
     "name": "stdout",
     "output_type": "stream",
     "text": [
      "waiting...  https://www.weather.go.kr/w/obs-climate/land/past-obs/obs-by-day.do?stn=108&yy=2022&mm=1&obs=1\n"
     ]
    },
    {
     "name": "stderr",
     "output_type": "stream",
     "text": [
      "C:\\Users\\김수영\\AppData\\Local\\Temp\\ipykernel_15780\\3881158950.py:23: FutureWarning: The frame.append method is deprecated and will be removed from pandas in a future version. Use pandas.concat instead.\n",
      "  dfNew = dfNew.append(tem, ignore_index = True)\n"
     ]
    },
    {
     "name": "stdout",
     "output_type": "stream",
     "text": [
      "waiting...  https://www.weather.go.kr/w/obs-climate/land/past-obs/obs-by-day.do?stn=108&yy=2022&mm=2&obs=1\n"
     ]
    },
    {
     "name": "stderr",
     "output_type": "stream",
     "text": [
      "C:\\Users\\김수영\\AppData\\Local\\Temp\\ipykernel_15780\\3881158950.py:23: FutureWarning: The frame.append method is deprecated and will be removed from pandas in a future version. Use pandas.concat instead.\n",
      "  dfNew = dfNew.append(tem, ignore_index = True)\n"
     ]
    },
    {
     "name": "stdout",
     "output_type": "stream",
     "text": [
      "waiting...  https://www.weather.go.kr/w/obs-climate/land/past-obs/obs-by-day.do?stn=108&yy=2022&mm=3&obs=1\n"
     ]
    },
    {
     "name": "stderr",
     "output_type": "stream",
     "text": [
      "C:\\Users\\김수영\\AppData\\Local\\Temp\\ipykernel_15780\\3881158950.py:23: FutureWarning: The frame.append method is deprecated and will be removed from pandas in a future version. Use pandas.concat instead.\n",
      "  dfNew = dfNew.append(tem, ignore_index = True)\n"
     ]
    },
    {
     "name": "stdout",
     "output_type": "stream",
     "text": [
      "waiting...  https://www.weather.go.kr/w/obs-climate/land/past-obs/obs-by-day.do?stn=108&yy=2022&mm=4&obs=1\n"
     ]
    },
    {
     "name": "stderr",
     "output_type": "stream",
     "text": [
      "C:\\Users\\김수영\\AppData\\Local\\Temp\\ipykernel_15780\\3881158950.py:23: FutureWarning: The frame.append method is deprecated and will be removed from pandas in a future version. Use pandas.concat instead.\n",
      "  dfNew = dfNew.append(tem, ignore_index = True)\n"
     ]
    },
    {
     "name": "stdout",
     "output_type": "stream",
     "text": [
      "waiting...  https://www.weather.go.kr/w/obs-climate/land/past-obs/obs-by-day.do?stn=108&yy=2022&mm=5&obs=1\n"
     ]
    },
    {
     "name": "stderr",
     "output_type": "stream",
     "text": [
      "C:\\Users\\김수영\\AppData\\Local\\Temp\\ipykernel_15780\\3881158950.py:23: FutureWarning: The frame.append method is deprecated and will be removed from pandas in a future version. Use pandas.concat instead.\n",
      "  dfNew = dfNew.append(tem, ignore_index = True)\n"
     ]
    },
    {
     "name": "stdout",
     "output_type": "stream",
     "text": [
      "waiting...  https://www.weather.go.kr/w/obs-climate/land/past-obs/obs-by-day.do?stn=108&yy=2022&mm=6&obs=1\n"
     ]
    },
    {
     "name": "stderr",
     "output_type": "stream",
     "text": [
      "C:\\Users\\김수영\\AppData\\Local\\Temp\\ipykernel_15780\\3881158950.py:23: FutureWarning: The frame.append method is deprecated and will be removed from pandas in a future version. Use pandas.concat instead.\n",
      "  dfNew = dfNew.append(tem, ignore_index = True)\n"
     ]
    },
    {
     "name": "stdout",
     "output_type": "stream",
     "text": [
      "waiting...  https://www.weather.go.kr/w/obs-climate/land/past-obs/obs-by-day.do?stn=108&yy=2022&mm=7&obs=1\n"
     ]
    },
    {
     "name": "stderr",
     "output_type": "stream",
     "text": [
      "C:\\Users\\김수영\\AppData\\Local\\Temp\\ipykernel_15780\\3881158950.py:23: FutureWarning: The frame.append method is deprecated and will be removed from pandas in a future version. Use pandas.concat instead.\n",
      "  dfNew = dfNew.append(tem, ignore_index = True)\n"
     ]
    },
    {
     "name": "stdout",
     "output_type": "stream",
     "text": [
      "waiting...  https://www.weather.go.kr/w/obs-climate/land/past-obs/obs-by-day.do?stn=108&yy=2022&mm=8&obs=1\n"
     ]
    },
    {
     "name": "stderr",
     "output_type": "stream",
     "text": [
      "C:\\Users\\김수영\\AppData\\Local\\Temp\\ipykernel_15780\\3881158950.py:23: FutureWarning: The frame.append method is deprecated and will be removed from pandas in a future version. Use pandas.concat instead.\n",
      "  dfNew = dfNew.append(tem, ignore_index = True)\n"
     ]
    },
    {
     "name": "stdout",
     "output_type": "stream",
     "text": [
      "waiting...  https://www.weather.go.kr/w/obs-climate/land/past-obs/obs-by-day.do?stn=108&yy=2022&mm=9&obs=1\n"
     ]
    },
    {
     "name": "stderr",
     "output_type": "stream",
     "text": [
      "C:\\Users\\김수영\\AppData\\Local\\Temp\\ipykernel_15780\\3881158950.py:23: FutureWarning: The frame.append method is deprecated and will be removed from pandas in a future version. Use pandas.concat instead.\n",
      "  dfNew = dfNew.append(tem, ignore_index = True)\n"
     ]
    },
    {
     "name": "stdout",
     "output_type": "stream",
     "text": [
      "waiting...  https://www.weather.go.kr/w/obs-climate/land/past-obs/obs-by-day.do?stn=108&yy=2022&mm=10&obs=1\n"
     ]
    },
    {
     "name": "stderr",
     "output_type": "stream",
     "text": [
      "C:\\Users\\김수영\\AppData\\Local\\Temp\\ipykernel_15780\\3881158950.py:23: FutureWarning: The frame.append method is deprecated and will be removed from pandas in a future version. Use pandas.concat instead.\n",
      "  dfNew = dfNew.append(tem, ignore_index = True)\n"
     ]
    },
    {
     "name": "stdout",
     "output_type": "stream",
     "text": [
      "waiting...  https://www.weather.go.kr/w/obs-climate/land/past-obs/obs-by-day.do?stn=108&yy=2022&mm=11&obs=1\n"
     ]
    },
    {
     "name": "stderr",
     "output_type": "stream",
     "text": [
      "C:\\Users\\김수영\\AppData\\Local\\Temp\\ipykernel_15780\\3881158950.py:23: FutureWarning: The frame.append method is deprecated and will be removed from pandas in a future version. Use pandas.concat instead.\n",
      "  dfNew = dfNew.append(tem, ignore_index = True)\n"
     ]
    },
    {
     "name": "stdout",
     "output_type": "stream",
     "text": [
      "waiting...  https://www.weather.go.kr/w/obs-climate/land/past-obs/obs-by-day.do?stn=108&yy=2022&mm=12&obs=1\n"
     ]
    },
    {
     "name": "stderr",
     "output_type": "stream",
     "text": [
      "C:\\Users\\김수영\\AppData\\Local\\Temp\\ipykernel_15780\\3881158950.py:23: FutureWarning: The frame.append method is deprecated and will be removed from pandas in a future version. Use pandas.concat instead.\n",
      "  dfNew = dfNew.append(tem, ignore_index = True)\n"
     ]
    },
    {
     "name": "stdout",
     "output_type": "stream",
     "text": [
      "waiting...  https://www.weather.go.kr/w/obs-climate/land/past-obs/obs-by-day.do?stn=108&yy=2023&mm=1&obs=1\n"
     ]
    },
    {
     "name": "stderr",
     "output_type": "stream",
     "text": [
      "C:\\Users\\김수영\\AppData\\Local\\Temp\\ipykernel_15780\\3881158950.py:23: FutureWarning: The frame.append method is deprecated and will be removed from pandas in a future version. Use pandas.concat instead.\n",
      "  dfNew = dfNew.append(tem, ignore_index = True)\n"
     ]
    },
    {
     "name": "stdout",
     "output_type": "stream",
     "text": [
      "waiting...  https://www.weather.go.kr/w/obs-climate/land/past-obs/obs-by-day.do?stn=108&yy=2023&mm=2&obs=1\n"
     ]
    },
    {
     "name": "stderr",
     "output_type": "stream",
     "text": [
      "C:\\Users\\김수영\\AppData\\Local\\Temp\\ipykernel_15780\\3881158950.py:23: FutureWarning: The frame.append method is deprecated and will be removed from pandas in a future version. Use pandas.concat instead.\n",
      "  dfNew = dfNew.append(tem, ignore_index = True)\n"
     ]
    },
    {
     "name": "stdout",
     "output_type": "stream",
     "text": [
      "waiting...  https://www.weather.go.kr/w/obs-climate/land/past-obs/obs-by-day.do?stn=108&yy=2023&mm=3&obs=1\n"
     ]
    },
    {
     "name": "stderr",
     "output_type": "stream",
     "text": [
      "C:\\Users\\김수영\\AppData\\Local\\Temp\\ipykernel_15780\\3881158950.py:23: FutureWarning: The frame.append method is deprecated and will be removed from pandas in a future version. Use pandas.concat instead.\n",
      "  dfNew = dfNew.append(tem, ignore_index = True)\n"
     ]
    },
    {
     "name": "stdout",
     "output_type": "stream",
     "text": [
      "waiting...  https://www.weather.go.kr/w/obs-climate/land/past-obs/obs-by-day.do?stn=108&yy=2023&mm=4&obs=1\n"
     ]
    },
    {
     "name": "stderr",
     "output_type": "stream",
     "text": [
      "C:\\Users\\김수영\\AppData\\Local\\Temp\\ipykernel_15780\\3881158950.py:23: FutureWarning: The frame.append method is deprecated and will be removed from pandas in a future version. Use pandas.concat instead.\n",
      "  dfNew = dfNew.append(tem, ignore_index = True)\n"
     ]
    },
    {
     "name": "stdout",
     "output_type": "stream",
     "text": [
      "waiting...  https://www.weather.go.kr/w/obs-climate/land/past-obs/obs-by-day.do?stn=108&yy=2023&mm=5&obs=1\n"
     ]
    },
    {
     "name": "stderr",
     "output_type": "stream",
     "text": [
      "C:\\Users\\김수영\\AppData\\Local\\Temp\\ipykernel_15780\\3881158950.py:23: FutureWarning: The frame.append method is deprecated and will be removed from pandas in a future version. Use pandas.concat instead.\n",
      "  dfNew = dfNew.append(tem, ignore_index = True)\n"
     ]
    },
    {
     "name": "stdout",
     "output_type": "stream",
     "text": [
      "waiting...  https://www.weather.go.kr/w/obs-climate/land/past-obs/obs-by-day.do?stn=108&yy=2023&mm=6&obs=1\n"
     ]
    },
    {
     "name": "stderr",
     "output_type": "stream",
     "text": [
      "C:\\Users\\김수영\\AppData\\Local\\Temp\\ipykernel_15780\\3881158950.py:23: FutureWarning: The frame.append method is deprecated and will be removed from pandas in a future version. Use pandas.concat instead.\n",
      "  dfNew = dfNew.append(tem, ignore_index = True)\n"
     ]
    },
    {
     "name": "stdout",
     "output_type": "stream",
     "text": [
      "waiting...  https://www.weather.go.kr/w/obs-climate/land/past-obs/obs-by-day.do?stn=108&yy=2023&mm=7&obs=1\n"
     ]
    },
    {
     "name": "stderr",
     "output_type": "stream",
     "text": [
      "C:\\Users\\김수영\\AppData\\Local\\Temp\\ipykernel_15780\\3881158950.py:23: FutureWarning: The frame.append method is deprecated and will be removed from pandas in a future version. Use pandas.concat instead.\n",
      "  dfNew = dfNew.append(tem, ignore_index = True)\n"
     ]
    },
    {
     "name": "stdout",
     "output_type": "stream",
     "text": [
      "waiting...  https://www.weather.go.kr/w/obs-climate/land/past-obs/obs-by-day.do?stn=108&yy=2023&mm=8&obs=1\n"
     ]
    },
    {
     "name": "stderr",
     "output_type": "stream",
     "text": [
      "C:\\Users\\김수영\\AppData\\Local\\Temp\\ipykernel_15780\\3881158950.py:23: FutureWarning: The frame.append method is deprecated and will be removed from pandas in a future version. Use pandas.concat instead.\n",
      "  dfNew = dfNew.append(tem, ignore_index = True)\n"
     ]
    },
    {
     "name": "stdout",
     "output_type": "stream",
     "text": [
      "waiting...  https://www.weather.go.kr/w/obs-climate/land/past-obs/obs-by-day.do?stn=108&yy=2023&mm=9&obs=1\n"
     ]
    },
    {
     "name": "stderr",
     "output_type": "stream",
     "text": [
      "C:\\Users\\김수영\\AppData\\Local\\Temp\\ipykernel_15780\\3881158950.py:23: FutureWarning: The frame.append method is deprecated and will be removed from pandas in a future version. Use pandas.concat instead.\n",
      "  dfNew = dfNew.append(tem, ignore_index = True)\n"
     ]
    },
    {
     "name": "stdout",
     "output_type": "stream",
     "text": [
      "waiting...  https://www.weather.go.kr/w/obs-climate/land/past-obs/obs-by-day.do?stn=108&yy=2023&mm=10&obs=1\n"
     ]
    },
    {
     "name": "stderr",
     "output_type": "stream",
     "text": [
      "C:\\Users\\김수영\\AppData\\Local\\Temp\\ipykernel_15780\\3881158950.py:23: FutureWarning: The frame.append method is deprecated and will be removed from pandas in a future version. Use pandas.concat instead.\n",
      "  dfNew = dfNew.append(tem, ignore_index = True)\n"
     ]
    },
    {
     "name": "stdout",
     "output_type": "stream",
     "text": [
      "waiting...  https://www.weather.go.kr/w/obs-climate/land/past-obs/obs-by-day.do?stn=108&yy=2023&mm=11&obs=1\n"
     ]
    },
    {
     "name": "stderr",
     "output_type": "stream",
     "text": [
      "C:\\Users\\김수영\\AppData\\Local\\Temp\\ipykernel_15780\\3881158950.py:23: FutureWarning: The frame.append method is deprecated and will be removed from pandas in a future version. Use pandas.concat instead.\n",
      "  dfNew = dfNew.append(tem, ignore_index = True)\n"
     ]
    },
    {
     "name": "stdout",
     "output_type": "stream",
     "text": [
      "waiting...  https://www.weather.go.kr/w/obs-climate/land/past-obs/obs-by-day.do?stn=108&yy=2023&mm=12&obs=1\n"
     ]
    },
    {
     "name": "stderr",
     "output_type": "stream",
     "text": [
      "C:\\Users\\김수영\\AppData\\Local\\Temp\\ipykernel_15780\\3881158950.py:23: FutureWarning: The frame.append method is deprecated and will be removed from pandas in a future version. Use pandas.concat instead.\n",
      "  dfNew = dfNew.append(tem, ignore_index = True)\n"
     ]
    }
   ],
   "source": [
    "# 문제2-1.\n",
    "\n",
    "dfNew = pd.DataFrame({\"Min\" : [], \"Month\" : [], \"Max\": []}) \n",
    "\n",
    "for i in range(20,24) :\n",
    "    for j in range(1, 13):\n",
    "        url = \"https://www.weather.go.kr/w/obs-climate/land/past-obs/obs-by-day.do?stn=108&yy=20\"+str(i)+\"&mm=\"+str(j)+\"&obs=1\"\n",
    "        print(\"waiting... \", url)\n",
    "        br.open(url)\n",
    "        data = br.response().read().decode(\"utf-8\")\n",
    "\n",
    "        max_temp = re.findall(\"최고기온:(-*[0-9]+\\.[0-9]+)*\", data)\n",
    "        max_temp_val = [re.findall(\"(-*[0-9]+\\.[0-9]+)*\", text)[0] for text in max_temp]\n",
    "\n",
    "\n",
    "        min_temp = re.findall(\"최저기온:(-*[0-9]+\\.[0-9]+)*\", data)\n",
    "        min_temp_val = [re.findall(\"(-*[0-9]+\\.[0-9]+)*\", text)[0] for text in min_temp]\n",
    "\n",
    "        month_temp_val = [j for _ in range(len(min_temp_val))]\n",
    "\n",
    "        tem = pd.DataFrame({'Min': min_temp_val, \"Month\" : month_temp_val,'Max': max_temp_val}) \n",
    "\n",
    "        dfNew = dfNew.append(tem, ignore_index = True)\n",
    "\n",
    "        time.sleep(1) # 문제1에 사용된 코드에 월 column을 추가해서 dataframe을 만드는 코드"
   ]
  },
  {
   "cell_type": "code",
   "execution_count": 6,
   "metadata": {},
   "outputs": [
    {
     "name": "stdout",
     "output_type": "stream",
     "text": [
      "    Min   Max\n",
      "950      28.4\n",
      "Empty DataFrame\n",
      "Columns: [Min, Max]\n",
      "Index: []\n",
      "1460\n"
     ]
    },
    {
     "data": {
      "text/html": [
       "<div>\n",
       "<style scoped>\n",
       "    .dataframe tbody tr th:only-of-type {\n",
       "        vertical-align: middle;\n",
       "    }\n",
       "\n",
       "    .dataframe tbody tr th {\n",
       "        vertical-align: top;\n",
       "    }\n",
       "\n",
       "    .dataframe thead th {\n",
       "        text-align: right;\n",
       "    }\n",
       "</style>\n",
       "<table border=\"1\" class=\"dataframe\">\n",
       "  <thead>\n",
       "    <tr style=\"text-align: right;\">\n",
       "      <th></th>\n",
       "      <th>Min</th>\n",
       "      <th>Month</th>\n",
       "      <th>Max</th>\n",
       "    </tr>\n",
       "  </thead>\n",
       "  <tbody>\n",
       "    <tr>\n",
       "      <th>0</th>\n",
       "      <td>-6.5</td>\n",
       "      <td>1.0</td>\n",
       "      <td>0.3</td>\n",
       "    </tr>\n",
       "    <tr>\n",
       "      <th>1</th>\n",
       "      <td>-0.7</td>\n",
       "      <td>1.0</td>\n",
       "      <td>3.8</td>\n",
       "    </tr>\n",
       "    <tr>\n",
       "      <th>2</th>\n",
       "      <td>-3.4</td>\n",
       "      <td>1.0</td>\n",
       "      <td>4.6</td>\n",
       "    </tr>\n",
       "    <tr>\n",
       "      <th>3</th>\n",
       "      <td>-2.8</td>\n",
       "      <td>1.0</td>\n",
       "      <td>6.1</td>\n",
       "    </tr>\n",
       "    <tr>\n",
       "      <th>4</th>\n",
       "      <td>-3.2</td>\n",
       "      <td>1.0</td>\n",
       "      <td>6.6</td>\n",
       "    </tr>\n",
       "  </tbody>\n",
       "</table>\n",
       "</div>"
      ],
      "text/plain": [
       "    Min  Month  Max\n",
       "0  -6.5    1.0  0.3\n",
       "1  -0.7    1.0  3.8\n",
       "2  -3.4    1.0  4.6\n",
       "3  -2.8    1.0  6.1\n",
       "4  -3.2    1.0  6.6"
      ]
     },
     "execution_count": 6,
     "metadata": {},
     "output_type": "execute_result"
    }
   ],
   "source": [
    "print(df[df[\"Min\"] == \"\"]) \n",
    "print(df[df[\"Max\"] == \"\"])\n",
    "\n",
    "dfNew2 = dfNew.drop(950, axis = 0)\n",
    "\n",
    "df2[\"Max\"] = df2[\"Max\"].astype(float)\n",
    "df2[\"Min\"] = df2[\"Min\"].astype(float)\n",
    "# 크롤링한 데이터의 타입을 실수형으로 변환\n",
    "\n",
    "print(dfNew2.shape[0])\n",
    "#  결측치를 제거한 최종 데이터프레임의 행 개수 출력\n",
    "dfNew2.head()\n",
    "# 총 1460개의 데이터를 추출한 것을 확인할 수 있다."
   ]
  },
  {
   "cell_type": "code",
   "execution_count": 7,
   "metadata": {},
   "outputs": [
    {
     "name": "stdout",
     "output_type": "stream",
     "text": [
      "11.303941557889699\n",
      "11.182416996246417\n"
     ]
    }
   ],
   "source": [
    "# 문제 2-2, 2-3\n",
    "\n",
    "from sklearn.linear_model import LinearRegression # sklearn에서 선형회귀를 위해 import\n",
    "from sklearn.metrics import mean_squared_error # MSE를 계산하기 위해 import\n",
    "\n",
    "x1 = dfNew2[[\"Min\"]] # min column만 분리\n",
    "x2 = dfNew2[[\"Min\",\"Max\"]] # min과 max column을 분리\n",
    "y = dfNew2[[\"Month\"]] # month column을 분리\n",
    "\n",
    "lm1 = LinearRegression().fit(x1,y) # x1과 y에 대하여 선형회귀 적합\n",
    "lm2 = LinearRegression().fit(x2,y) # x2와 y에 대하여 선형회귀 적합\n",
    "\n",
    "y_pred1 = lm1.predict(x1)\n",
    "y_pred2 = lm2.predict(x2) # y_hat, 즉, x1을 해당 모형에 넣었을 때의 적합값을 계산\n",
    "\n",
    "MSE1 = mean_squared_error(y,y_pred1)\n",
    "MSE2 = mean_squared_error(y,y_pred2) # 모형1과 모형2에 대한 MSE 계산\n",
    "\n",
    "print(MSE1)\n",
    "print(MSE2)"
   ]
  },
  {
   "cell_type": "code",
   "execution_count": 8,
   "metadata": {},
   "outputs": [],
   "source": [
    "\"\"\"설명변수의 개수가 min, max인 모델의 MSE가 min만 사용하는 모델의 MSE보다 낮음을 확인할 수 있다.\n",
    "그러나 그 차이가 0.12정도로 거의 차이가 없음을 볼 수 있다. 이는 min과 max 즉, 최고 기온과 최저 기온간 상관관계가 강하기\n",
    "때문에 max라는 변수를 추가해도 그다지 모형의 설명력이 올라가지 않음을 볼 수 있다.\"\"\""
   ]
  },
  {
   "cell_type": "code",
   "execution_count": null,
   "metadata": {},
   "outputs": [],
   "source": []
  },
  {
   "cell_type": "code",
   "execution_count": 2,
   "metadata": {},
   "outputs": [
    {
     "name": "stdout",
     "output_type": "stream",
     "text": [
      "[13, 3, 9, 93, 34, 99, 2, 6, 20, 91, 83, 98, 65, 82, 45, 67, 5, 74, 87, 72, 38, 3, 28, 42, 58, 67, 8, 69, 34, 83, 21, 62, 65, 64, 11, 49, 37, 91, 49, 74, 0, 54, 11, 66, 65, 85, 95, 16, 75, 22, 86, 76, 33, 95, 43, 18, 74, 46, 46, 63, 81, 94, 84, 66, 97, 82, 39, 75, 26, 49, 35, 18, 7, 83, 19, 75, 47, 6, 66, 85, 53, 79, 93, 84, 86, 67, 61, 76, 23, 15, 82, 48, 46, 35, 100, 0, 96, 25, 73, 50, 42, 77, 73, 98, 54, 8, 79, 56, 94, 89, 70, 51, 10, 11, 13, 87, 83, 33, 78, 83, 3, 52, 23, 84, 66, 7, 55, 7, 67, 90, 5, 10, 69, 28, 90, 7, 46, 99, 42, 88, 47, 51, 31, 74, 16, 14, 73, 93, 18, 86, 65, 100, 12, 26, 5, 71, 32, 71, 1, 38, 74, 96, 24, 33, 74, 80, 72, 36, 30, 69, 90, 68, 4, 88, 63, 15, 84, 56, 39, 25, 87, 52, 97, 27, 29, 73, 25, 30, 2, 21, 17, 39, 70, 36, 20, 43, 1, 0, 59, 100, 23, 90, 59, 48, 87, 8, 46, 53, 1, 86, 76, 67, 43, 98, 67, 97, 63, 82, 5, 11, 50, 0, 48, 54, 77, 79, 77, 87, 52, 77, 72, 11, 99, 68, 21, 22, 29, 95, 92, 100, 71, 22, 71, 43, 28, 7, 18, 45, 69, 75, 13, 53, 26, 33, 40, 95, 53, 58, 22, 38, 59, 27, 13, 61, 50, 41, 68, 97, 51, 58, 70, 82, 20, 9, 61, 94, 57, 5, 14, 47, 84, 87, 95, 18, 20, 5, 27, 81, 38, 71, 31, 7, 94, 19, 14, 9, 61, 19, 43, 45, 67, 26, 39, 63, 20, 49, 91, 82, 89, 63, 51, 62, 37, 25, 53, 50, 75, 59, 33, 32, 70, 16, 9, 88, 40, 86, 29, 40, 40, 22, 94, 61, 10, 16, 44, 50, 55, 25, 64, 28, 46, 87, 58, 59, 88, 39, 52, 73, 72, 97, 68, 64, 88, 78, 82, 32, 93, 6, 100, 20, 29, 39, 34, 52, 81, 51, 38, 9, 85, 24, 38, 49, 8, 44, 22, 49, 68, 40, 52, 57, 63, 87, 7, 21, 19, 37, 52, 33, 69, 32, 44, 22, 75, 11, 12, 95, 37, 88, 6, 86, 55, 9, 12, 26, 85, 55, 70, 76, 27, 36, 64, 79, 52, 2, 63, 84, 21, 48, 99, 99, 50, 62, 28, 28, 46, 92, 26, 74, 65, 29, 48, 60, 90, 86, 11, 35, 50, 21, 56, 47, 21, 16, 70, 72, 13, 3, 54, 6, 49, 46, 54, 30, 13, 8, 32, 95, 51, 42, 26, 52, 50, 56, 97, 15, 29, 44, 70, 63, 79, 33, 67, 88, 45, 13, 92, 72, 100, 73, 77, 34, 72, 93, 56, 11, 45, 39, 18, 61, 5, 63, 63, 99, 17, 61, 5, 26, 43, 60, 57, 27, 71, 50, 50, 36, 4, 80, 35, 48, 46, 90, 48, 11, 9, 4, 47, 53, 81, 49, 36, 65, 88, 82, 42, 88, 1, 26, 86, 45, 38, 81, 51, 80, 81, 15, 77, 39, 24, 23, 80, 35, 72, 6, 26, 18, 46, 62, 13, 89, 46, 19, 96, 87, 17, 66, 48, 2, 40, 47, 11, 74, 39, 37, 4, 90, 26, 14, 75, 72, 40, 80, 38, 29, 22, 59, 95, 92, 10, 28, 87, 63, 97, 4, 48, 20, 82, 29, 24, 67, 53, 32, 27, 69, 67, 2, 19, 56, 19, 85, 26, 83, 100, 2, 83, 82, 20, 83, 96, 47, 21, 96, 45, 46, 60, 56, 12, 32, 9, 35, 13, 34, 77, 81, 23, 10, 25, 8, 62, 92, 10, 62, 88, 48, 93, 57, 31, 9, 23, 36, 57, 15, 31, 95, 68, 17, 39, 49, 43, 96, 63, 58, 25, 32, 41, 55, 59, 73, 14, 92, 85, 59, 76, 21, 71, 29, 83, 71, 55, 36, 80, 27, 44, 67, 81, 85, 87, 48, 84, 62, 17, 12, 15, 32, 67, 65, 14, 57, 2, 18, 71, 32, 90, 95, 29, 87, 81, 88, 32, 71, 7, 79, 59, 43, 18, 14, 57, 80, 83, 69, 80, 67, 70, 65, 57, 93, 4, 80, 86, 100, 52, 88, 86, 88, 73, 20, 38, 84, 44, 18, 67, 82, 77, 48, 93, 98, 36, 15, 97, 92, 65, 96, 35, 67, 78, 0, 92, 6, 3, 34, 27, 17, 44, 9, 1, 0, 61, 90, 22, 53, 74, 44, 87, 4, 16, 19, 48, 11, 54, 4, 87, 95, 75, 49, 37, 47, 12, 47, 3, 29, 49, 9, 31, 11, 9, 58, 68, 16, 2, 33, 24, 64, 16, 17, 71, 63, 39, 66, 87, 59, 63, 46, 8, 15, 65, 51, 17, 92, 71, 37, 3, 50, 87, 15, 71, 86, 54, 12, 73, 74, 90, 87, 94, 27, 47, 34, 69, 25, 62, 4, 29, 52, 43, 43, 91, 43, 13, 18, 20, 31, 42, 12, 54, 51, 28, 82, 20, 69, 9, 56, 49, 82, 95, 41, 89, 23, 29, 73, 18, 0, 30, 16, 10, 37, 44, 2, 6, 37, 69, 88, 21, 24, 13, 37, 30, 84, 52, 33, 34, 75, 85, 4, 1, 53, 64, 90, 5, 86, 86, 87, 80, 7, 96, 0, 56, 69, 28, 23, 18, 87, 45, 15, 12, 93, 12, 34, 46, 85, 48, 26, 75, 69, 46, 14, 16, 88, 16, 56, 52, 17, 95, 40, 46, 8, 99, 27, 26, 100, 25, 14, 30, 88, 52, 2, 7, 18, 62, 58, 42, 86, 1, 26, 58, 52, 34, 76, 75, 86, 74, 46, 39, 37, 39, 73, 72, 75, 68, 87, 54, 21, 75, 80, 40, 65, 19, 65, 92, 68, 19, 15, 31, 88, 17, 61, 60, 65, 24, 10, 8, 66, 14, 31, 11, 90, 12, 38, 65, 93, 49, 76, 27, 21, 50, 0, 13, 82, 39, 31, 21, 58, 89, 72, 54, 98, 51, 76, 41, 58, 56, 74, 63, 100, 53, 83, 59, 98, 2, 36, 29, 50, 20, 10, 51, 54, 98, 50]\n"
     ]
    },
    {
     "data": {
      "text/plain": [
       "<Axes: ylabel='Count'>"
      ]
     },
     "execution_count": 2,
     "metadata": {},
     "output_type": "execute_result"
    },
    {
     "data": {
      "image/png": "[encoded data removed]",
      "text/plain": [
       "<Figure size 640x480 with 1 Axes>"
      ]
     },
     "metadata": {},
     "output_type": "display_data"
    }
   ],
   "source": [
    "# 문제3.\n",
    "\n",
    "import random\n",
    "\n",
    "# 0부터 100 사이의 무작위 정수를 1024개 생성하여 리스트로 저장\n",
    "random.seed(20240331) # 재현성 확보를 위해 시드 지정\n",
    "random_numbers = [random.randint(0, 100) for _ in range(1024)]\n",
    "\n",
    "print(random_numbers)\n",
    "sns.histplot(random_numbers) # 샘플링한 데이터를 통해 히스토그램을 그림"
   ]
  },
  {
   "cell_type": "code",
   "execution_count": 3,
   "metadata": {},
   "outputs": [
    {
     "name": "stdout",
     "output_type": "stream",
     "text": [
      "[49.7919921875, 0.9365234375, 1.708984375, 1.703125, 1.328125, 0.39453125, -2.91015625, -2.08203125, -0.71875, -1.359375, -1.1484375, -1.140625, 1.1484375, -0.40625, 1.3203125, -0.125, -4.265625, 0.421875, -0.84375, -2.75, 0.859375, 2.25, -0.203125, 3.203125, -0.421875, 3.8125, 1.75, 11.6875, -3.203125, -3.84375, -3.796875, -5.921875, 1.84375, -5.3125, -4.34375, 10.625, 3.84375, 6.65625, -3.28125, 10.90625, 3.875, -7.03125, -8.125, 3.6875, -2.40625, 7.0, -8.21875, -0.6875, 1.75, -1.53125, -4.0625, -2.0625, -2.0625, -4.6875, 5.125, 5.4375, -2.6875, -3.71875, 0.03125, -4.34375, 0.0, -9.65625, 2.75, 1.78125, -18.25, -3.3125, 3.0, -6.625, 2.0625, 15.625, 2.0625, 6.3125, -7.0, 13.0625, 3.875, 14.4375, -5.3125, 13.875, 0.375, -6.1875, -11.625, -6.875, -5.0, 8.9375, 2.5625, -8.1875, 10.375, -4.75, -6.375, -1.1875, -0.3125, 8.8125, -3.875, -2.0625, 3.5, 2.0, -7.125, 11.125, 9.5625, -6.125, -1.625, -9.75, 5.375, 4.625, 2.0, -1.0, 12.875, 15.625, 0.6875, -4.0625, 18.625, 6.375, 15.625, -15.875, -1.375, 12.4375, -6.1875, 20.25, -6.375, 7.0625, -5.8125, 2.1875, -3.625, -3.9375, 1.6875, -6.9375, -6.4375, 8.25, -2.875, 4.125, 15.875, 0.25, -7.75, -16.25, 8.75, -12.0, 20.625, -2.5, 2.375, -1.625, -5.75, -13.375, -19.5, 3.375, -2.75, 9.0, -9.125, -3.5, -4.375, 10.875, -7.375, 9.75, 1.125, 3.25, -9.375, 1.125, 13.5, -13.25, 13.625, 2.0, 1.375, -0.625, 7.625, 18.875, 1.375, -3.375, -2.875, -4.25, -1.5, 12.125, -9.75, -6.125, 7.625, -3.125, 9.125, 4.875, -3.25, -3.0, -23.0, 0.625, 12.375, 4.5, 6.0, 12.875, 3.875, -5.875, -7.625, -7.75, 8.625, 15.125, -2.5, -3.5, -14.75, 17.75, 4.75, 5.0, -4.75, -4.875, -2.125, -10.125, 2.375, 2.625, -8.625, 2.625, 6.0, -12.5, -2.625, 7.375, -2.0, -6.25, 6.625, 3.375, 15.75, 11.0, 0.375, 6.875, 0.875, -11.5, 10.375, 4.0, 21.25, 4.75, -5.125, 1.125, 20.375, -2.375, -0.25, -2.0, -9.75, -8.5, 15.25, -0.875, 7.5, 7.625, 6.625, -3.625, 13.125, 0.125, -7.0, 0.875, 1.75, 0.125, -3.5, 1.875, 3.375, -8.125, 11.625, 9.0, -0.625, 4.75, -4.0, 23.125, -9.375, 6.25, 13.0, -18.0, -21.5, 31.25, -17.5, 8.75, -20.0, -7.25, 12.0, 8.5, 17.25, 1.25, -5.75, 9.75, -16.25, 16.75, 2.75, 6.25, 16.25, 5.5, -1.0, -24.5, -11.25, 4.0, -23.0, -4.75, -0.5, -13.0, -18.25, 15.5, -19.75, -11.25, -13.0, 2.75, 35.5, 0.0, 3.75, -1.75, -34.0, -15.25, -9.5, 16.0, 28.25, 11.5, -14.75, 3.5, 19.0, 3.75, 11.75, -8.25, 10.75, -39.5, 1.5, -1.0, -14.0, -5.75, 32.25, -13.0, -2.0, 11.5, 31.0, -17.0, -5.25, -7.0, 19.5, -19.0, 12.75, 3.0, -18.5, -10.75, -31.5, 0.25, 14.5, -20.75, 17.75, 22.5, -2.0, -2.25, -26.0, 9.75, -10.25, 17.25, -2.75, 14.25, -23.25, -17.0, -3.0, 4.0, 0.5, 9.25, 13.0, -5.25, -4.5, 21.25, 5.5, -4.75, -0.25, 30.5, -7.25, 8.75, -5.25, 8.25, 6.5, -1.5, -20.0, -23.25, -32.25, 14.0, 9.5, -3.5, 32.5, -8.0, -26.25, -11.0, 2.75, -26.5, 3.75, -1.5, -15.0, -10.75, -26.5, 15.5, 24.5, 1.25, -23.5, 11.75, 4.75, 8.75, 0.25, 19.25, -21.75, 7.25, 10.0, -26.0, -3.0, -5.0, -17.0, 8.5, 1.5, -29.5, 8.25, 0.5, -4.5, -26.75, 13.25, -26.5, -28.0, 8.25, 5.0, -2.75, -1.5, -1.25, -15.75, -10.0, 6.5, 18.0, -0.75, 31.25, -30.25, -16.0, 27.5, -3.25, 10.25, -12.75, 16.0, -9.0, -9.5, -0.75, 15.75, -1.0, 7.75, 29.25, -21.25, 12.75, -20.5, -13.25, 4.25, 17.5, -3.75, 3.0, 16.5, 11.5, 20.25, 15.0, 6.0, 35.0, 7.0, 6.0, 15.25, -2.25, -37.5, -10.75, 14.0, 0.25, 14.5, 6.25, -6.5, -6.25, 12.25, 13.75, 7.25, 9.25, -23.25, 0.25, -12.25, 22.75, -7.5, 10.0, 7.0, -1.25, 25.75, -0.75, -1.25, 6.0, -1.25, 2.5, -7.0, 0.25, -28.5, -1.25, 7.25, 5.0, -25.0, -20.5, -2.25, 18.5, 11.25, 14.75, 14.25, 21.0, 8.0, -16.5, -18.0, 21.75, 16.0, -23.75, 25.25, 0.0, 10.25, -9.0, -2.0, -20.0, 5.25, 31.5, 10.25, 22.75, 7.25, 12.75, 8.25, -0.5, 6.25, -20.5, 6.25, -7.75, 6.75, 29.75, 12.25, -10.75, 5.0, -42.0, -32.5, -2.0, -35.5, -7.5, -8.5, -11.0, -34.5, 7.5, 17.5, -7.0, -4.5, -30.5, -24.5, -20.5, 0.5, -19.0, -27.0, -12.5, -27.0, -27.5, -10.0, 39.5, 26.5, 5.0, -31.0, 12.5, 14.0, -8.5, -6.5, 9.0, 7.5, -18.0, -11.5, 8.5, -38.0, -28.0, 20.5, -9.5, -13.0, 4.5, 9.5, -7.5, 4.0, 17.0, 5.5, 50.0, 35.5, 11.5, -17.5, -12.5, 23.0, 11.5, 2.5, 9.5, -0.5, -37.0, 25.0, -2.5, -24.5, -30.5, 29.5, 24.0, -11.5, -2.5, 20.5, 41.5, -26.5, -23.0, -2.0, -21.5, 1.0, -10.0, -34.0, -17.5, -7.0, -33.0, -19.5, -18.5, -11.0, -4.5, -3.0, 18.0, -19.5, 11.0, -42.0, 24.0, 14.0, 7.0, 17.5, 35.0, -22.0, -2.5, -9.5, -11.0, 17.0, -11.5, 0.5, -20.5, -33.5, 5.5, 39.5, -3.5, -42.5, 4.5, -27.5, -15.0, -9.5, -3.0, 25.0, -3.0, -1.0, -5.0, -12.5, 30.5, 15.5, -0.5, -33.0, -4.0, 24.5, 14.0, 10.5, -13.5, -3.0, -20.0, -3.5, -27.5, -2.5, -8.0, 16.0, -24.0, 4.5, -14.5, -3.5, -6.0, 5.5, -16.5, 26.0, -16.5, -1.5, 38.5, 7.5, -27.0, -16.5, 12.0, 37.5, 2.5, 21.0, -1.0, 20.5, -12.0, -14.5, 4.5, 13.0, -5.5, 6.0, 1.5, 8.0, 0.5, 27.0, -39.5, -23.0, -5.5, 9.0, 16.5, -3.0, -3.0, 15.0, 18.0, -20.5, -0.5, 24.5, -10.5, -12.5, 2.0, 5.0, 25.0, 43.5, 40.0, -5.0, -9.0, 15.0, 14.5, 30.5, -5.5, -18.0, -13.5, 14.0, -2.5, -12.0, -7.0, -9.0, 9.5, 18.5, 11.0, 32.0, -41.5, -25.5, -40.0, 23.0, -7.0, 15.0, -3.0, -4.5, -7.5, 25.0, -10.5, -13.5, 0.0, -6.0, 0.0, -23.0, -24.0, 18.0, -6.0, 2.0, -12.0, 14.5, 4.5, 2.5, -1.0, 5.0, 24.0, 1.5, 12.0, 2.5, -31.5, 4.5, -13.0, -3.0, 41.0, -7.5, 3.5, 23.0, -10.5, 16.0, 10.0, 13.5, 21.5, -10.5, 22.5, 3.0, -21.5, -29.0, -18.0, -22.0, -10.5, -8.5, 15.0, 10.5, 7.0, -38.0, -6.5, -22.0, 18.5, 2.5, -3.0, 16.0, -14.5, 3.0, -23.0, -12.5, 20.5, -21.5, -14.5, 33.0, 19.0, 0.5, 22.5, 33.0, 4.0, -8.0, -38.0, 13.5, 4.5, -24.5, 23.0, -3.5, -31.5, 1.0, -43.0, 6.0, 1.5, -20.0, 4.5, -18.5, 1.5, -9.0, 12.0, 46.5, 14.0, 26.5, -21.5, 10.5, -21.0, 32.5, -18.5, -33.0, -28.5, 49.0, 0.5, -31.5, 24.5, -37.5, -0.5, 2.0, -10.0, -13.0, -10.5, -2.0, 6.5, 8.5, -15.0, -26.0, 20.0, 18.0, 11.0, -6.5, 21.0, -32.0, 25.5, -5.0, -26.5, 2.5, -3.5, -7.0, -7.0, -39.0, 13.0, 27.5, 21.0, 6.0, 9.5, 26.5, -11.5, -2.0, 19.5, 11.0, 2.5, -8.5, 1.0, -21.5, -8.0, 19.5, -2.5, -29.0, -3.5, -19.5, -36.0, 8.0, 2.0, -11.5, 7.0, 6.5, 2.5, -18.0, -38.0, -7.0, -18.0, -1.0, 26.5, -23.0, 13.0, -7.5, 14.5, -2.5, 10.5, 2.5, -15.5, -16.0, 39.0, 43.0, -15.5, 5.0, 17.5, 0.5, -14.5, -15.5, 15.0, 41.5, -1.5, 18.5, 25.0, -4.0, 13.0, -5.0, -17.5, -13.0, 20.0, 10.0, -24.5, 26.0, -15.5, -20.0, -0.5, 4.0, -13.5, 14.0, 8.5, -3.5, 7.0, -37.5, 17.0, -23.5, 36.0, -7.5, 21.0, -0.5, 1.5, 33.5, 6.5, 22.0, 29.0, -11.5, 0.0, 24.0, -2.5, -5.5, 15.0, 1.5, -27.0, -24.5, -23.5, -16.5, 27.0, 33.0, -22.0, 9.0, 7.0, -13.5, 21.0, -15.5, -9.5, -1.5, -12.0, -27.0, 9.5, -20.5, 40.5, -26.0, -13.0, -40.5, -0.5, 36.5, 48.0, -6.5, 2.5, -34.5, 15.0, -40.5, -11.0, -19.5, 11.0, 3.0, 16.0, -36.0, -20.0, 17.5, 27.5, 19.0, 36.0, -37.0, 5.5, -29.0, 25.0, -5.5, 2.0, -22.0, -12.5, 3.0, -21.0, -5.5, 14.0, 1.0, -17.0, -1.5, -9.5, 16.5, -2.5, -12.5, -23.0, 12.0, 2.0, -28.5, -22.0, -2.5, 7.0, -29.0, -8.5, -39.5, -13.0, -14.0, -13.5, 3.0, 25.0, -34.5, 4.0, -18.5, 8.5, -22.0, -12.5, -8.5, -9.0, -18.5, -15.0, -19.5, -17.0, -10.5, 5.0, -1.5, 24.0]\n"
     ]
    }
   ],
   "source": [
    "def haarWavelet(ls):\n",
    "    length = len(ls)  # 입력받은 리스트의 길이\n",
    "    output = [0.0]*length # 결과를 출력할 리스트\n",
    "    length //= 2 # 길이를 절반으로 줄임\n",
    "\n",
    "    while True:\n",
    "        for i in range(0,length):\n",
    "            summ = (ls[i * 2] + ls[i * 2 + 1])/2 \n",
    "            diff = (ls[i * 2] - ls[i * 2 + 1])/2\n",
    "            output[i] = summ\n",
    "            output[length + i] = diff # summ과 diff를 output에 저장\n",
    "\n",
    "        if length == 1:\n",
    "            return output # 길이가 1일 경우 결과 출력\n",
    "        \n",
    "        ls = output[:length] # ls를 summ만 있는 부분으로 업데이트\n",
    "        length //= 2 # 길이를 절반으로 줄인뒤 이를 길이가 1이 될때까지 반복\n",
    "\n",
    "haar = haarWavelet(random_numbers) # 샘플링한 데이터로부터 Haar Wavelet Transformation 수행\n",
    "print(haar) # 변환된 값 확인"
   ]
  },
  {
   "cell_type": "code",
   "execution_count": 4,
   "metadata": {},
   "outputs": [
    {
     "name": "stdout",
     "output_type": "stream",
     "text": [
      "[49.7919921875, 0.9365234375, 1.708984375, 1.703125, 1.328125, 0.39453125, -2.91015625, -2.08203125, -0.71875, -1.359375, -1.1484375, -1.140625, 1.1484375, -0.40625, 1.3203125, -0.125, -4.265625, 0.421875, -0.84375, -2.75, 0.859375, 2.25, -0.203125, 3.203125, -0.421875, 3.8125, 1.75, 11.6875, -3.203125, -3.84375, -3.796875, -5.921875, 1.84375, -5.3125, -4.34375, 10.625, 3.84375, 6.65625, -3.28125, 10.90625, 3.875, -7.03125, -8.125, 3.6875, -2.40625, 7.0, -8.21875, -0.6875, 1.75, -1.53125, -4.0625, -2.0625, -2.0625, -4.6875, 5.125, 5.4375, -2.6875, -3.71875, 0.03125, -4.34375, 0.0, -9.65625, 2.75, 1.78125, -18.25, -3.3125, 3.0, -6.625, 2.0625, 15.625, 2.0625, 6.3125, -7.0, 13.0625, 3.875, 14.4375, -5.3125, 13.875, 0.375, -6.1875, -11.625, -6.875, -5.0, 8.9375, 2.5625, -8.1875, 10.375, -4.75, -6.375, -1.1875, -0.3125, 8.8125, -3.875, -2.0625, 3.5, 2.0, -7.125, 11.125, 9.5625, -6.125, -1.625, -9.75, 5.375, 4.625, 2.0, -1.0, 12.875, 15.625, 0.6875, -4.0625, 18.625, 6.375, 15.625, -15.875, -1.375, 12.4375, -6.1875, 20.25, -6.375, 7.0625, -5.8125, 2.1875, -3.625, -3.9375, 1.6875, -6.9375, -6.4375, 8.25, -2.875, 4.125, 15.875, 0.25, -7.75, -16.25, 8.75, -12.0, 20.625, -2.5, 2.375, -1.625, -5.75, -13.375, -19.5, 3.375, -2.75, 9.0, -9.125, -3.5, -4.375, 10.875, -7.375, 9.75, 1.125, 3.25, -9.375, 1.125, 13.5, -13.25, 13.625, 2.0, 1.375, -0.625, 7.625, 18.875, 1.375, -3.375, -2.875, -4.25, -1.5, 12.125, -9.75, -6.125, 7.625, -3.125, 9.125, 4.875, -3.25, -3.0, -23.0, 0.625, 12.375, 4.5, 6.0, 12.875, 3.875, -5.875, -7.625, -7.75, 8.625, 15.125, -2.5, -3.5, -14.75, 17.75, 4.75, 5.0, -4.75, -4.875, -2.125, -10.125, 2.375, 2.625, -8.625, 2.625, 6.0, -12.5, -2.625, 7.375, -2.0, -6.25, 6.625, 3.375, 15.75, 11.0, 0.375, 6.875, 0.875, -11.5, 10.375, 4.0, 21.25, 4.75, -5.125, 1.125, 20.375, -2.375, -0.25, -2.0, -9.75, -8.5, 15.25, -0.875, 7.5, 7.625, 6.625, -3.625, 13.125, 0.125, -7.0, 0.875, 1.75, 0.125, -3.5, 1.875, 3.375, -8.125, 11.625, 9.0, -0.625, 4.75, -4.0, 23.125, -9.375, 6.25, 13.0, -18.0, -21.5, 31.25, -17.5, 8.75, -20.0, -7.25, 12.0, 8.5, 17.25, 1.25, -5.75, 9.75, -16.25, 16.75, 2.75, 6.25, 16.25, 5.5, -1.0, -24.5, -11.25, 4.0, -23.0, -4.75, -0.5, -13.0, -18.25, 15.5, -19.75, -11.25, -13.0, 2.75, 35.5, 0.0, 3.75, -1.75, -34.0, -15.25, -9.5, 16.0, 28.25, 11.5, -14.75, 3.5, 19.0, 3.75, 11.75, -8.25, 10.75, -39.5, 1.5, -1.0, -14.0, -5.75, 32.25, -13.0, -2.0, 11.5, 31.0, -17.0, -5.25, -7.0, 19.5, -19.0, 12.75, 3.0, -18.5, -10.75, -31.5, 0.25, 14.5, -20.75, 17.75, 22.5, -2.0, -2.25, -26.0, 9.75, -10.25, 17.25, -2.75, 14.25, -23.25, -17.0, -3.0, 4.0, 0.5, 9.25, 13.0, -5.25, -4.5, 21.25, 5.5, -4.75, -0.25, 30.5, -7.25, 8.75, -5.25, 8.25, 6.5, -1.5, -20.0, -23.25, -32.25, 14.0, 9.5, -3.5, 32.5, -8.0, -26.25, -11.0, 2.75, -26.5, 3.75, -1.5, -15.0, -10.75, -26.5, 15.5, 24.5, 1.25, -23.5, 11.75, 4.75, 8.75, 0.25, 19.25, -21.75, 7.25, 10.0, -26.0, -3.0, -5.0, -17.0, 8.5, 1.5, -29.5, 8.25, 0.5, -4.5, -26.75, 13.25, -26.5, -28.0, 8.25, 5.0, -2.75, -1.5, -1.25, -15.75, -10.0, 6.5, 18.0, -0.75, 31.25, -30.25, -16.0, 27.5, -3.25, 10.25, -12.75, 16.0, -9.0, -9.5, -0.75, 15.75, -1.0, 7.75, 29.25, -21.25, 12.75, -20.5, -13.25, 4.25, 17.5, -3.75, 3.0, 16.5, 11.5, 20.25, 15.0, 6.0, 35.0, 7.0, 6.0, 15.25, -2.25, -37.5, -10.75, 14.0, 0.25, 14.5, 6.25, -6.5, -6.25, 12.25, 13.75, 7.25, 9.25, -23.25, 0.25, -12.25, 22.75, -7.5, 10.0, 7.0, -1.25, 25.75, -0.75, -1.25, 6.0, -1.25, 2.5, -7.0, 0.25, -28.5, -1.25, 7.25, 5.0, -25.0, -20.5, -2.25, 18.5, 11.25, 14.75, 14.25, 21.0, 8.0, -16.5, -18.0, 21.75, 16.0, -23.75, 25.25, 0.0, 10.25, -9.0, -2.0, -20.0, 5.25, 31.5, 10.25, 22.75, 7.25, 12.75, 8.25, -0.5, 6.25, -20.5, 6.25, -7.75, 6.75, 29.75, 12.25, -10.75, 5.0, -42.0, -32.5, -2.0, -35.5, -7.5, -8.5, -11.0, -34.5, 7.5, 17.5, -7.0, -4.5, -30.5, -24.5, -20.5, 0.5, -19.0, -27.0, -12.5, -27.0, -27.5, -10.0, 39.5, 26.5, 5.0, -31.0, 12.5, 14.0, -8.5, -6.5, 9.0, 7.5, -18.0, -11.5, 8.5, -38.0, -28.0, 20.5, -9.5, -13.0, 4.5, 9.5, -7.5, 4.0, 17.0, 5.5, 50.0, 35.5, 11.5, -17.5, -12.5, 23.0, 11.5, 2.5, 9.5, -0.5, -37.0, 25.0, -2.5, -24.5, -30.5, 29.5, 24.0, -11.5, -2.5, 20.5, 41.5, -26.5, -23.0, -2.0, -21.5, 1.0, -10.0, -34.0, -17.5, -7.0, -33.0, -19.5, -18.5, -11.0, -4.5, -3.0, 18.0, -19.5, 11.0, -42.0, 24.0, 14.0, 7.0, 17.5, 35.0, -22.0, -2.5, -9.5, -11.0, 17.0, -11.5, 0.5, -20.5, -33.5, 5.5, 39.5, -3.5, -42.5, 4.5, -27.5, -15.0, -9.5, -3.0, 25.0, -3.0, -1.0, -5.0, -12.5, 30.5, 15.5, -0.5, -33.0, -4.0, 24.5, 14.0, 10.5, -13.5, -3.0, -20.0, -3.5, -27.5, -2.5, -8.0, 16.0, -24.0, 4.5, -14.5, -3.5, -6.0, 5.5, -16.5, 26.0, -16.5, -1.5, 38.5, 7.5, -27.0, -16.5, 12.0, 37.5, 2.5, 21.0, -1.0, 20.5, -12.0, -14.5, 4.5, 13.0, -5.5, 6.0, 1.5, 8.0, 0.5, 27.0, -39.5, -23.0, -5.5, 9.0, 16.5, -3.0, -3.0, 15.0, 18.0, -20.5, -0.5, 24.5, -10.5, -12.5, 2.0, 5.0, 25.0, 43.5, 40.0, -5.0, -9.0, 15.0, 14.5, 30.5, -5.5, -18.0, -13.5, 14.0, -2.5, -12.0, -7.0, -9.0, 9.5, 18.5, 11.0, 32.0, -41.5, -25.5, -40.0, 23.0, -7.0, 15.0, -3.0, 0.0, 0.0, 0.0, 0.0, 0.0, 0.0, 0.0, 0.0, 0.0, 0.0, 0.0, 0.0, 0.0, 0.0, 0.0, 0.0, 0.0, 0.0, 0.0, 0.0, 0.0, 0.0, 0.0, 0.0, 0.0, 0.0, 0.0, 0.0, 0.0, 0.0, 0.0, 0.0, 0.0, 0.0, 0.0, 0.0, 0.0, 0.0, 0.0, 0.0, 0.0, 0.0, 0.0, 0.0, 0.0, 0.0, 0.0, 0.0, 0.0, 0.0, 0.0, 0.0, 0.0, 0.0, 0.0, 0.0, 0.0, 0.0, 0.0, 0.0, 0.0, 0.0, 0.0, 0.0, 0.0, 0.0, 0.0, 0.0, 0.0, 0.0, 0.0, 0.0, 0.0, 0.0, 0.0, 0.0, 0.0, 0.0, 0.0, 0.0, 0.0, 0.0, 0.0, 0.0, 0.0, 0.0, 0.0, 0.0, 0.0, 0.0, 0.0, 0.0, 0.0, 0.0, 0.0, 0.0, 0.0, 0.0, 0.0, 0.0, 0.0, 0.0, 0.0, 0.0, 0.0, 0.0, 0.0, 0.0, 0.0, 0.0, 0.0, 0.0, 0.0, 0.0, 0.0, 0.0, 0.0, 0.0, 0.0, 0.0, 0.0, 0.0, 0.0, 0.0, 0.0, 0.0, 0.0, 0.0, 0.0, 0.0, 0.0, 0.0, 0.0, 0.0, 0.0, 0.0, 0.0, 0.0, 0.0, 0.0, 0.0, 0.0, 0.0, 0.0, 0.0, 0.0, 0.0, 0.0, 0.0, 0.0, 0.0, 0.0, 0.0, 0.0, 0.0, 0.0, 0.0, 0.0, 0.0, 0.0, 0.0, 0.0, 0.0, 0.0, 0.0, 0.0, 0.0, 0.0, 0.0, 0.0, 0.0, 0.0, 0.0, 0.0, 0.0, 0.0, 0.0, 0.0, 0.0, 0.0, 0.0, 0.0, 0.0, 0.0, 0.0, 0.0, 0.0, 0.0, 0.0, 0.0, 0.0, 0.0, 0.0, 0.0, 0.0, 0.0, 0.0, 0.0, 0.0, 0.0, 0.0, 0.0, 0.0, 0.0, 0.0, 0.0, 0.0, 0.0, 0.0, 0.0, 0.0, 0.0, 0.0, 0.0, 0.0, 0.0, 0.0, 0.0, 0.0, 0.0, 0.0, 0.0, 0.0, 0.0, 0.0, 0.0, 0.0, 0.0, 0.0, 0.0, 0.0, 0.0, 0.0, 0.0, 0.0, 0.0, 0.0, 0.0, 0.0, 0.0, 0.0, 0.0, 0.0, 0.0, 0.0, 0.0, 0.0, 0.0, 0.0, 0.0, 0.0, 0.0, 0.0, 0.0, 0.0, 0.0, 0.0, 0.0, 0.0, 0.0, 0.0, 0.0, 0.0, 0.0, 0.0, 0.0, 0.0, 0.0, 0.0, 0.0, 0.0, 0.0, 0.0, 0.0, 0.0, 0.0, 0.0, 0.0, 0.0, 0.0, 0.0, 0.0, 0.0, 0.0, 0.0, 0.0, 0.0, 0.0, 0.0, 0.0, 0.0, 0.0, 0.0, 0.0, 0.0, 0.0, 0.0, 0.0, 0.0, 0.0, 0.0, 0.0, 0.0, 0.0, 0.0, 0.0, 0.0, 0.0]\n"
     ]
    }
   ],
   "source": [
    "compHaar = haar\n",
    "\n",
    "compHaar[int(len(compHaar)*0.7):len(compHaar)] = [0.0] * len(compHaar[int(len(compHaar)*0.7):len(compHaar)])\n",
    "print(compHaar) # 변환한 데이터에 대해 30% 압축 수행\n"
   ]
  },
  {
   "cell_type": "code",
   "execution_count": 5,
   "metadata": {},
   "outputs": [],
   "source": [
    "def inverse_haar(ls):\n",
    "    \n",
    "    n = len(ls)\n",
    "    output = [0 for _ in range(n)] # return할 리스트인 output 생성\n",
    "    x = [i for i in ls] # 함수 내에서 사용될 x 리스트 생성\n",
    "\n",
    "    count = 2\n",
    "    while count <= n:\n",
    "\n",
    "        for i in range(count//2): # count에 대하여 반복문 시행\n",
    "            output[2*i] = x[i] + x[i + count//2] # output에 역변환을 시행한 값들을 삽입\n",
    "            output[2*i + 1] = x[i] - x[i + count//2] \"\"\"이때, x의 앞부분에는 업데이트된 값들이 들어가고 뒤에 가중치들이 있기에\n",
    "            count 값을 이용하여 가중치에 대한 값에 연산을 수행할 수 있게 정해줌\"\"\"\n",
    "        for i in range(count):\n",
    "            x[i] = output[i] # count를 올린 후 x에다가 output을 복사\n",
    "\n",
    "        count *= 2\n",
    "    \n",
    "    return output\n"
   ]
  },
  {
   "cell_type": "code",
   "execution_count": 6,
   "metadata": {},
   "outputs": [
    {
     "name": "stdout",
     "output_type": "stream",
     "text": [
      "[13.0, 3.0, 9.0, 93.0, 34.0, 99.0, 2.0, 6.0, 20.0, 91.0, 83.0, 98.0, 65.0, 82.0, 45.0, 67.0, 5.0, 74.0, 87.0, 72.0, 38.0, 3.0, 28.0, 42.0, 58.0, 67.0, 8.0, 69.0, 34.0, 83.0, 21.0, 62.0, 65.0, 64.0, 11.0, 49.0, 37.0, 91.0, 49.0, 74.0, 0.0, 54.0, 11.0, 66.0, 65.0, 85.0, 95.0, 16.0, 75.0, 22.0, 86.0, 76.0, 33.0, 95.0, 43.0, 18.0, 74.0, 46.0, 46.0, 63.0, 81.0, 94.0, 84.0, 66.0, 97.0, 82.0, 39.0, 75.0, 26.0, 49.0, 35.0, 18.0, 7.0, 83.0, 19.0, 75.0, 47.0, 6.0, 66.0, 85.0, 53.0, 79.0, 93.0, 84.0, 86.0, 67.0, 61.0, 76.0, 23.0, 15.0, 82.0, 48.0, 46.0, 35.0, 100.0, 0.0, 96.0, 25.0, 73.0, 50.0, 42.0, 77.0, 73.0, 98.0, 54.0, 8.0, 79.0, 56.0, 94.0, 89.0, 70.0, 51.0, 10.0, 11.0, 13.0, 87.0, 83.0, 33.0, 78.0, 83.0, 3.0, 52.0, 23.0, 84.0, 66.0, 7.0, 55.0, 7.0, 67.0, 90.0, 5.0, 10.0, 69.0, 28.0, 90.0, 7.0, 46.0, 99.0, 42.0, 88.0, 47.0, 51.0, 31.0, 74.0, 16.0, 14.0, 73.0, 93.0, 18.0, 86.0, 65.0, 100.0, 12.0, 26.0, 5.0, 71.0, 32.0, 71.0, 1.0, 38.0, 74.0, 96.0, 24.0, 33.0, 74.0, 80.0, 72.0, 36.0, 30.0, 69.0, 90.0, 68.0, 4.0, 88.0, 63.0, 15.0, 84.0, 56.0, 39.0, 25.0, 87.0, 52.0, 97.0, 27.0, 29.0, 73.0, 25.0, 30.0, 2.0, 21.0, 17.0, 39.0, 70.0, 36.0, 20.0, 43.0, 1.0, 0.0, 59.0, 100.0, 23.0, 90.0, 59.0, 48.0, 87.0, 8.0, 46.0, 53.0, 1.0, 86.0, 76.0, 67.0, 43.0, 98.0, 67.0, 97.0, 63.0, 82.0, 5.0, 11.0, 50.0, 0.0, 48.0, 54.0, 77.0, 79.0, 77.0, 87.0, 52.0, 77.0, 72.0, 11.0, 99.0, 68.0, 21.0, 22.0, 29.0, 95.0, 92.0, 100.0, 71.0, 22.0, 71.0, 43.0, 28.0, 7.0, 18.0, 45.0, 69.0, 75.0, 13.0, 53.0, 26.0, 33.0, 40.0, 95.0, 53.0, 58.0, 22.0, 38.0, 59.0, 27.0, 13.0, 61.0, 50.0, 41.0, 68.0, 97.0, 51.0, 58.0, 70.0, 82.0, 20.0, 9.0, 61.0, 94.0, 57.0, 5.0, 14.0, 47.0, 84.0, 87.0, 95.0, 18.0, 20.0, 5.0, 27.0, 81.0, 38.0, 71.0, 31.0, 7.0, 94.0, 19.0, 14.0, 9.0, 61.0, 19.0, 43.0, 45.0, 67.0, 26.0, 39.0, 63.0, 20.0, 49.0, 91.0, 82.0, 89.0, 63.0, 51.0, 62.0, 37.0, 25.0, 53.0, 50.0, 75.0, 59.0, 33.0, 32.0, 70.0, 16.0, 9.0, 88.0, 40.0, 86.0, 29.0, 40.0, 40.0, 22.0, 94.0, 61.0, 10.0, 16.0, 44.0, 50.0, 55.0, 25.0, 64.0, 28.0, 46.0, 87.0, 58.0, 59.0, 88.0, 39.0, 52.0, 73.0, 72.0, 97.0, 68.0, 64.0, 88.0, 78.0, 82.0, 32.0, 93.0, 6.0, 100.0, 20.0, 29.0, 39.0, 34.0, 52.0, 81.0, 51.0, 38.0, 9.0, 85.0, 24.0, 38.0, 49.0, 8.0, 44.0, 22.0, 49.0, 68.0, 40.0, 52.0, 57.0, 63.0, 87.0, 7.0, 21.0, 19.0, 37.0, 52.0, 33.0, 69.0, 32.0, 44.0, 22.0, 75.0, 11.0, 12.0, 95.0, 37.0, 88.0, 6.0, 86.0, 55.0, 9.0, 12.0, 26.0, 85.0, 55.0, 70.0, 76.0, 31.5, 31.5, 71.5, 71.5, 27.0, 27.0, 73.5, 73.5, 34.5, 34.5, 99.0, 99.0, 56.0, 56.0, 28.0, 28.0, 69.0, 69.0, 50.0, 50.0, 47.0, 47.0, 54.0, 54.0, 88.0, 88.0, 23.0, 23.0, 35.5, 35.5, 51.5, 51.5, 18.5, 18.5, 71.0, 71.0, 8.0, 8.0, 30.0, 30.0, 47.5, 47.5, 42.0, 42.0, 10.5, 10.5, 63.5, 63.5, 46.5, 46.5, 39.0, 39.0, 53.0, 53.0, 56.0, 56.0, 36.5, 36.5, 66.5, 66.5, 56.0, 56.0, 77.5, 77.5, 29.0, 29.0, 82.0, 82.0, 86.5, 86.5, 55.5, 55.5, 82.5, 82.5, 33.5, 33.5, 42.0, 42.0, 39.5, 39.5, 34.0, 34.0, 81.0, 81.0, 39.0, 39.0, 15.5, 15.5, 51.5, 51.5, 42.0, 42.0, 60.5, 60.5, 43.0, 43.0, 42.0, 42.0, 41.5, 41.5, 68.0, 68.0, 29.5, 29.5, 6.5, 6.5, 50.0, 50.0, 65.0, 65.0, 50.5, 50.5, 85.0, 85.0, 65.0, 65.0, 13.5, 13.5, 65.5, 65.5, 59.5, 59.5, 65.5, 65.5, 48.0, 48.0, 58.0, 58.0, 23.5, 23.5, 57.5, 57.5, 39.0, 39.0, 22.0, 22.0, 54.0, 54.0, 51.0, 51.0, 32.5, 32.5, 91.5, 91.5, 41.5, 41.5, 25.0, 25.0, 43.5, 43.5, 42.5, 42.5, 38.0, 38.0, 47.0, 47.0, 20.0, 20.0, 73.5, 73.5, 60.0, 60.0, 33.5, 33.5, 40.5, 40.5, 93.5, 93.5, 19.0, 19.0, 75.0, 75.0, 50.5, 50.5, 34.0, 34.0, 55.5, 55.5, 45.5, 45.5, 42.5, 42.5, 48.0, 48.0, 34.5, 34.5, 37.5, 37.5, 52.0, 52.0, 54.5, 54.5, 51.0, 51.0, 82.5, 82.5, 51.5, 51.5, 71.5, 71.5, 58.5, 58.5, 45.5, 45.5, 58.0, 58.0, 22.0, 22.0, 22.0, 22.0, 23.5, 23.5, 79.0, 79.0, 16.5, 16.5, 16.5, 16.5, 77.0, 77.0, 36.0, 36.0, 68.0, 68.0, 75.0, 75.0, 20.0, 20.0, 29.5, 29.5, 36.0, 36.0, 63.0, 63.0, 42.5, 42.5, 44.0, 44.0, 69.5, 69.5, 60.5, 60.5, 28.5, 28.5, 48.0, 48.0, 66.0, 66.0, 53.0, 53.0, 72.0, 72.0, 48.5, 48.5, 50.0, 50.0, 77.0, 77.0, 45.5, 45.5, 53.5, 53.5, 55.5, 55.5, 83.0, 83.0, 67.5, 67.5, 73.0, 73.0, 14.5, 14.5, 23.5, 23.5, 66.0, 66.0, 35.5, 35.5, 10.0, 10.0, 51.5, 51.5, 92.5, 92.5, 58.0, 58.0, 84.5, 84.5, 51.5, 51.5, 43.0, 43.0, 51.0, 51.0, 16.0, 16.0, 68.5, 68.5, 76.0, 76.0, 73.5, 73.5, 67.5, 67.5, 75.0, 75.0, 42.0, 42.0, 93.0, 93.0, 70.0, 70.0, 87.0, 87.0, 46.5, 46.5, 61.0, 61.0, 31.0, 31.0, 74.5, 74.5, 62.5, 62.5, 95.5, 95.5, 25.5, 25.5, 94.5, 94.5, 80.5, 80.5, 51.0, 51.0, 39.0, 39.0, 49.0, 49.0, 18.5, 18.5, 22.0, 22.0, 26.5, 26.5, 0.5, 0.5, 75.5, 75.5, 37.5, 37.5, 59.0, 59.0, 45.5, 45.5, 17.5, 17.5, 29.5, 29.5, 29.0, 29.0, 91.0, 91.0, 62.0, 62.0, 42.0, 42.0, 29.5, 29.5, 16.0, 16.0, 29.0, 29.0, 21.0, 21.0, 33.5, 33.5, 42.0, 42.0, 17.5, 17.5, 44.0, 44.0, 16.5, 16.5, 67.0, 67.0, 52.5, 52.5, 73.0, 73.0, 54.5, 54.5, 11.5, 11.5, 58.0, 58.0, 54.5, 54.5, 54.0, 54.0, 26.5, 26.5, 51.0, 51.0, 78.5, 78.5, 33.0, 33.0, 73.5, 73.5, 88.5, 88.5, 60.5, 60.5, 40.5, 40.5, 47.0, 47.0, 33.0, 33.0, 40.5, 40.5, 43.0, 43.0, 67.0, 67.0, 15.5, 15.5, 25.5, 25.5, 27.0, 27.0, 52.5, 52.5, 55.0, 55.0, 44.5, 44.5, 32.5, 32.5, 65.5, 65.5, 68.0, 68.0, 56.0, 56.0, 51.0, 51.0, 9.0, 9.0, 23.0, 23.0, 23.5, 23.5, 23.0, 23.0, 21.5, 21.5, 78.5, 78.5, 22.5, 22.5, 25.0, 25.0, 57.0, 57.0, 42.5, 42.5, 54.5, 54.5, 44.5, 44.5, 27.0, 27.0, 77.0, 77.0, 45.5, 45.5, 86.5, 86.5, 43.5, 43.5, 48.0, 48.0, 62.5, 62.5, 25.5, 25.5, 52.5, 52.5, 30.0, 30.0, 52.5, 52.5, 23.0, 23.0, 65.5, 65.5, 37.0, 37.0, 72.0, 72.0, 30.0, 30.0, 52.0, 52.0, 36.0, 36.0, 34.5, 34.5, 67.5, 67.5, 27.0, 27.0, 63.0, 63.0, 63.0, 63.0, 19.5, 19.5, 59.0, 59.0, 27.0, 27.0, 12.5, 12.5, 60.0, 60.0, 64.0, 64.0, 13.5, 13.5, 55.0, 55.0, 55.0, 55.0, 80.5, 80.5, 60.0, 60.0, 38.0, 38.0, 56.0, 56.0, 73.5, 73.5, 77.5, 77.5, 37.5, 37.5, 77.5, 77.5, 52.5, 52.5, 42.0, 42.0, 80.0, 80.0, 17.0, 17.0, 59.5, 59.5, 39.0, 39.0, 62.5, 62.5, 17.0, 17.0, 37.0, 37.0, 22.5, 22.5, 50.5, 50.5, 25.0, 25.0, 79.0, 79.0, 62.5, 62.5, 24.0, 24.0, 25.0, 25.0, 47.5, 47.5, 35.0, 35.0, 39.5, 39.5, 80.5, 80.5, 76.0, 76.0, 63.5, 63.5, 49.5, 49.5, 65.0, 65.0, 81.5, 81.5, 68.0, 68.0, 78.5, 78.5, 19.0, 19.0, 39.5, 39.5, 15.0, 15.0, 52.5, 52.5, 74.0, 74.0]\n"
     ]
    }
   ],
   "source": [
    "print(inverse_haar(compHaar)) # 역 연산이 잘 시행되는지 확인"
   ]
  },
  {
   "cell_type": "code",
   "execution_count": 7,
   "metadata": {},
   "outputs": [
    {
     "name": "stdout",
     "output_type": "stream",
     "text": [
      "Axes(0.125,0.11;0.775x0.77)\n"
     ]
    },
    {
     "data": {
      "image/png": "[encoded data removed]",
      "text/plain": [
       "<Figure size 640x480 with 1 Axes>"
      ]
     },
     "metadata": {},
     "output_type": "display_data"
    }
   ],
   "source": [
    "print(sns.histplot(inverse_haar(compHaar))) # 압축을 한 후 역변환을 한 데이터의 히스토그램 출력"
   ]
  },
  {
   "cell_type": "code",
   "execution_count": 8,
   "metadata": {},
   "outputs": [
    {
     "name": "stdout",
     "output_type": "stream",
     "text": [
      "Axes(0.125,0.11;0.775x0.77)\n"
     ]
    },
    {
     "data": {
      "image/png": "[encoded data removed]",
      "text/plain": [
       "<Figure size 640x480 with 1 Axes>"
      ]
     },
     "metadata": {},
     "output_type": "display_data"
    }
   ],
   "source": [
    "print(sns.histplot(random_numbers)) # 원본 데이터"
   ]
  },
  {
   "cell_type": "code",
   "execution_count": 16,
   "metadata": {},
   "outputs": [],
   "source": [
    "\"\"\"두 그래프를 비교해보면 웨이블 변환 후 압축을 실행한 데이터의\n",
    "히스토그램이 좀 더 데이터가 가운데에 몰려 있는 듯한 형태의 분포를 보여주는 것을 확인할 수 있다.\"\"\""
   ]
  }
 ],
 "metadata": {
  "kernelspec": {
   "display_name": "Python 3 (ipykernel)",
   "language": "python",
   "name": "python3"
  },
  "language_info": {
   "codemirror_mode": {
    "name": "ipython",
    "version": 3
   },
   "file_extension": ".py",
   "mimetype": "text/x-python",
   "name": "python",
   "nbconvert_exporter": "python",
   "pygments_lexer": "ipython3",
   "version": "3.10.9"
  }
 },
 "nbformat": 4,
 "nbformat_minor": 2
}
