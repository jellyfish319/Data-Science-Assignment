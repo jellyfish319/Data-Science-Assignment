{
 "cells": [
  {
   "cell_type": "code",
   "execution_count": 1,
   "id": "d8c85bd0-38cf-420b-9a28-b7eae4bdf53b",
   "metadata": {},
   "outputs": [
    {
     "name": "stdout",
     "output_type": "stream",
     "text": [
      "Requirement already satisfied: nltk in c:\\anaconda3\\lib\\site-packages (3.7)\n",
      "Requirement already satisfied: click in c:\\anaconda3\\lib\\site-packages (from nltk) (8.0.4)\n",
      "Requirement already satisfied: joblib in c:\\anaconda3\\lib\\site-packages (from nltk) (1.1.1)\n",
      "Requirement already satisfied: regex>=2021.8.3 in c:\\anaconda3\\lib\\site-packages (from nltk) (2022.7.9)\n",
      "Requirement already satisfied: tqdm in c:\\anaconda3\\lib\\site-packages (from nltk) (4.64.1)\n",
      "Requirement already satisfied: colorama in c:\\anaconda3\\lib\\site-packages (from click->nltk) (0.4.6)\n"
     ]
    },
    {
     "name": "stderr",
     "output_type": "stream",
     "text": [
      "\n",
      "[notice] A new release of pip is available: 23.1.2 -> 24.0\n",
      "[notice] To update, run: python.exe -m pip install --upgrade pip\n"
     ]
    }
   ],
   "source": [
    "!pip install nltk"
   ]
  },
  {
   "cell_type": "code",
   "execution_count": 5,
   "id": "d98ce414-1072-4e3d-be70-36edf7a541e3",
   "metadata": {},
   "outputs": [
    {
     "name": "stderr",
     "output_type": "stream",
     "text": [
      "[nltk_data] Downloading package punkt to\n",
      "[nltk_data]     C:\\Users\\김수영\\AppData\\Roaming\\nltk_data...\n",
      "[nltk_data]   Package punkt is already up-to-date!\n"
     ]
    }
   ],
   "source": [
    "import nltk\n",
    "nltk.download('punkt')\n",
    "from nltk import word_tokenize\n",
    "import numpy as np"
   ]
  },
  {
   "cell_type": "code",
   "execution_count": 3,
   "id": "8c504b7d-e53b-42e6-bc06-1ec91271a5b8",
   "metadata": {},
   "outputs": [],
   "source": [
    "# tokenize\n",
    "docs = []\n",
    "with open(\"data.txt\", \"r\", encoding=\"utf-8\") as f:\n",
    "    text = f.read()\n",
    "    for doc in text.split(\"---\"):\n",
    "        doc = doc.lower() \n",
    "        tokens = word_tokenize(doc)\n",
    "        docs.append(tokens)"
   ]
  },
  {
   "cell_type": "code",
   "execution_count": 4,
   "id": "b01b6b12",
   "metadata": {},
   "outputs": [
    {
     "name": "stdout",
     "output_type": "stream",
     "text": [
      "[['graphics', 'processing', 'units', '(', 'gpus', ')', 'have', 'revolutionized', 'the', 'field', 'of', 'computing', 'since', 'their', 'inception', '.', 'initially', 'designed', 'to', 'accelerate', 'the', 'rendering', 'of', '3d', 'graphics', ',', 'gpus', 'have', 'evolved', 'to', 'become', 'powerful', 'computational', 'engines', 'capable', 'of', 'handling', 'complex', 'mathematical', 'operations', '.', 'this', 'evolution', 'has', 'made', 'them', 'indispensable', 'in', 'fields', 'such', 'as', 'artificial', 'intelligence', ',', 'machine', 'learning', ',', 'and', 'data', 'science', '.', 'modern', 'gpus', 'are', 'built', 'with', 'thousands', 'of', 'cores', 'that', 'can', 'perform', 'parallel', 'computations', ',', 'making', 'them', 'ideal', 'for', 'tasks', 'that', 'require', 'high', 'throughput', '.', 'the', 'integration', 'of', 'gpus', 'in', 'data', 'centers', 'and', 'personal', 'computers', 'has', 'enabled', 'significant', 'advancements', 'in', 'computational', 'power', ',', 'facilitating', 'research', 'and', 'development', 'in', 'various', 'scientific', 'domains', '.', 'as', 'technology', 'progresses', ',', 'the', 'role', 'of', 'gpus', 'in', 'computing', 'continues', 'to', 'expand', ',', 'promising', 'even', 'greater', 'capabilities', 'and', 'efficiencies', '.'], ['in', 'recent', 'years', ',', 'gpus', 'have', 'played', 'a', 'pivotal', 'role', 'in', 'advancing', 'machine', 'learning', '.', 'the', 'architecture', 'of', 'gpus', ',', 'which', 'allows', 'for', 'the', 'simultaneous', 'processing', 'of', 'multiple', 'data', 'streams', ',', 'makes', 'them', 'particularly', 'well-suited', 'for', 'training', 'deep', 'neural', 'networks', '.', 'this', 'capability', 'has', 'accelerated', 'the', 'development', 'of', 'complex', 'models', 'that', 'can', 'perform', 'tasks', 'such', 'as', 'image', 'and', 'speech', 'recognition', 'with', 'high', 'accuracy', '.', 'companies', 'like', 'nvidia', 'and', 'amd', 'have', 'been', 'at', 'the', 'forefront', 'of', 'this', 'revolution', ',', 'continuously', 'pushing', 'the', 'boundaries', 'of', 'gpu', 'performance', '.', 'by', 'leveraging', 'the', 'parallel', 'processing', 'power', 'of', 'gpus', ',', 'researchers', 'can', 'train', 'machine', 'learning', 'models', 'in', 'a', 'fraction', 'of', 'the', 'time', 'it', 'would', 'take', 'using', 'traditional', 'cpus', '.', 'this', 'has', 'led', 'to', 'rapid', 'innovations', 'and', 'the', 'practical', 'application', 'of', 'machine', 'learning', 'in', 'various', 'industries', ',', 'from', 'healthcare', 'to', 'finance', '.'], ['cryptocurrency', 'mining', 'has', 'become', 'a', 'popular', 'use', 'case', 'for', 'gpus', ',', 'driven', 'by', 'the', 'need', 'for', 'high', 'computational', 'power', 'to', 'solve', 'complex', 'cryptographic', 'puzzles', '.', 'the', 'decentralized', 'nature', 'of', 'cryptocurrencies', 'like', 'bitcoin', 'and', 'ethereum', 'relies', 'on', 'miners', 'who', 'validate', 'transactions', 'and', 'secure', 'the', 'network', '.', 'gpus', ',', 'with', 'their', 'ability', 'to', 'perform', 'massive', 'parallel', 'computations', ',', 'are', 'ideal', 'for', 'mining', 'operations', '.', 'they', 'offer', 'a', 'balance', 'of', 'power', 'efficiency', 'and', 'processing', 'capability', 'that', 'makes', 'them', 'more', 'effective', 'than', 'cpus', 'for', 'this', 'purpose', '.', 'the', 'demand', 'for', 'gpus', 'in', 'cryptocurrency', 'mining', 'has', 'surged', ',', 'leading', 'to', 'increased', 'prices', 'and', 'shortages', 'in', 'the', 'market', '.', 'this', 'phenomenon', 'has', 'also', 'spurred', 'the', 'development', 'of', 'specialized', 'mining', 'hardware', ',', 'such', 'as', 'asics', '(', 'application-specific', 'integrated', 'circuits', ')', ',', 'which', 'aim', 'to', 'optimize', 'mining', 'performance', 'further', '.', 'despite', 'these', 'advancements', ',', 'gpus', 'remain', 'a', 'crucial', 'component', 'in', 'the', 'cryptocurrency', 'ecosystem', ',', 'driving', 'both', 'the', 'mining', 'process', 'and', 'the', 'broader', 'adoption', 'of', 'digital', 'currencies', '.'], ['recommendation', 'systems', 'are', 'a', 'crucial', 'component', 'of', 'many', 'online', 'platforms', ',', 'designed', 'to', 'predict', 'and', 'suggest', 'items', 'that', 'users', 'are', 'likely', 'to', 'find', 'interesting', 'or', 'useful', '.', 'these', 'systems', 'utilize', 'algorithms', 'to', 'analyze', 'user', 'data', ',', 'such', 'as', 'past', 'behaviors', ',', 'preferences', ',', 'and', 'interactions', ',', 'to', 'generate', 'personalized', 'recommendations', '.', 'there', 'are', 'primarily', 'two', 'types', 'of', 'recommendation', 'systems', ':', 'collaborative', 'filtering', 'and', 'content-based', 'filtering', '.', 'collaborative', 'filtering', 'relies', 'on', 'the', 'behavior', 'and', 'preferences', 'of', 'similar', 'users', 'to', 'make', 'recommendations', ',', 'while', 'content-based', 'filtering', 'focuses', 'on', 'the', 'characteristics', 'of', 'items', 'and', 'the', 'user', \"'s\", 'past', 'preferences', '.', 'hybrid', 'systems', ',', 'which', 'combine', 'both', 'approaches', ',', 'are', 'also', 'common', 'to', 'enhance', 'accuracy', 'and', 'effectiveness', '.', 'recommendation', 'systems', 'are', 'widely', 'used', 'in', 'various', 'applications', ',', 'from', 'e-commerce', 'and', 'streaming', 'services', 'to', 'social', 'media', 'and', 'news', 'aggregators', ',', 'playing', 'a', 'significant', 'role', 'in', 'enhancing', 'user', 'experience', 'and', 'engagement', '.'], ['in', 'the', 'realm', 'of', 'e-commerce', ',', 'recommendation', 'systems', 'have', 'become', 'a', 'powerful', 'tool', 'for', 'driving', 'sales', 'and', 'improving', 'customer', 'satisfaction', '.', 'by', 'analyzing', 'user', 'behavior', ',', 'purchase', 'history', ',', 'and', 'browsing', 'patterns', ',', 'these', 'systems', 'can', 'provide', 'personalized', 'product', 'suggestions', 'that', 'match', 'the', 'individual', 'preferences', 'of', 'each', 'shopper', '.', 'this', 'personalization', 'increases', 'the', 'likelihood', 'of', 'purchases', 'by', 'presenting', 'users', 'with', 'items', 'they', 'are', 'more', 'likely', 'to', 'be', 'interested', 'in', '.', 'amazon', ',', 'for', 'example', ',', 'attributes', 'a', 'significant', 'portion', 'of', 'its', 'revenue', 'to', 'its', 'sophisticated', 'recommendation', 'system', ',', 'which', 'suggests', 'products', 'based', 'on', 'a', 'combination', 'of', 'collaborative', 'filtering', ',', 'content-based', 'filtering', ',', 'and', 'hybrid', 'approaches', '.', 'moreover', ',', 'recommendation', 'systems', 'help', 'e-commerce', 'platforms', 'manage', 'their', 'vast', 'inventories', 'by', 'highlighting', 'relevant', 'products', ',', 'thereby', 'enhancing', 'the', 'overall', 'shopping', 'experience', '.', 'as', 'technology', 'advances', ',', 'the', 'integration', 'of', 'artificial', 'intelligence', 'and', 'machine', 'learning', 'further', 'refines', 'these', 'systems', ',', 'making', 'them', 'more', 'accurate', 'and', 'effective', 'in', 'predicting', 'user', 'needs', 'and', 'driving', 'business', 'growth', '.'], ['soccer', ',', 'known', 'as', 'football', 'outside', 'of', 'north', 'america', ',', 'is', 'the', 'world', \"'s\", 'most', 'popular', 'sport', ',', 'with', 'an', 'estimated', '4', 'billion', 'fans', 'across', 'the', 'globe', '.', 'its', 'universal', 'appeal', 'lies', 'in', 'its', 'simplicity', 'and', 'accessibility', ';', 'all', 'that', 'is', 'needed', 'to', 'play', 'is', 'a', 'ball', 'and', 'a', 'flat', 'surface', '.', 'from', 'the', 'bustling', 'streets', 'of', 'rio', 'de', 'janeiro', 'to', 'the', 'open', 'fields', 'of', 'rural', 'africa', ',', 'soccer', 'is', 'played', 'and', 'enjoyed', 'by', 'people', 'of', 'all', 'ages', 'and', 'backgrounds', '.', 'the', 'sport', \"'s\", 'biggest', 'event', ',', 'the', 'fifa', 'world', 'cup', ',', 'held', 'every', 'four', 'years', ',', 'captures', 'the', 'attention', 'of', 'millions', ',', 'uniting', 'people', 'through', 'their', 'shared', 'passion', '.', 'iconic', 'players', 'like', 'pelé', ',', 'diego', 'maradona', ',', 'and', 'lionel', 'messi', 'have', 'become', 'global', 'superstars', ',', 'inspiring', 'generations', 'of', 'fans', 'and', 'players', '.', 'beyond', 'the', 'thrill', 'of', 'the', 'game', 'itself', ',', 'soccer', 'has', 'a', 'profound', 'cultural', 'and', 'social', 'impact', ',', 'fostering', 'community', 'spirit', 'and', 'bridging', 'cultural', 'divides', '.', 'whether', 'it', '’', 's', 'a', 'local', 'club', 'match', 'or', 'an', 'international', 'showdown', ',', 'the', 'excitement', 'and', 'passion', 'of', 'soccer', 'continue', 'to', 'bring', 'people', 'together', ',', 'making', 'it', 'more', 'than', 'just', 'a', 'sport', 'but', 'a', 'global', 'phenomenon', '.'], ['michelin-starred', 'restaurants', 'represent', 'the', 'pinnacle', 'of', 'culinary', 'excellence', ',', 'recognized', 'globally', 'for', 'their', 'exceptional', 'cuisine', ',', 'service', ',', 'and', 'ambiance', '.', 'the', 'michelin', 'guide', ',', 'originally', 'a', 'travel', 'guide', 'published', 'by', 'the', 'michelin', 'tire', 'company', ',', 'has', 'evolved', 'into', 'the', 'most', 'prestigious', 'restaurant', 'rating', 'system', 'in', 'the', 'world', '.', 'restaurants', 'can', 'receive', 'one', 'to', 'three', 'stars', ',', 'with', 'each', 'star', 'signifying', 'a', 'distinct', 'level', 'of', 'quality', ':', 'one', 'star', 'indicates', 'a', 'very', 'good', 'restaurant', ',', 'two', 'stars', 'denote', 'excellent', 'cooking', 'worth', 'a', 'detour', ',', 'and', 'three', 'stars', 'represent', 'exceptional', 'cuisine', 'worth', 'a', 'special', 'journey', '.', 'achieving', 'a', 'michelin', 'star', 'can', 'elevate', 'a', 'restaurant', \"'s\", 'reputation', 'and', 'success', ',', 'attracting', 'food', 'enthusiasts', 'from', 'around', 'the', 'world', '.', 'chefs', 'like', 'gordon', 'ramsay', ',', 'alain', 'ducasse', ',', 'and', 'heston', 'blumenthal', 'have', 'become', 'culinary', 'legends', 'through', 'their', 'michelin-starred', 'establishments', '.', 'the', 'rigorous', 'and', 'anonymous', 'inspection', 'process', 'ensures', 'that', 'only', 'the', 'finest', 'restaurants', 'receive', 'this', 'coveted', 'recognition', '.', 'michelin-starred', 'dining', 'is', 'not', 'just', 'about', 'the', 'food', ';', 'it', \"'s\", 'an', 'immersive', 'experience', 'that', 'combines', 'innovative', 'dishes', ',', 'impeccable', 'service', ',', 'and', 'a', 'carefully', 'curated', 'atmosphere', ',', 'creating', 'unforgettable', 'memories', 'for', 'diners', '.', 'the', 'pursuit', 'of', 'michelin', 'stars', 'drives', 'chefs', 'and', 'restaurateurs', 'to', 'continually', 'push', 'the', 'boundaries', 'of', 'creativity', 'and', 'excellence', 'in', 'the', 'culinary', 'arts', '.'], ['craft', 'beer', 'brewing', 'has', 'surged', 'in', 'popularity', 'over', 'the', 'past', 'few', 'decades', ',', 'offering', 'beer', 'enthusiasts', 'unique', 'and', 'innovative', 'flavors', 'that', 'differ', 'significantly', 'from', 'mass-produced', 'beers', '.', 'small', ',', 'independent', 'breweries', 'focus', 'on', 'quality', 'ingredients', ',', 'traditional', 'brewing', 'methods', ',', 'and', 'creative', 'recipes', 'to', 'produce', 'distinctive', 'brews', '.', 'the', 'craft', 'beer', 'movement', 'emphasizes', 'the', 'artistry', 'of', 'brewing', ',', 'allowing', 'brewers', 'to', 'experiment', 'with', 'different', 'hops', ',', 'malts', ',', 'yeasts', ',', 'and', 'adjuncts', 'like', 'fruits', ',', 'spices', ',', 'and', 'herbs', '.', 'this', 'has', 'led', 'to', 'a', 'wide', 'variety', 'of', 'beer', 'styles', ',', 'from', 'hoppy', 'ipas', 'and', 'rich', 'stouts', 'to', 'sour', 'ales', 'and', 'crisp', 'lagers', '.', 'the', 'craft', 'beer', 'community', 'fosters', 'a', 'sense', 'of', 'local', 'pride', 'and', 'camaraderie', ',', 'with', 'many', 'breweries', 'engaging', 'with', 'their', 'communities', 'through', 'taprooms', ',', 'events', ',', 'and', 'collaborations', '.', 'the', 'result', 'is', 'a', 'vibrant', 'and', 'diverse', 'beer', 'culture', 'that', 'celebrates', 'creativity', ',', 'innovation', ',', 'and', 'passion', 'for', 'brewing', '.'], ['beer', 'is', 'one', 'of', 'the', 'oldest', 'and', 'most', 'widely', 'consumed', 'alcoholic', 'beverages', 'in', 'the', 'world', ',', 'with', 'a', 'history', 'dating', 'back', 'over', '7,000', 'years', '.', 'originating', 'in', 'ancient', 'mesopotamia', ',', 'early', 'beers', 'were', 'brewed', 'using', 'barley', ',', 'water', ',', 'and', 'wild', 'yeast', ',', 'often', 'flavored', 'with', 'herbs', 'and', 'spices', '.', 'over', 'centuries', ',', 'beer', 'brewing', 'techniques', 'spread', 'and', 'evolved', 'across', 'different', 'cultures', ',', 'notably', 'in', 'egypt', ',', 'china', ',', 'and', 'europe', '.', 'the', 'middle', 'ages', 'saw', 'the', 'rise', 'of', 'monastic', 'breweries', 'in', 'europe', ',', 'where', 'monks', 'refined', 'brewing', 'processes', 'and', 'introduced', 'hops', 'as', 'a', 'preservative', 'and', 'flavoring', 'agent', '.', 'the', 'industrial', 'revolution', 'brought', 'significant', 'advancements', 'in', 'brewing', 'technology', ',', 'including', 'the', 'development', 'of', 'refrigeration', 'and', 'pasteurization', ',', 'which', 'improved', 'beer', 'quality', 'and', 'consistency', '.', 'today', ',', 'beer', 'continues', 'to', 'evolve', ',', 'with', 'a', 'resurgence', 'of', 'traditional', 'styles', 'and', 'the', 'emergence', 'of', 'new', ',', 'innovative', 'brews', 'driven', 'by', 'the', 'global', 'craft', 'beer', 'movement', '.', 'the', 'rich', 'history', 'of', 'beer', 'reflects', 'its', 'enduring', 'appeal', 'and', 'its', 'ability', 'to', 'adapt', 'and', 'thrive', 'through', 'the', 'ages', '.'], ['brewing', 'beer', 'is', 'a', 'fascinating', 'blend', 'of', 'art', 'and', 'science', ',', 'involving', 'complex', 'biochemical', 'processes', 'that', 'transform', 'basic', 'ingredients', 'into', 'a', 'flavorful', 'beverage', '.', 'the', 'brewing', 'process', 'begins', 'with', 'malting', ',', 'where', 'barley', 'grains', 'are', 'soaked', ',', 'germinated', ',', 'and', 'dried', 'to', 'develop', 'enzymes', 'needed', 'for', 'fermentation', '.', 'the', 'malt', 'is', 'then', 'mashed', 'with', 'hot', 'water', 'to', 'convert', 'starches', 'into', 'fermentable', 'sugars', ',', 'creating', 'a', 'sweet', 'liquid', 'called', 'wort', '.', 'hops', 'are', 'added', 'during', 'the', 'boil', 'to', 'impart', 'bitterness', ',', 'aroma', ',', 'and', 'flavor', ',', 'while', 'also', 'acting', 'as', 'a', 'natural', 'preservative', '.', 'after', 'boiling', ',', 'the', 'wort', 'is', 'cooled', 'and', 'yeast', 'is', 'introduced', 'to', 'initiate', 'fermentation', ',', 'where', 'sugars', 'are', 'converted', 'into', 'alcohol', 'and', 'carbon', 'dioxide', '.', 'the', 'fermentation', 'process', 'can', 'vary', 'in', 'duration', 'and', 'temperature', ',', 'influencing', 'the', 'beer', \"'s\", 'final', 'characteristics', '.', 'after', 'fermentation', ',', 'the', 'beer', 'is', 'conditioned', ',', 'filtered', ',', 'and', 'packaged', 'for', 'consumption', '.', 'each', 'step', 'in', 'the', 'brewing', 'process', 'requires', 'careful', 'control', 'and', 'precision', 'to', 'ensure', 'the', 'desired', 'outcome', ',', 'making', 'brewing', 'both', 'a', 'technical', 'and', 'creative', 'endeavor', '.'], ['the', 'world', 'of', 'beer', 'is', 'incredibly', 'diverse', ',', 'with', 'a', 'multitude', 'of', 'styles', 'that', 'reflect', 'regional', 'brewing', 'traditions', 'and', 'local', 'ingredients', '.', 'european', 'countries', 'like', 'belgium', ',', 'germany', ',', 'and', 'the', 'united', 'kingdom', 'have', 'long-standing', 'beer', 'cultures', ',', 'producing', 'iconic', 'styles', 'such', 'as', 'belgian', 'trappist', 'ales', ',', 'german', 'lagers', ',', 'and', 'british', 'bitters', '.', 'belgian', 'beers', 'are', 'known', 'for', 'their', 'complex', 'flavors', 'and', 'high', 'fermentation', 'temperatures', ',', 'resulting', 'in', 'unique', 'fruity', 'and', 'spicy', 'notes', '.', 'german', 'beers', ',', 'particularly', 'lagers', 'like', 'pilsners', 'and', 'bocks', ',', 'are', 'celebrated', 'for', 'their', 'clean', ',', 'crisp', 'profiles', 'and', 'adherence', 'to', 'the', 'reinheitsgebot', ',', 'the', 'german', 'beer', 'purity', 'law', '.', 'in', 'contrast', ',', 'british', 'ales', 'are', 'typically', 'malt-forward', 'with', 'moderate', 'alcohol', 'content', 'and', 'a', 'focus', 'on', 'drinkability', '.', 'beyond', 'europe', ',', 'countries', 'like', 'the', 'united', 'states', ',', 'japan', ',', 'and', 'brazil', 'have', 'developed', 'vibrant', 'beer', 'scenes', ',', 'each', 'contributing', 'their', 'own', 'styles', 'and', 'innovations', '.', 'american', 'craft', 'breweries', 'are', 'renowned', 'for', 'their', 'hoppy', 'ipas', 'and', 'experimental', 'brews', ',', 'while', 'japanese', 'breweries', 'blend', 'traditional', 'techniques', 'with', 'unique', 'local', 'ingredients', 'like', 'rice', 'and', 'yuzu', '.', 'brazilian', 'breweries', 'often', 'incorporate', 'tropical', 'fruits', 'and', 'spices', ',', 'creating', 'refreshing', 'and', 'distinctive', 'beers', '.', 'this', 'global', 'tapestry', 'of', 'beer', 'styles', 'offers', 'endless', 'exploration', 'for', 'beer', 'lovers', ',', 'showcasing', 'the', 'cultural', 'richness', 'and', 'creativity', 'of', 'brewing', 'traditions', 'worldwide', '.'], ['seoul', ',', 'the', 'vibrant', 'capital', 'of', 'south', 'korea', ',', 'is', 'a', 'city', 'where', 'ancient', 'traditions', 'seamlessly', 'blend', 'with', 'cutting-edge', 'modernity', '.', 'home', 'to', 'over', '10', 'million', 'residents', ',', 'seoul', 'is', 'a', 'bustling', 'metropolis', 'that', 'offers', 'a', 'rich', 'tapestry', 'of', 'cultural', ',', 'historical', ',', 'and', 'technological', 'wonders', '.', 'the', 'cityscape', 'is', 'dominated', 'by', 'towering', 'skyscrapers', ',', 'high-tech', 'infrastructure', ',', 'and', 'expansive', 'shopping', 'districts', 'like', 'myeongdong', 'and', 'gangnam', ',', 'reflecting', 'its', 'status', 'as', 'a', 'global', 'economic', 'powerhouse', '.', 'yet', ',', 'amidst', 'this', 'urban', 'sprawl', ',', 'pockets', 'of', 'history', 'and', 'tranquility', 'can', 'be', 'found', 'in', 'the', 'form', 'of', 'ancient', 'palaces', ',', 'traditional', 'hanok', 'villages', ',', 'and', 'serene', 'temples', '.', 'gyeongbokgung', 'palace', 'and', 'bukchon', 'hanok', 'village', 'offer', 'glimpses', 'into', 'seoul', '’', 's', 'royal', 'past', 'and', 'traditional', 'korean', 'architecture', '.', 'seoul', 'is', 'also', 'a', 'hub', 'of', 'innovation', 'and', 'creativity', ',', 'particularly', 'evident', 'in', 'its', 'thriving', 'tech', 'industry', 'and', 'vibrant', 'k-pop', 'culture', '.', 'the', 'city', '’', 's', 'districts', 'are', 'known', 'for', 'their', 'unique', 'characteristics', ';', 'hongdae', 'pulses', 'with', 'youthful', 'energy', 'and', 'indie', 'music', ',', 'while', 'itaewon', 'is', 'famous', 'for', 'its', 'international', 'flair', 'and', 'diverse', 'culinary', 'scene', '.', 'food', 'is', 'a', 'significant', 'part', 'of', 'seoul', \"'s\", 'appeal', ',', 'with', 'a', 'gastronomic', 'landscape', 'that', 'ranges', 'from', 'bustling', 'street', 'markets', 'offering', 'tteokbokki', 'and', 'hotteok', 'to', 'upscale', 'restaurants', 'serving', 'modern', 'takes', 'on', 'korean', 'cuisine', '.', 'the', 'city', \"'s\", 'extensive', 'public', 'transportation', 'system', ',', 'including', 'one', 'of', 'the', 'world', '’', 's', 'most', 'efficient', 'subway', 'networks', ',', 'makes', 'it', 'easy', 'to', 'explore', 'its', 'many', 'attractions', '.', 'whether', 'walking', 'along', 'the', 'han', 'river', ',', 'hiking', 'in', 'the', 'nearby', 'bukhansan', 'national', 'park', ',', 'or', 'experiencing', 'the', 'night', 'markets', 'and', 'vibrant', 'nightlife', ',', 'seoul', 'offers', 'a', 'dynamic', 'and', 'multifaceted', 'experience', 'that', 'captures', 'the', 'essence', 'of', 'both', 'the', 'old', 'and', 'the', 'new', 'korea', '.', 'as', 'a', 'city', 'that', 'continually', 'evolves', 'while', 'honoring', 'its', 'rich', 'heritage', ',', 'seoul', 'remains', 'a', 'captivating', 'destination', 'for', 'travelers', 'and', 'a', 'dynamic', 'place', 'for', 'its', 'residents', '.'], [\"''\", 'the', 'terminator', ',', \"''\", 'released', 'in', '1984', ',', 'is', 'a', 'seminal', 'science', 'fiction', 'film', 'that', 'has', 'left', 'an', 'indelible', 'mark', 'on', 'popular', 'culture', 'and', 'the', 'genre', 'itself', '.', 'directed', 'by', 'james', 'cameron', 'and', 'starring', 'arnold', 'schwarzenegger', ',', 'linda', 'hamilton', ',', 'and', 'michael', 'biehn', ',', 'the', 'movie', 'introduced', 'audiences', 'to', 'a', 'dystopian', 'future', 'where', 'machines', ',', 'led', 'by', 'an', 'ai', 'called', 'skynet', ',', 'have', 'taken', 'over', 'the', 'world', '.', 'schwarzenegger', \"'s\", 'portrayal', 'of', 'the', 'relentless', ',', 'nearly', 'indestructible', 'cyborg', 'assassin', 'sent', 'back', 'in', 'time', 'to', 'kill', 'sarah', 'connor', '(', 'played', 'by', 'hamilton', ')', 'is', 'iconic', ',', 'establishing', 'his', 'career', 'and', 'the', 'film', \"'s\", 'place', 'in', 'cinematic', 'history', '.', 'the', 'film', \"'s\", 'blend', 'of', 'thrilling', 'action', ',', 'innovative', 'special', 'effects', ',', 'and', 'a', 'compelling', 'narrative', 'about', 'the', 'struggle', 'between', 'humanity', 'and', 'artificial', 'intelligence', 'resonated', 'deeply', 'with', 'audiences', '.', '``', 'the', 'terminator', \"''\", 'explores', 'themes', 'of', 'fate', ',', 'technological', 'advancement', ',', 'and', 'the', 'resilience', 'of', 'the', 'human', 'spirit', '.', 'its', 'memorable', 'lines', ',', 'such', 'as', '``', 'i', \"'ll\", 'be', 'back', ',', \"''\", 'have', 'become', 'ingrained', 'in', 'pop', 'culture', '.', 'the', 'success', 'of', '``', 'the', 'terminator', \"''\", 'spawned', 'a', 'franchise', 'that', 'includes', 'multiple', 'sequels', ',', 'tv', 'series', ',', 'comics', ',', 'and', 'novels', '.', '``', 'terminator', '2', ':', 'judgment', 'day', ',', \"''\", 'released', 'in', '1991', ',', 'is', 'particularly', 'acclaimed', 'for', 'its', 'groundbreaking', 'special', 'effects', 'and', 'deeper', 'exploration', 'of', 'the', 'characters', 'and', 'themes', 'introduced', 'in', 'the', 'first', 'film', '.', 'the', 'franchise', \"'s\", 'impact', 'extends', 'beyond', 'entertainment', ',', 'influencing', 'discussions', 'about', 'ai', ',', 'robotics', ',', 'and', 'the', 'potential', 'consequences', 'of', 'technological', 'advancements', '.', '``', 'the', 'terminator', \"''\", 'remains', 'a', 'cornerstone', 'of', 'science', 'fiction', 'cinema', ',', 'continually', 'attracting', 'new', 'generations', 'of', 'fans', '.', 'its', 'enduring', 'appeal', 'lies', 'in', 'its', 'thrilling', 'storytelling', ',', 'iconic', 'performances', ',', 'and', 'the', 'profound', 'questions', 'it', 'raises', 'about', 'the', 'future', 'of', 'humanity', 'in', 'an', 'increasingly', 'technological', 'world', '.'], [\"''\", 'parasite', ',', \"''\", 'directed', 'by', 'bong', 'joon-ho', ',', 'is', 'a', 'groundbreaking', 'film', 'that', 'garnered', 'international', 'acclaim', 'and', 'made', 'history', 'at', 'the', '2020', 'academy', 'awards', 'by', 'becoming', 'the', 'first', 'non-english', 'language', 'film', 'to', 'win', 'best', 'picture', '.', 'the', 'film', '’', 's', 'narrative', 'is', 'a', 'darkly', 'comedic', 'and', 'suspenseful', 'exploration', 'of', 'class', 'disparity', 'and', 'social', 'inequality', 'in', 'modern', 'south', 'korea', '.', 'it', 'tells', 'the', 'story', 'of', 'the', 'kim', 'family', ',', 'who', 'cunningly', 'infiltrate', 'the', 'wealthy', 'park', 'household', 'by', 'securing', 'various', 'positions', 'within', 'the', 'park', \"'s\", 'home', ',', 'only', 'to', 'have', 'their', 'lives', 'intertwined', 'in', 'increasingly', 'complex', 'and', 'dangerous', 'ways', '.', 'the', 'brilliance', 'of', '``', 'parasite', \"''\", 'lies', 'in', 'its', 'masterful', 'storytelling', ',', 'characterized', 'by', 'sharp', 'social', 'commentary', ',', 'rich', 'character', 'development', ',', 'and', 'unexpected', 'plot', 'twists', '.', 'bong', 'joon-ho', 'skillfully', 'balances', 'humor', ',', 'tension', ',', 'and', 'tragedy', ',', 'creating', 'a', 'film', 'that', 'is', 'both', 'entertaining', 'and', 'thought-provoking', '.', 'the', 'stark', 'contrast', 'between', 'the', 'kim', 'family', \"'s\", 'cramped', ',', 'semi-basement', 'apartment', 'and', 'the', 'parks', \"'\", 'luxurious', ',', 'architecturally', 'stunning', 'home', 'visually', 'underscores', 'the', 'vast', 'economic', 'divide', '.', '``', 'parasite', \"''\", 'delves', 'deep', 'into', 'the', 'themes', 'of', 'class', 'struggle', ',', 'exposing', 'the', 'precariousness', 'of', 'the', 'lower', 'class', 'and', 'the', 'obliviousness', 'of', 'the', 'wealthy', '.', 'the', 'film', '’', 's', 'title', 'itself', 'is', 'a', 'reflection', 'of', 'the', 'parasitic', 'relationships', 'depicted', ',', 'challenging', 'viewers', 'to', 'consider', 'who', 'the', 'true', 'parasites', 'are', 'in', 'a', 'system', 'that', 'perpetuates', 'inequality', '.', 'the', 'film', \"'s\", 'success', 'has', 'had', 'a', 'significant', 'cultural', 'impact', ',', 'sparking', 'discussions', 'about', 'social', 'issues', 'not', 'only', 'in', 'south', 'korea', 'but', 'around', 'the', 'world', '.', 'its', 'universal', 'themes', 'resonate', 'across', 'different', 'cultures', ',', 'making', 'it', 'a', 'powerful', 'commentary', 'on', 'the', 'human', 'condition', 'and', 'the', 'structural', 'disparities', 'that', 'exist', 'in', 'society', '.', '``', 'parasite', \"''\", 'also', 'paved', 'the', 'way', 'for', 'greater', 'recognition', 'of', 'south', 'korean', 'cinema', 'on', 'the', 'global', 'stage', ',', 'highlighting', 'the', 'country', \"'s\", 'unique', 'storytelling', 'and', 'cinematic', 'prowess', '.', 'bong', 'joon-ho', \"'s\", 'achievement', 'has', 'inspired', 'filmmakers', 'and', 'audiences', 'alike', ',', 'demonstrating', 'the', 'potential', 'of', 'international', 'films', 'to', 'transcend', 'language', 'barriers', 'and', 'cultural', 'differences', '.']]\n"
     ]
    }
   ],
   "source": [
    "print(docs)"
   ]
  },
  {
   "cell_type": "code",
   "execution_count": 50,
   "id": "1c67d2bc-9ff0-4d93-bf0a-1b2287e5e2e5",
   "metadata": {},
   "outputs": [],
   "source": [
    "\"\"\"\n",
    "    Implement this function.\n",
    "    Arguments.\n",
    "        docs: a list of token lists\n",
    "\n",
    "    Returns\n",
    "        tfidf_dict: dict, key is word, value is tfidf score.\n",
    "\"\"\"\n",
    "def compute_tfidf(docs):\n",
    "    tfidf_dict = {}\n",
    "    \n",
    "    for doc_index, d in enumerate(docs):\n",
    "        for t in d:\n",
    "            if t not in tfidf_dict:\n",
    "                tfidf_dict[t] = [0 for _ in range(len(docs))] # initialize\n",
    "            tfidf_dict[t][doc_index] += 1 # tf\n",
    "    \n",
    "    N = len(docs)\n",
    "    for i in tfidf_dict:\n",
    "        f = sum(1 for x in tfidf_dict[i] if x != 0)\n",
    "        idf = 1 + np.log(N/f) # idf\n",
    "        tfidf_dict[i] = [x*idf for x in tfidf_dict[i]] # update tfidf_dict\n",
    "\n",
    "\n",
    "    \n",
    "    return tfidf_dict"
   ]
  },
  {
   "cell_type": "code",
   "execution_count": 51,
   "id": "a8af9fc8-ce35-4534-9359-50974eb6d9e3",
   "metadata": {},
   "outputs": [
    {
     "name": "stdout",
     "output_type": "stream",
     "text": [
      "[0.0, 3.6390573296152584, 0.0, 0.0, 0.0, 0.0, 0.0, 0.0, 0.0, 0.0, 0.0, 0.0, 0.0, 0.0] [0.0, 0.0, 0.0, 0.0, 0.0, 0.0, 0.0, 13.516577810972208, 13.516577810972208, 6.758288905486104, 13.516577810972208, 0.0, 0.0, 0.0] [0.0, 0.0, 0.0, 3.6390573296152584, 0.0, 0.0, 0.0, 0.0, 0.0, 0.0, 0.0, 0.0, 0.0, 0.0]\n"
     ]
    }
   ],
   "source": [
    "tfidf_dict = compute_tfidf(docs)\n",
    "print(tfidf_dict[\"gpu\"], tfidf_dict[\"beer\"], tfidf_dict[\"make\"])"
   ]
  },
  {
   "cell_type": "code",
   "execution_count": null,
   "id": "508739aa-ff62-4892-8911-04fa624e3ec1",
   "metadata": {},
   "outputs": [],
   "source": []
  }
 ],
 "metadata": {
  "kernelspec": {
   "display_name": "Python 3 (ipykernel)",
   "language": "python",
   "name": "python3"
  },
  "language_info": {
   "codemirror_mode": {
    "name": "ipython",
    "version": 3
   },
   "file_extension": ".py",
   "mimetype": "text/x-python",
   "name": "python",
   "nbconvert_exporter": "python",
   "pygments_lexer": "ipython3",
   "version": "3.10.9"
  }
 },
 "nbformat": 4,
 "nbformat_minor": 5
}
